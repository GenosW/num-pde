{
 "cells": [
  {
   "cell_type": "code",
   "execution_count": null,
   "metadata": {},
   "outputs": [],
   "source": [
    "import netgen.gui\n",
    "from ngsolve import *\n",
    "import numpy as np\n",
    "import scipy.sparse as sp\n",
    "from scipy.sparse.linalg import inv\n",
    "from scipy.sparse.linalg import spsolve\n",
    "from scipy import random"
   ]
  },
  {
   "cell_type": "code",
   "execution_count": null,
   "metadata": {},
   "outputs": [],
   "source": [
    "from netgen.geom2d import unit_square\n",
    "mesh = Mesh(unit_square.GenerateMesh(maxh=0.05))\n",
    "Draw (mesh)\n"
   ]
  },
  {
   "cell_type": "code",
   "execution_count": null,
   "metadata": {},
   "outputs": [],
   "source": [
    "fes = H1(mesh, order=3,dirichlet=\".*\")\n",
    "gfu_jac = GridFunction(fes)\n",
    "gfu_dir = GridFunction(fes)\n"
   ]
  },
  {
   "cell_type": "code",
   "execution_count": null,
   "metadata": {},
   "outputs": [],
   "source": [
    "def SolveCG(mat, pre , sol, rhs, maxsteps, tol, printrate):\n",
    "    u0=sol.CreateVector()\n",
    "    u0.data=sol.data \n",
    "    d0=sol.CreateVector()\n",
    "    d0.data=rhs-mat*u0.data\n",
    "    p0=sol.CreateVector()\n",
    "    p0.data=pre*d0.data\n",
    "    res_next = sol.CreateVector()\n",
    "\n",
    "    #create vectors for loop\n",
    "    alpha=0\n",
    "    u_next=sol.CreateVector()\n",
    "    d_next=sol.CreateVector()\n",
    "    beta=0\n",
    "    p_next=sol.CreateVector()\n",
    "    Cinvd=sol.CreateVector()\n",
    "    Ap=sol.CreateVector()\n",
    "    Cinvd_next=sol.CreateVector()\n",
    "    iterator=0\n",
    "    err=1000\n",
    "\n",
    "\n",
    "    while err>tol and iterator<maxsteps:\n",
    "        Cinvd.data=pre*d0.data\n",
    "        Ap.data=mat*p0.data\n",
    "        alpha=InnerProduct(d0.data,Cinvd.data)/InnerProduct(p0.data,Ap)\n",
    "        u_next.data=u0.data+alpha*p0.data\n",
    "        d_next.data=d0.data-alpha*Ap.data\n",
    "        Cinvd_next.data=pre*d_next.data\n",
    "        beta=InnerProduct(d_next.data, Cinvd_next.data)/InnerProduct(d0.data,Cinvd.data)\n",
    "        p_next.data=Cinvd_next.data+beta*p0.data\n",
    "        err=sqrt(InnerProduct(d_next.data,Cinvd_next.data))\n",
    "        u0.data=u_next.data\n",
    "        d0.data=d_next.data\n",
    "        p0.data=p_next.data\n",
    "\n",
    "        if(printrate):\n",
    "            print(\"Iteration number:\", iterator)\n",
    "            print(\"Error after the iteration step:\", err)\n",
    "            #print(u_next.FV().NumPy()[:])\n",
    "\n",
    "        iterator += 1\n",
    "\n",
    "    return u_next"
   ]
  },
  {
   "cell_type": "code",
   "execution_count": null,
   "metadata": {},
   "outputs": [],
   "source": [
    "u = fes.TrialFunction()\n",
    "v = fes.TestFunction()\n",
    "\n",
    "A = BilinearForm(fes)\n",
    "F = LinearForm(fes)\n",
    "\n",
    "A += grad(u)*grad(v)*dx\n",
    "\n",
    "F += v*dx\n",
    "\n",
    "A.Assemble()\n",
    "F.Assemble()\n",
    "\n",
    "\n",
    "c_jac = Preconditioner(A,\"local\")\n",
    "c_jac.Update()\n",
    "\n",
    "c_dir = Preconditioner(A, \"direct\")\n",
    "c_dir.Update()\n",
    "\n",
    "with TaskManager():\n",
    "    gfu_new_1 = SolveCG(A.mat,c_jac.mat,gfu_jac.vec,F.vec,200,1e-16,True)\n",
    "    \n",
    "    gfu_new_2 = SolveCG(A.mat,c_dir.mat,gfu_dir.vec,F.vec,200,1e-16,True)\n",
    "\n",
    "gif_jac = GridFunction(fes,name = \"gif_jac\")\n",
    "gif_jac.vec.FV().NumPy()[:] = gfu_new_1\n",
    "\n",
    "gif_dir = GridFunction(fes,name = \"gif_dir\")\n",
    "gif_dir.vec.FV().NumPy()[:] = gfu_new_2\n",
    "#gfu_a.vec.data = Aa.mat.Inverse(fes.FreeDofs()) * Fa.vec\n",
    "\n",
    "Draw(gif_jac)\n",
    "Draw(gif_dir)"
   ]
  },
  {
   "cell_type": "code",
   "execution_count": null,
   "metadata": {},
   "outputs": [],
   "source": [
    "from ngsolve.solvers import CG"
   ]
  },
  {
   "cell_type": "code",
   "execution_count": null,
   "metadata": {},
   "outputs": [],
   "source": [
    "u = fes.TrialFunction()\n",
    "v = fes.TestFunction()\n",
    "\n",
    "A = BilinearForm(fes)\n",
    "F = LinearForm(fes)\n",
    "\n",
    "A += grad(u)*grad(v)*dx\n",
    "\n",
    "F += v*dx\n",
    "\n",
    "A.Assemble()\n",
    "F.Assemble()\n",
    "\n",
    "\n",
    "\n",
    "c_dir = Preconditioner(A, \"direct\")\n",
    "c_dir.Update()\n",
    "\n",
    "data = []\n",
    "callback = lambda k_jac,r_jac: data.append((k_jac,r_jac))\n",
    "\n",
    "with TaskManager():\n",
    "    #CG(A.mat,c_dir.mat,gfu_dir.vec,F.vec,200,1e-16,True)\n",
    "    CG(mat=A.mat,pre=c_dir.mat,rhs=F.vec,sol=gfu_dir.vec,printrates=True,maxsteps=10000,tol=1e-16,callback = callback)\n",
    "#Draw(gif_b)"
   ]
  },
  {
   "cell_type": "code",
   "execution_count": null,
   "metadata": {},
   "outputs": [],
   "source": []
  }
 ],
 "metadata": {
  "kernelspec": {
   "display_name": "Python 3",
   "language": "python",
   "name": "python3"
  },
  "language_info": {
   "codemirror_mode": {
    "name": "ipython",
    "version": 3
   },
   "file_extension": ".py",
   "mimetype": "text/x-python",
   "name": "python",
   "nbconvert_exporter": "python",
   "pygments_lexer": "ipython3",
   "version": "3.7.5"
  }
 },
 "nbformat": 4,
 "nbformat_minor": 4
}
