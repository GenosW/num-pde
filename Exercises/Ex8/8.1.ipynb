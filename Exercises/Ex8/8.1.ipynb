{
 "cells": [
  {
   "cell_type": "code",
   "execution_count": 1,
   "metadata": {},
   "outputs": [],
   "source": [
    "import netgen.gui\n",
    "from ngsolve import *\n",
    "import numpy as np\n",
    "\n",
    "\n",
    "from ngsolve.solvers import CG"
   ]
  },
  {
   "cell_type": "code",
   "execution_count": 2,
   "metadata": {},
   "outputs": [],
   "source": [
    "from netgen.geom2d import unit_square\n",
    "mesh = Mesh(unit_square.GenerateMesh(maxh=0.5))\n",
    "Draw (mesh)"
   ]
  },
  {
   "cell_type": "code",
   "execution_count": 3,
   "metadata": {},
   "outputs": [],
   "source": [
    "fes = H1(mesh, order=3,dirichlet=\".*\")\n",
    "gfu_a = GridFunction(fes,name = \"u_a\")\n",
    "gfu_b = GridFunction(fes,name = \"u_b\")"
   ]
  },
  {
   "cell_type": "code",
   "execution_count": 4,
   "metadata": {},
   "outputs": [
    {
     "name": "stderr",
     "output_type": "stream",
     "text": [
      "iteration 0 error = 1.3964240043768876\n",
      "iteration 1 error = 0.2490974131598827\n",
      "iteration 2 error = 0.06059874043906732\n",
      "iteration 3 error = 0.07504739965452975\n",
      "iteration 4 error = 0.022041316810647506\n",
      "iteration 5 error = 1.3901873556413582e-15\n"
     ]
    }
   ],
   "source": [
    "ua = fes.TrialFunction()\n",
    "va = fes.TestFunction()\n",
    "\n",
    "Aa = BilinearForm(fes)\n",
    "Fa = LinearForm(fes)\n",
    "\n",
    "Aa += ua*va*dx\n",
    "\n",
    "Fa += va*dx\n",
    "\n",
    "Aa.Assemble()\n",
    "Fa.Assemble()\n",
    "\n",
    "c = Preconditioner(Aa,\"local\",test = True)\n",
    "c.Update()\n",
    "\n",
    "#gfu_a.vec.data = Aa.mat.Inverse(fes.FreeDofs()) * Fa.vec\n",
    "\n",
    "with TaskManager():\n",
    "    CG (mat=Aa.mat, pre=c.mat, rhs=Fa.vec, sol=gfu_a.vec,printrates=True, maxsteps=10000,tol=1e-9)\n",
    "Draw(gfu_a)\n",
    "\n",
    "#Draw(gfu_a)"
   ]
  },
  {
   "cell_type": "code",
   "execution_count": 5,
   "metadata": {},
   "outputs": [],
   "source": [
    "ub = fes.TrialFunction()\n",
    "vb = fes.TestFunction()\n",
    "\n",
    "Ab = BilinearForm(fes)\n",
    "Fb = LinearForm(fes)\n",
    "\n",
    "Ab += grad(ub)*grad(vb)*dx\n",
    "\n",
    "Fb += vb*dx\n",
    "\n",
    "Ab.Assemble()\n",
    "Fb.Assemble()\n",
    "\n",
    "gfu_b.vec.data = Ab.mat.Inverse(fes.FreeDofs()) * Fb.vec\n",
    "\n",
    "Draw(gfu_b)"
   ]
  },
  {
   "cell_type": "code",
   "execution_count": 1,
   "metadata": {},
   "outputs": [
    {
     "name": "stdout",
     "output_type": "stream",
     "text": [
      "num:  0 maxh 0.5\n"
     ]
    },
    {
     "ename": "NameError",
     "evalue": "name 'Mesh' is not defined",
     "output_type": "error",
     "traceback": [
      "\u001b[0;31m---------------------------------------------------------------------------\u001b[0m",
      "\u001b[0;31mNameError\u001b[0m                                 Traceback (most recent call last)",
      "\u001b[0;32m<ipython-input-1-9eff0da8e01d>\u001b[0m in \u001b[0;36m<module>\u001b[0;34m\u001b[0m\n\u001b[1;32m      5\u001b[0m     \u001b[0mh\u001b[0m \u001b[0;34m=\u001b[0m \u001b[0;36m0.5\u001b[0m\u001b[0;34m/\u001b[0m\u001b[0mhi\u001b[0m\u001b[0;34m\u001b[0m\u001b[0;34m\u001b[0m\u001b[0m\n\u001b[1;32m      6\u001b[0m     \u001b[0mprint\u001b[0m\u001b[0;34m(\u001b[0m\u001b[0;34m\"num: \"\u001b[0m\u001b[0;34m,\u001b[0m\u001b[0mj\u001b[0m\u001b[0;34m,\u001b[0m\u001b[0;34m\"maxh\"\u001b[0m\u001b[0;34m,\u001b[0m\u001b[0mh\u001b[0m\u001b[0;34m)\u001b[0m\u001b[0;34m\u001b[0m\u001b[0;34m\u001b[0m\u001b[0m\n\u001b[0;32m----> 7\u001b[0;31m     \u001b[0mmesh\u001b[0m \u001b[0;34m=\u001b[0m \u001b[0mMesh\u001b[0m\u001b[0;34m(\u001b[0m\u001b[0munit_square\u001b[0m\u001b[0;34m.\u001b[0m\u001b[0mGenerateMesh\u001b[0m\u001b[0;34m(\u001b[0m\u001b[0mmaxh\u001b[0m\u001b[0;34m=\u001b[0m\u001b[0mh\u001b[0m\u001b[0;34m)\u001b[0m\u001b[0;34m)\u001b[0m\u001b[0;34m\u001b[0m\u001b[0;34m\u001b[0m\u001b[0m\n\u001b[0m\u001b[1;32m      8\u001b[0m     \u001b[0mfes\u001b[0m \u001b[0;34m=\u001b[0m \u001b[0mH1\u001b[0m\u001b[0;34m(\u001b[0m\u001b[0mmesh\u001b[0m\u001b[0;34m,\u001b[0m \u001b[0morder\u001b[0m\u001b[0;34m=\u001b[0m\u001b[0;36m6\u001b[0m\u001b[0;34m,\u001b[0m\u001b[0mdirichlet\u001b[0m\u001b[0;34m=\u001b[0m\u001b[0;34m\".*\"\u001b[0m\u001b[0;34m)\u001b[0m\u001b[0;34m\u001b[0m\u001b[0;34m\u001b[0m\u001b[0m\n\u001b[1;32m      9\u001b[0m     \u001b[0mgfu_a\u001b[0m \u001b[0;34m=\u001b[0m \u001b[0mGridFunction\u001b[0m\u001b[0;34m(\u001b[0m\u001b[0mfes\u001b[0m\u001b[0;34m,\u001b[0m\u001b[0mname\u001b[0m \u001b[0;34m=\u001b[0m \u001b[0;34m\"u_a\"\u001b[0m\u001b[0;34m)\u001b[0m\u001b[0;34m\u001b[0m\u001b[0;34m\u001b[0m\u001b[0m\n",
      "\u001b[0;31mNameError\u001b[0m: name 'Mesh' is not defined"
     ]
    }
   ],
   "source": [
    "j = 0\n",
    "num_a = []\n",
    "d_a = []\n",
    "for hi in range(1,20):\n",
    "    h = 0.5/hi\n",
    "    print(\"num: \",j,\"maxh\",h)\n",
    "    mesh = Mesh(unit_square.GenerateMesh(maxh=h))\n",
    "    fes = H1(mesh, order=6,dirichlet=\".*\")\n",
    "    gfu_a = GridFunction(fes,name = \"u_a\")\n",
    "    ua = fes.TrialFunction()\n",
    "    va = fes.TestFunction()\n",
    "\n",
    "    Aa = BilinearForm(fes)\n",
    "    Fa = LinearForm(fes)\n",
    "\n",
    "    Aa += ua*va*dx\n",
    "\n",
    "    Fa += va*dx\n",
    "\n",
    "    Aa.Assemble()\n",
    "    Fa.Assemble()\n",
    "\n",
    "    c = Preconditioner(Aa,\"local\",test = True)\n",
    "    c.Update()\n",
    "    data = []\n",
    "    callback = lambda k,r: data.append((k,r))\n",
    "    #gfu_a.vec.data = Aa.mat.Inverse(fes.FreeDofs()) * Fa.vec\n",
    "\n",
    "    with TaskManager():\n",
    "        CG (mat=Aa.mat, pre=c.mat, rhs=Fa.vec, sol=gfu_a.vec,printrates=False, maxsteps=10000,tol=1e-15,callback = callback)\n",
    "    \n",
    "    num_a.append(len(data))\n",
    "    d_a.append(h)\n",
    "    j = j + 1\n",
    "Draw (mesh)\n",
    "Draw(gfu_a)"
   ]
  },
  {
   "cell_type": "code",
   "execution_count": null,
   "metadata": {},
   "outputs": [],
   "source": [
    "import matplotlib.pyplot as plt\n",
    "\n",
    "plt.plot(d,num)"
   ]
  },
  {
   "cell_type": "code",
   "execution_count": null,
   "metadata": {},
   "outputs": [],
   "source": [
    "j = 0\n",
    "num_b = []\n",
    "d_b = []\n",
    "for hi in range(1,20):\n",
    "    h = 0.5/hi\n",
    "    print(\"num: \",j,\"maxh\",h)\n",
    "    mesh = Mesh(unit_square.GenerateMesh(maxh=h))\n",
    "    fes = H1(mesh, order=6,dirichlet=\".*\")\n",
    "    gfu_b = GridFunction(fes,name = \"u_b\")\n",
    "    ub = fes.TrialFunction()\n",
    "    vb = fes.TestFunction()\n",
    "\n",
    "    Ab = BilinearForm(fes)\n",
    "    Fb = LinearForm(fes)\n",
    "\n",
    "    Ab += grad(ub)*grad(vb)*dx\n",
    "\n",
    "    Fb += vb*dx\n",
    "\n",
    "    Ab.Assemble()\n",
    "    Fb.Assemble()\n",
    "\n",
    "    c = Preconditioner(Ab,\"local\",test = True)\n",
    "    c.Update()\n",
    "    data = []\n",
    "    callback = lambda k,r: data.append((k,r))\n",
    "    #gfu_a.vec.data = Aa.mat.Inverse(fes.FreeDofs()) * Fa.vec\n",
    "\n",
    "    with TaskManager():\n",
    "        CG (mat=Ab.mat, pre=c.mat, rhs=Fb.vec, sol=gfu_b.vec,printrates=False, maxsteps=10000,tol=1e-17,callback = callback)\n",
    "    \n",
    "    num_b.append(len(data))\n",
    "    d_b.append(h)\n",
    "    j = j + 1\n",
    "Draw (mesh)\n",
    "Draw(gfu_b)"
   ]
  },
  {
   "cell_type": "code",
   "execution_count": null,
   "metadata": {},
   "outputs": [],
   "source": [
    "plt.plot(d_a,num_a)\n",
    "plt.plot(d_b,num_b)"
   ]
  },
  {
   "cell_type": "code",
   "execution_count": null,
   "metadata": {},
   "outputs": [],
   "source": [
    "ref_b = []\n",
    "for i in range(len(num_b)):\n",
    "    ref_b.append(100+7.5/d_b[i])"
   ]
  },
  {
   "cell_type": "code",
   "execution_count": null,
   "metadata": {},
   "outputs": [],
   "source": [
    "ref_b"
   ]
  },
  {
   "cell_type": "code",
   "execution_count": null,
   "metadata": {},
   "outputs": [],
   "source": [
    "import matplotlib.pyplot as plt\n",
    "plt.title(\"kondNum vs h\")\n",
    "plt.grid()\n",
    "plt.xlabel(\"h\")\n",
    "plt.ylabel(\"number of iterations\")\n",
    "plt.plot(d_a,num_a,label='kondNum of the massmatrix')\n",
    "plt.plot(d_b,num_b,label='kondNum of the stiffnesmatrix')\n",
    "plt.plot(d_b,ref_b,label='estimate c+O(1/h)')\n",
    "plt.legend()"
   ]
  },
  {
   "cell_type": "code",
   "execution_count": null,
   "metadata": {},
   "outputs": [],
   "source": []
  }
 ],
 "metadata": {
  "kernelspec": {
   "display_name": "Python 3",
   "language": "python",
   "name": "python3"
  },
  "language_info": {
   "codemirror_mode": {
    "name": "ipython",
    "version": 3
   },
   "file_extension": ".py",
   "mimetype": "text/x-python",
   "name": "python",
   "nbconvert_exporter": "python",
   "pygments_lexer": "ipython3",
   "version": "3.7.6"
  }
 },
 "nbformat": 4,
 "nbformat_minor": 4
}
