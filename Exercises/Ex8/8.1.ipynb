{
 "cells": [
  {
   "cell_type": "code",
   "execution_count": 1,
   "metadata": {},
   "outputs": [],
   "source": [
    "import netgen.gui\n",
    "from ngsolve import *\n",
    "import numpy as np\n",
    "\n",
    "\n",
    "from ngsolve.solvers import CG"
   ]
  },
  {
   "cell_type": "code",
   "execution_count": 13,
   "metadata": {},
   "outputs": [],
   "source": [
    "from netgen.geom2d import unit_square\n",
    "mesh = Mesh(unit_square.GenerateMesh(maxh=0.01020408163265306))\n",
    "Draw (mesh)"
   ]
  },
  {
   "cell_type": "code",
   "execution_count": 3,
   "metadata": {},
   "outputs": [],
   "source": [
    "fes = H1(mesh, order=6,dirichlet=\".*\")\n",
    "gfu_a = GridFunction(fes,name = \"u_a\")\n",
    "gfu_b = GridFunction(fes,name = \"u_b\")"
   ]
  },
  {
   "cell_type": "code",
   "execution_count": null,
   "metadata": {},
   "outputs": [],
   "source": [
    "ua = fes.TrialFunction()\n",
    "va = fes.TestFunction()\n",
    "\n",
    "Aa = BilinearForm(fes)\n",
    "Fa = LinearForm(fes)\n",
    "\n",
    "Aa += ua*va*dx\n",
    "\n",
    "Fa += va*dx\n",
    "\n",
    "Aa.Assemble()\n",
    "Fa.Assemble()\n",
    "\n",
    "c = Preconditioner(Aa,\"local\",test = True)\n",
    "c.Update()\n",
    "\n",
    "#gfu_a.vec.data = Aa.mat.Inverse(fes.FreeDofs()) * Fa.vec\n",
    "\n",
    "with TaskManager():\n",
    "    CG (mat=Aa.mat, pre=c.mat, rhs=Fa.vec, sol=gfu_a.vec,printrates=True, maxsteps=10000,tol=1e-9)\n",
    "Draw(gfu_a)\n",
    "\n",
    "#Draw(gfu_a)"
   ]
  },
  {
   "cell_type": "code",
   "execution_count": null,
   "metadata": {},
   "outputs": [],
   "source": [
    "ub = fes.TrialFunction()\n",
    "vb = fes.TestFunction()\n",
    "\n",
    "Ab = BilinearForm(fes)\n",
    "Fb = LinearForm(fes)\n",
    "\n",
    "Ab += grad(ub)*grad(vb)*dx\n",
    "\n",
    "Fb += vb*dx\n",
    "\n",
    "Ab.Assemble()\n",
    "Fb.Assemble()\n",
    "\n",
    "gfu_b.vec.data = Ab.mat.Inverse(fes.FreeDofs()) * Fb.vec\n",
    "\n",
    "Draw(gfu_b)"
   ]
  },
  {
   "cell_type": "code",
   "execution_count": 33,
   "metadata": {},
   "outputs": [
    {
     "name": "stdout",
     "output_type": "stream",
     "text": [
      "maxh 0.5\n",
      "maxh 0.25\n",
      "maxh 0.16666666666666666\n",
      "maxh 0.125\n",
      "maxh 0.1\n",
      "maxh 0.08333333333333333\n",
      "maxh 0.07142857142857142\n",
      "maxh 0.0625\n",
      "maxh 0.05555555555555555\n",
      "maxh 0.05\n",
      "maxh 0.045454545454545456\n",
      "maxh 0.041666666666666664\n",
      "maxh 0.038461538461538464\n",
      "maxh 0.03571428571428571\n",
      "maxh 0.03333333333333333\n",
      "maxh 0.03125\n",
      "maxh 0.029411764705882353\n",
      "maxh 0.027777777777777776\n",
      "maxh 0.02631578947368421\n",
      "maxh 0.025\n",
      "maxh 0.023809523809523808\n",
      "maxh 0.022727272727272728\n",
      "maxh 0.021739130434782608\n",
      "maxh 0.020833333333333332\n",
      "maxh 0.02\n",
      "maxh 0.019230769230769232\n",
      "maxh 0.018518518518518517\n",
      "maxh 0.017857142857142856\n",
      "maxh 0.017241379310344827\n",
      "maxh 0.016666666666666666\n",
      "maxh 0.016129032258064516\n",
      "maxh 0.015625\n",
      "maxh 0.015151515151515152\n",
      "maxh 0.014705882352941176\n",
      "maxh 0.014285714285714285\n",
      "maxh 0.013888888888888888\n",
      "maxh 0.013513513513513514\n",
      "maxh 0.013157894736842105\n",
      "maxh 0.01282051282051282\n"
     ]
    }
   ],
   "source": [
    "j = 0\n",
    "num_a = []\n",
    "d_a = []\n",
    "for hi in range(1,40):\n",
    "    h = 0.5/hi\n",
    "    print(\"maxh\",h)\n",
    "    mesh = Mesh(unit_square.GenerateMesh(maxh=h))\n",
    "    fes = H1(mesh, order=6,dirichlet=\".*\")\n",
    "    gfu_a = GridFunction(fes,name = \"u_a\")\n",
    "    ua = fes.TrialFunction()\n",
    "    va = fes.TestFunction()\n",
    "\n",
    "    Aa = BilinearForm(fes)\n",
    "    Fa = LinearForm(fes)\n",
    "\n",
    "    Aa += ua*va*dx\n",
    "\n",
    "    Fa += va*dx\n",
    "\n",
    "    Aa.Assemble()\n",
    "    Fa.Assemble()\n",
    "\n",
    "    c = Preconditioner(Aa,\"local\",test = True)\n",
    "    c.Update()\n",
    "    data = []\n",
    "    callback = lambda k,r: data.append((k,r))\n",
    "    #gfu_a.vec.data = Aa.mat.Inverse(fes.FreeDofs()) * Fa.vec\n",
    "\n",
    "    with TaskManager():\n",
    "        CG (mat=Aa.mat, pre=c.mat, rhs=Fa.vec, sol=gfu_a.vec,printrates=False, maxsteps=10000,tol=1e-15,callback = callback)\n",
    "    \n",
    "    num_a.append(len(data))\n",
    "    d_a.append(h)\n",
    "    j = j + 1\n",
    "Draw (mesh)\n",
    "Draw(gfu_a)"
   ]
  },
  {
   "cell_type": "code",
   "execution_count": 26,
   "metadata": {},
   "outputs": [
    {
     "data": {
      "text/plain": [
       "[<matplotlib.lines.Line2D at 0x7f0431f19990>]"
      ]
     },
     "execution_count": 26,
     "metadata": {},
     "output_type": "execute_result"
    },
    {
     "data": {
      "image/png": "[encoded data removed]",
      "text/plain": [
       "<Figure size 432x288 with 1 Axes>"
      ]
     },
     "metadata": {
      "needs_background": "light"
     },
     "output_type": "display_data"
    }
   ],
   "source": [
    "import matplotlib.pyplot as plt\n",
    "\n",
    "plt.plot(d,num)"
   ]
  },
  {
   "cell_type": "code",
   "execution_count": 34,
   "metadata": {},
   "outputs": [
    {
     "name": "stdout",
     "output_type": "stream",
     "text": [
      "maxh 0.5\n",
      "maxh 0.25\n",
      "maxh 0.16666666666666666\n",
      "maxh 0.125\n",
      "maxh 0.1\n",
      "maxh 0.08333333333333333\n",
      "maxh 0.07142857142857142\n",
      "maxh 0.0625\n",
      "maxh 0.05555555555555555\n",
      "maxh 0.05\n",
      "maxh 0.045454545454545456\n",
      "maxh 0.041666666666666664\n",
      "maxh 0.038461538461538464\n",
      "maxh 0.03571428571428571\n",
      "maxh 0.03333333333333333\n",
      "maxh 0.03125\n",
      "maxh 0.029411764705882353\n",
      "maxh 0.027777777777777776\n",
      "maxh 0.02631578947368421\n",
      "maxh 0.025\n",
      "maxh 0.023809523809523808\n",
      "maxh 0.022727272727272728\n",
      "maxh 0.021739130434782608\n",
      "maxh 0.020833333333333332\n",
      "maxh 0.02\n",
      "maxh 0.019230769230769232\n",
      "maxh 0.018518518518518517\n",
      "maxh 0.017857142857142856\n",
      "maxh 0.017241379310344827\n",
      "maxh 0.016666666666666666\n",
      "maxh 0.016129032258064516\n",
      "maxh 0.015625\n",
      "maxh 0.015151515151515152\n",
      "maxh 0.014705882352941176\n",
      "maxh 0.014285714285714285\n",
      "maxh 0.013888888888888888\n",
      "maxh 0.013513513513513514\n",
      "maxh 0.013157894736842105\n",
      "maxh 0.01282051282051282\n"
     ]
    }
   ],
   "source": [
    "j = 0\n",
    "num_b = []\n",
    "d_b = []\n",
    "for hi in range(1,40):\n",
    "    h = 0.5/hi\n",
    "    print(\"maxh\",h)\n",
    "    mesh = Mesh(unit_square.GenerateMesh(maxh=h))\n",
    "    fes = H1(mesh, order=6,dirichlet=\".*\")\n",
    "    gfu_b = GridFunction(fes,name = \"u_b\")\n",
    "    ub = fes.TrialFunction()\n",
    "    vb = fes.TestFunction()\n",
    "\n",
    "    Ab = BilinearForm(fes)\n",
    "    Fb = LinearForm(fes)\n",
    "\n",
    "    Ab += grad(ub)*grad(vb)*dx\n",
    "\n",
    "    Fb += vb*dx\n",
    "\n",
    "    Ab.Assemble()\n",
    "    Fb.Assemble()\n",
    "\n",
    "    c = Preconditioner(Ab,\"local\",test = True)\n",
    "    c.Update()\n",
    "    data = []\n",
    "    callback = lambda k,r: data.append((k,r))\n",
    "    #gfu_a.vec.data = Aa.mat.Inverse(fes.FreeDofs()) * Fa.vec\n",
    "\n",
    "    with TaskManager():\n",
    "        CG (mat=Ab.mat, pre=c.mat, rhs=Fb.vec, sol=gfu_b.vec,printrates=False, maxsteps=10000,tol=1e-17,callback = callback)\n",
    "    \n",
    "    num_b.append(len(data))\n",
    "    d_b.append(h)\n",
    "    j = j + 1\n",
    "Draw (mesh)\n",
    "Draw(gfu_b)"
   ]
  },
  {
   "cell_type": "code",
   "execution_count": 35,
   "metadata": {},
   "outputs": [
    {
     "data": {
      "text/plain": [
       "[<matplotlib.lines.Line2D at 0x7f0431e7f390>]"
      ]
     },
     "execution_count": 35,
     "metadata": {},
     "output_type": "execute_result"
    },
    {
     "data": {
      "image/png": "[encoded data removed]",
      "text/plain": [
       "<Figure size 432x288 with 1 Axes>"
      ]
     },
     "metadata": {
      "needs_background": "light"
     },
     "output_type": "display_data"
    }
   ],
   "source": [
    "plt.plot(d_a,num_a)\n",
    "plt.plot(d_b,num_b)"
   ]
  },
  {
   "cell_type": "code",
   "execution_count": 55,
   "metadata": {},
   "outputs": [],
   "source": [
    "ref_b = []\n",
    "for i in range(len(num_b)):\n",
    "    ref_b.append(100+7.5/d_b[i])"
   ]
  },
  {
   "cell_type": "code",
   "execution_count": 56,
   "metadata": {},
   "outputs": [
    {
     "data": {
      "text/plain": [
       "[115.0,\n",
       " 130.0,\n",
       " 145.0,\n",
       " 160.0,\n",
       " 175.0,\n",
       " 190.0,\n",
       " 205.0,\n",
       " 220.0,\n",
       " 235.0,\n",
       " 250.0,\n",
       " 265.0,\n",
       " 280.0,\n",
       " 295.0,\n",
       " 310.0,\n",
       " 325.0,\n",
       " 340.0,\n",
       " 355.0,\n",
       " 370.0,\n",
       " 385.0,\n",
       " 400.0,\n",
       " 415.0,\n",
       " 430.0,\n",
       " 445.0,\n",
       " 460.0,\n",
       " 475.0,\n",
       " 490.0,\n",
       " 505.0,\n",
       " 520.0,\n",
       " 535.0,\n",
       " 550.0,\n",
       " 565.0,\n",
       " 580.0,\n",
       " 595.0,\n",
       " 610.0,\n",
       " 625.0,\n",
       " 640.0,\n",
       " 655.0,\n",
       " 670.0,\n",
       " 685.0]"
      ]
     },
     "execution_count": 56,
     "metadata": {},
     "output_type": "execute_result"
    }
   ],
   "source": [
    "ref_b"
   ]
  },
  {
   "cell_type": "code",
   "execution_count": 66,
   "metadata": {},
   "outputs": [
    {
     "data": {
      "text/plain": [
       "<matplotlib.legend.Legend at 0x7f0431432290>"
      ]
     },
     "execution_count": 66,
     "metadata": {},
     "output_type": "execute_result"
    },
    {
     "data": {
      "image/png": "[encoded data removed]",
      "text/plain": [
       "<Figure size 432x288 with 1 Axes>"
      ]
     },
     "metadata": {
      "needs_background": "light"
     },
     "output_type": "display_data"
    }
   ],
   "source": [
    "plt.title(\"kondNum vs h\")\n",
    "plt.grid()\n",
    "plt.xlabel(\"h\")\n",
    "plt.ylabel(\"number of iterations\")\n",
    "plt.plot(d_a,num_a,label='kondNum of the massmatrix')\n",
    "plt.plot(d_b,num_b,label='kondNum of the stiffnesmatrix')\n",
    "plt.plot(d_b,ref_b,label='estimate c+O(1/h)')\n",
    "plt.legend()"
   ]
  },
  {
   "cell_type": "code",
   "execution_count": null,
   "metadata": {},
   "outputs": [],
   "source": []
  }
 ],
 "metadata": {
  "kernelspec": {
   "display_name": "Python 3",
   "language": "python",
   "name": "python3"
  },
  "language_info": {
   "codemirror_mode": {
    "name": "ipython",
    "version": 3
   },
   "file_extension": ".py",
   "mimetype": "text/x-python",
   "name": "python",
   "nbconvert_exporter": "python",
   "pygments_lexer": "ipython3",
   "version": "3.7.5"
  }
 },
 "nbformat": 4,
 "nbformat_minor": 4
}
