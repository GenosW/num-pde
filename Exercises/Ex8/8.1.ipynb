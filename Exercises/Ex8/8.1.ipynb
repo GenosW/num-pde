{
 "cells": [
  {
   "cell_type": "code",
   "execution_count": 1,
   "metadata": {},
   "outputs": [],
   "source": [
    "import netgen.gui\n",
    "from ngsolve import *\n",
    "import numpy as np\n",
    "\n",
    "from ngsolve.solvers import CG"
   ]
  },
  {
   "cell_type": "code",
   "execution_count": 2,
   "metadata": {},
   "outputs": [],
   "source": [
    "from netgen.geom2d import unit_square\n",
    "mesh = Mesh(unit_square.GenerateMesh(maxh=0.05))\n",
    "Draw (mesh)"
   ]
  },
  {
   "cell_type": "code",
   "execution_count": 3,
   "metadata": {},
   "outputs": [],
   "source": [
    "fes = H1(mesh, order=6,dirichlet=\".*\")\n",
    "gfu_a = GridFunction(fes,name = \"u_a\")\n",
    "gfu_b = GridFunction(fes,name = \"u_b\")"
   ]
  },
  {
   "cell_type": "code",
   "execution_count": 9,
   "metadata": {},
   "outputs": [],
   "source": [
    "ua = fes.TrialFunction()\n",
    "va = fes.TestFunction()\n",
    "\n",
    "Aa = BilinearForm(fes)\n",
    "Fa = LinearForm(fes)\n",
    "\n",
    "Aa += ua*va*dx\n",
    "\n",
    "Fa += va*dx\n",
    "\n",
    "Aa.Assemble()\n",
    "Fa.Assemble()\n",
    "\n",
    "c = Preconditioner(Aa,\"local\",test = True)\n",
    "c.Update()\n",
    "\n",
    "#gfu_a.vec.data = Aa.mat.Inverse(fes.FreeDofs()) * Fa.vec\n",
    "\n",
    "with TaskManager():\n",
    "    CG (mat=Aa.mat, pre=c.mat, rhs=Fa.vec, sol=gfu_a.vec,printrates=False, maxsteps=200,tol=1e-6)\n",
    "Draw(gfu_a)\n",
    "\n",
    "#Draw(gfu_a)"
   ]
  },
  {
   "cell_type": "code",
   "execution_count": 5,
   "metadata": {},
   "outputs": [],
   "source": [
    "ub = fes.TrialFunction()\n",
    "vb = fes.TestFunction()\n",
    "\n",
    "Ab = BilinearForm(fes)\n",
    "Fb = LinearForm(fes)\n",
    "\n",
    "Ab += grad(ub)*grad(vb)*dx\n",
    "\n",
    "Fb += vb*dx\n",
    "\n",
    "Ab.Assemble()\n",
    "Fb.Assemble()\n",
    "\n",
    "gfu_b.vec.data = Ab.mat.Inverse(fes.FreeDofs()) * Fb.vec\n",
    "\n",
    "Draw(gfu_b)"
   ]
  },
  {
   "cell_type": "code",
   "execution_count": null,
   "metadata": {},
   "outputs": [],
   "source": []
  }
 ],
 "metadata": {
  "kernelspec": {
   "display_name": "Python 3",
   "language": "python",
   "name": "python3"
  },
  "language_info": {
   "codemirror_mode": {
    "name": "ipython",
    "version": 3
   },
   "file_extension": ".py",
   "mimetype": "text/x-python",
   "name": "python",
   "nbconvert_exporter": "python",
   "pygments_lexer": "ipython3",
   "version": "3.7.5"
  }
 },
 "nbformat": 4,
 "nbformat_minor": 4
}
