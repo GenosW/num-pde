{
 "cells": [
  {
   "cell_type": "code",
   "execution_count": 2,
   "metadata": {},
   "outputs": [],
   "source": [
    "import netgen.gui\n",
    "from netgen.csg import *\n",
    "from ngsolve import *\n",
    "from ngsolve.solvers import CG\n",
    "\n",
    "import matplotlib.pyplot as plt\n",
    "import numpy as np\n",
    "\n",
    "from ngsolve.internal import visoptions\n",
    "from ngsolve.internal import viewoptions"
   ]
  },
  {
   "cell_type": "markdown",
   "metadata": {},
   "source": [
    "# AFW-preconditioner for Magnetostatic problem (Maxwells equation)\n",
    "\n",
    "https://ngsolve.org/docu/nightly/i-tutorials/unit-2.4-Maxwell/Maxwell.html\n",
    "\n",
    "\\begin{equation}\n",
    "\\int{ν curl u · curl v dx} + \\int{νε u · v dx} = \\int{f · v dx} \\ \\ \\ , ∀v\n",
    "\\end{equation}"
   ]
  },
  {
   "cell_type": "code",
   "execution_count": 10,
   "metadata": {},
   "outputs": [
    {
     "name": "stdout",
     "output_type": "stream",
     "text": [
      "nu_coef= [795544.9482895783, 795.5449482895783, 795544.9482895783]\n"
     ]
    }
   ],
   "source": [
    "def MakeGeometry():\n",
    "    geometry = CSGeometry()\n",
    "    box = OrthoBrick(Pnt(-1,-1,-1),Pnt(2,1,2)).bc(\"outer\")\n",
    "\n",
    "    core = OrthoBrick(Pnt(0,-0.05,0),Pnt(0.8,0.05,1))- \\\n",
    "           OrthoBrick(Pnt(0.1,-1,0.1),Pnt(0.7,1,0.9))- \\\n",
    "           OrthoBrick(Pnt(0.5,-1,0.4),Pnt(1,1,0.6)).maxh(0.2).mat(\"core\")\n",
    "    \n",
    "    coil = (Cylinder(Pnt(0.05,0,0), Pnt(0.05,0,1), 0.3) - \\\n",
    "            Cylinder(Pnt(0.05,0,0), Pnt(0.05,0,1), 0.15)) * \\\n",
    "            OrthoBrick (Pnt(-1,-1,0.3),Pnt(1,1,0.7)).maxh(0.2).mat(\"coil\")\n",
    "    \n",
    "    geometry.Add ((box-core-coil).mat(\"air\"))\n",
    "    geometry.Add (core)\n",
    "    geometry.Add (coil)\n",
    "    return geometry\n",
    "\n",
    "ngmesh = MakeGeometry().GenerateMesh(maxh=0.5)\n",
    "mesh = Mesh(ngmesh)\n",
    "\n",
    "#ngsglobals.msg_level = 5\n",
    "\n",
    "fes = HCurl(mesh, order=1, dirichlet=\"outer\")\n",
    "\n",
    "u = fes.TrialFunction()\n",
    "v = fes.TestFunction()\n",
    "\n",
    "mur = { \"core\" : 1000, \"coil\" : 1, \"air\" : 1 }\n",
    "mu0 = 1.257e-6\n",
    "\n",
    "nu_coef = [ 1/(mu0*mur[mat]) for mat in mesh.GetMaterials() ]\n",
    "print (\"nu_coef=\", nu_coef)"
   ]
  },
  {
   "cell_type": "code",
   "execution_count": 11,
   "metadata": {},
   "outputs": [
    {
     "name": "stdout",
     "output_type": "stream",
     "text": [
      "epsilon:  1\n",
      "epsilon:  0.1\n",
      "epsilon:  0.01\n",
      "epsilon:  0.001\n",
      "epsilon:  0.0001\n",
      "epsilon:  1e-05\n",
      "epsilon:  1e-06\n"
     ]
    }
   ],
   "source": [
    "err_jac = np.zeros([10000,14])\n",
    "err_block = np.zeros([10000,14])\n",
    "temp = []\n",
    "n = 1\n",
    "\n",
    "\n",
    "epsilon = [10**(-j) for j in range(7)]\n",
    "for eps in epsilon:\n",
    "    print(\"epsilon: \",eps)\n",
    "    \n",
    "    nu = CoefficientFunction(nu_coef)\n",
    "\n",
    "    a = BilinearForm(fes, symmetric=True)\n",
    "    a += nu*curl(u)*curl(v)*dx + eps*nu*u*v*dx\n",
    "\n",
    "    # 1. the jacobi preconditioner\n",
    "    c = Preconditioner(a, type=\"local\")\n",
    "    # 2. the direct inverse \n",
    "    # c = Preconditioner(a, type=\"direct\")\n",
    "    # 3. AFW\n",
    "    # AFW = a.CreateBlockSmoother(blocks)\n",
    "\n",
    "    f = LinearForm(fes)\n",
    "    f += CoefficientFunction((y,0.05-x,0)) * v * dx(\"coil\")\n",
    "\n",
    "    blocks = []\n",
    "\n",
    "    gfu_jac = GridFunction(fes,name = \"u_jac\")\n",
    "    gfu_AFW = GridFunction(fes,name = \"u_AFW\")\n",
    "    gfu = GridFunction(fes,name = \"u\")\n",
    "\n",
    "    # stores the error and iteration number\n",
    "    data_jac = []\n",
    "    data_block = []\n",
    "    # needed for this...\n",
    "    callback_jac = lambda k_jac,r_jac: data_jac.append((k_jac,r_jac))\n",
    "    callback_block = lambda k_block,r_block: data_block.append((k_block,r_block))\n",
    "\n",
    "    with TaskManager():\n",
    "        a.Assemble()    \n",
    "        f.Assemble()\n",
    "        \n",
    "        # \n",
    "        solvers.CG(mat=a.mat, pre=c.mat, sol = gfu_jac.vec, rhs = f.vec, tol = 1e-8, maxsteps = 10000, callback = callback_jac, printrates = False)\n",
    "        \n",
    "        # Use your AFW preconditioner instead of the Jacobi\n",
    "        AFW = a.mat.CreateBlockSmoother(blocks)\n",
    "        solvers.CG(mat=a.mat, pre=AFW, sol = gfu_AFW.vec, rhs = f.vec, tol = 1e-8, maxsteps = 10000, callback = callback_block, printrates = False)\n",
    "\n",
    "    #d = []\n",
    "    for i in range(len(data_jac)):\n",
    "        #d.append(data[i][0])\n",
    "        #temp.append(data[i][1])\n",
    "        err_jac[i,n-1] = data_jac[i][0]\n",
    "        err_jac[i,n] = data_jac[i][1]\n",
    "        #print(\"i\",i)\n",
    "\n",
    "    for i in range(len(data_block)):\n",
    "        #d.append(data[i][0])\n",
    "        #temp.append(data[i][1])\n",
    "        err_block[i,n-1] = data_block[i][0]\n",
    "        err_block[i,n] = data_block[i][1]\n",
    "    n = n + 2\n",
    "    \n",
    "Draw(gfu_jac)\n",
    "Draw(gfu_AFW)"
   ]
  },
  {
   "cell_type": "code",
   "execution_count": null,
   "metadata": {},
   "outputs": [],
   "source": [
    "err_jac[:,13]"
   ]
  },
  {
   "cell_type": "code",
   "execution_count": null,
   "metadata": {},
   "outputs": [],
   "source": [
    "n = 1\n",
    "for j in range(7):\n",
    "    plt.loglog(err_jac[:,n-1],err_jac[:,n])\n",
    "    plt.legend(range(j))\n",
    "    n = n + 2"
   ]
  },
  {
   "cell_type": "code",
   "execution_count": null,
   "metadata": {},
   "outputs": [],
   "source": [
    "n = 1\n",
    "for j in range(7):\n",
    "    plt.loglog(err_block[:,n-1],err_block[:,n])\n",
    "    plt.legend(range(j))\n",
    "    n = n + 2"
   ]
  },
  {
   "cell_type": "code",
   "execution_count": null,
   "metadata": {},
   "outputs": [],
   "source": []
  }
 ],
 "metadata": {
  "kernelspec": {
   "display_name": "Python 3",
   "language": "python",
   "name": "python3"
  },
  "language_info": {
   "codemirror_mode": {
    "name": "ipython",
    "version": 3
   },
   "file_extension": ".py",
   "mimetype": "text/x-python",
   "name": "python",
   "nbconvert_exporter": "python",
   "pygments_lexer": "ipython3",
   "version": "3.7.6"
  }
 },
 "nbformat": 4,
 "nbformat_minor": 4
}
