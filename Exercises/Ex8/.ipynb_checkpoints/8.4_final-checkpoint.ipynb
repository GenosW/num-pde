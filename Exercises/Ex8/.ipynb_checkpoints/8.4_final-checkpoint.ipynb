{
 "cells": [
  {
   "cell_type": "code",
   "execution_count": 1,
   "metadata": {},
   "outputs": [],
   "source": [
    "import netgen.gui\n",
    "from netgen.csg import *\n",
    "from ngsolve import *\n",
    "from ngsolve.solvers import CG\n",
    "from ngsolve.la import EigenValues_Preconditioner\n",
    "import numpy as np\n",
    "import matplotlib.pyplot as plt"
   ]
  },
  {
   "cell_type": "code",
   "execution_count": 7,
   "metadata": {},
   "outputs": [],
   "source": [
    "def MakeGeometry():\n",
    "    geometry = CSGeometry()\n",
    "    box = OrthoBrick(Pnt(0,0,0),Pnt(1,1,1)).bc(\"outer\")\n",
    "    geometry.Add (box)\n",
    "    return geometry\n",
    "\n",
    "ngmesh = MakeGeometry().GenerateMesh(maxh=0.5)\n",
    "mesh = Mesh(ngmesh)"
   ]
  },
  {
   "cell_type": "code",
   "execution_count": 8,
   "metadata": {},
   "outputs": [],
   "source": [
    "Draw(mesh)\n",
    "\n",
    "V = H1(mesh, order = 3, dirichlet =\".*\")\n",
    "\n",
    "u,v = V.TnT()\n",
    "\n",
    "a = BilinearForm(V, condense = True)\n",
    "a += grad(u) * grad(v) * dx\n",
    "\n",
    "c = Preconditioner(a, \"multigrid\")\n",
    "\n",
    "f = LinearForm(V)\n",
    "f += 1 * v * dx\n",
    "\n",
    "gfu = GridFunction(V)"
   ]
  },
  {
   "cell_type": "code",
   "execution_count": 9,
   "metadata": {},
   "outputs": [
    {
     "name": "stdout",
     "output_type": "stream",
     "text": [
      "0\n",
      "1\n",
      "2\n",
      "3\n",
      "4\n"
     ]
    }
   ],
   "source": [
    "d = []\n",
    "data = []\n",
    "kond = []\n",
    "for l in range(5):\n",
    "    print(l)\n",
    "    if l > 0:\n",
    "        mesh.Refine()\n",
    "    V.Update()\n",
    "    gfu.Update()\n",
    "        \n",
    "    with TaskManager():\n",
    "            \n",
    "        f.Assemble()\n",
    "        a.Assemble()\n",
    "        callback = lambda k,r: data.append((k,r))\n",
    "\n",
    "        CG(mat=a.mat,pre=c.mat,rhs=f.vec,sol=gfu.vec,printrates=False,maxsteps=10000,tol=1e-8,callback = callback)\n",
    "        lam = EigenValues_Preconditioner(mat = a.mat,pre = c)\n",
    "        kond.append(max(lam)/min(lam))\n",
    "        d.append(l)\n",
    "Draw(gfu)"
   ]
  },
  {
   "cell_type": "code",
   "execution_count": 10,
   "metadata": {},
   "outputs": [],
   "source": [
    "temp = []\n",
    "for i in range(1,len(data)):\n",
    "    if data[i][0] == 0:\n",
    "        temp.append(data[i-1][0])\n",
    "temp.append(data[len(data)-1][0])"
   ]
  },
  {
   "cell_type": "code",
   "execution_count": 11,
   "metadata": {},
   "outputs": [
    {
     "data": {
      "text/plain": [
       "[<matplotlib.lines.Line2D at 0x7f4703a7f090>]"
      ]
     },
     "execution_count": 11,
     "metadata": {},
     "output_type": "execute_result"
    },
    {
     "data": {
      "image/png": "[encoded data removed]",
      "text/plain": [
       "<Figure size 432x288 with 1 Axes>"
      ]
     },
     "metadata": {
      "needs_background": "light"
     },
     "output_type": "display_data"
    }
   ],
   "source": [
    "import matplotlib.pyplot as plt\n",
    "plt.plot(d,temp)\n",
    "plt.plot(d,kond)"
   ]
  },
  {
   "cell_type": "code",
   "execution_count": null,
   "metadata": {},
   "outputs": [],
   "source": []
  }
 ],
 "metadata": {
  "kernelspec": {
   "display_name": "Python 3",
   "language": "python",
   "name": "python3"
  },
  "language_info": {
   "codemirror_mode": {
    "name": "ipython",
    "version": 3
   },
   "file_extension": ".py",
   "mimetype": "text/x-python",
   "name": "python",
   "nbconvert_exporter": "python",
   "pygments_lexer": "ipython3",
   "version": "3.7.5"
  }
 },
 "nbformat": 4,
 "nbformat_minor": 4
}
