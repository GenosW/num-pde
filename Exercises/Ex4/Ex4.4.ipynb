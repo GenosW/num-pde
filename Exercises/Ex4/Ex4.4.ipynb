{
 "nbformat": 4,
 "nbformat_minor": 2,
 "metadata": {
  "language_info": {
   "name": "python",
   "codemirror_mode": {
    "name": "ipython",
    "version": 3
   },
   "version": "3.7.7-final"
  },
  "orig_nbformat": 2,
  "file_extension": ".py",
  "mimetype": "text/x-python",
  "name": "python",
  "npconvert_exporter": "python",
  "pygments_lexer": "ipython3",
  "version": 3,
  "kernelspec": {
   "name": "python37764bit33c63940e34148b0a2446cd4c0d0e9f7",
   "display_name": "Python 3.7.7 64-bit"
  }
 },
 "cells": [
  {
   "cell_type": "code",
   "execution_count": 5,
   "metadata": {},
   "outputs": [],
   "source": [
    "import numpy as np\n",
    ""
   ]
  },
  {
   "cell_type": "code",
   "execution_count": 14,
   "metadata": {},
   "outputs": [
    {
     "output_type": "stream",
     "name": "stdout",
     "text": "[[ 1.  0.  1.  0.]\n [ 1.  1.  0.  0.]\n [ 1.  0. -1.  0.]\n [ 1. -1.  0.  0.]]\n"
    },
    {
     "output_type": "execute_result",
     "data": {
      "text/plain": "0.0"
     },
     "metadata": {},
     "execution_count": 14
    }
   ],
   "source": [
    "A = np.ones((4,4))\n",
    "A[:,-1]=0\n",
    "A[0,1]=0\n",
    "A[1,2]=0\n",
    "A[2,1]=0\n",
    "A[2,2]=-1\n",
    "A[3,1]=-1\n",
    "A[3,2]=0\n",
    "print(A)\n",
    "np.linalg.det(A)"
   ]
  },
  {
   "cell_type": "code",
   "execution_count": null,
   "metadata": {},
   "outputs": [],
   "source": []
  }
 ]
}