{
 "cells": [
  {
   "cell_type": "code",
   "execution_count": 1,
   "metadata": {},
   "outputs": [],
   "source": [
    "import netgen.gui\n",
    "from ngsolve import *\n",
    "import netgen.geom2d as geom2d"
   ]
  },
  {
   "cell_type": "code",
   "execution_count": 2,
   "metadata": {},
   "outputs": [],
   "source": [
    "# next we define a function that solves the plate equation\n",
    "\n",
    "def solve_plate(Compound_Prod_Space, t):\n",
    "    \n",
    "    # w and beta are trial functions\n",
    "    (w, beta_x, beta_y) = Compound_Prod_Space.TrialFunction()\n",
    "    # v and delta are test functions\n",
    "    (v, delta_x, delta_y) = Compound_Prod_Space.TestFunction()\n",
    "        \n",
    "    # storing beta and delta as vectors\n",
    "    beta = CoefficientFunction((beta_x,beta_y))\n",
    "    delta = CoefficientFunction((delta_x, delta_y))\n",
    "\n",
    "    # it is somehow not possible to take the grad of a vector, so define beta_grad component-wise\n",
    "    beta_grad = CoefficientFunction((grad(beta_x)[0],grad(beta_y)[0]))\n",
    "    delta_grad = CoefficientFunction((grad(delta_x)[0], grad(delta_y)[0]))\n",
    "\n",
    "    A = BilinearForm(Compound_Prod_Space)\n",
    "    A+= beta_grad * delta_grad * dx + 1/t**2 * (grad(w)-beta) * (grad(v)-delta) * dx\n",
    "    A.Assemble()\n",
    "\n",
    "    f = LinearForm(Compound_Prod_Space)\n",
    "    f += 1 * v * dx\n",
    "    f.Assemble()\n",
    "    \n",
    "    sol = GridFunction(Compound_Prod_Space)\n",
    "    sol.vec.data = \\\n",
    "        A.mat.Inverse(freedofs=Compound_Prod_Space.FreeDofs(),inverse = \"umfpack\") * f.vec\n",
    "    return sol"
   ]
  },
  {
   "cell_type": "code",
   "execution_count": 3,
   "metadata": {},
   "outputs": [],
   "source": [
    "mesh = Mesh(geom2d.unit_square.GenerateMesh(maxh=0.1))\n",
    "k = 1\n",
    "t = 0.01\n",
    "\n",
    "#different boundary conditions\n",
    "\n",
    "# first boundary conditions\n",
    "Sigma_1 = H1(mesh, order = k, dirichlet = \"left|right|top|bottom\") # BCs for w\n",
    "V_1 = H1(mesh, order= k, dirichlet = \"left|right|top|bottom\") # BCs for beta, I'm not sure if this is right\n",
    "FES_1 = FESpace([Sigma_1, V_1, V_1])\n",
    "\n",
    "sol_1 = solve_plate(FES_1,t)\n",
    "w_1 = sol_1.components[0]\n",
    "beta_1 =  CoefficientFunction((sol_1.components[1], sol_1.components[2]))\n",
    "\n",
    "Draw(w_1, mesh, \"w_bc1\")\n",
    "Draw(beta_1, mesh, \"beta_bc1\")\n",
    "\n",
    "\n",
    "#second boundary condtions\n",
    "Sigma_2 = H1(mesh, order = k, dirichlet = \"left|top\")\n",
    "V_2 = H1(mesh, order= k, dirichlet = \"left|top\")\n",
    "FES_2 = FESpace([Sigma_2, V_2, V_2])\n",
    "\n",
    "sol_2 = solve_plate(FES_2,t)\n",
    "w_2 = sol_2.components[0]\n",
    "beta_2 =  CoefficientFunction((sol_2.components[1], sol_2.components[2]))\n",
    "\n",
    "Draw(w_2, mesh, \"w_bc2\")\n",
    "Draw(beta_2, mesh, \"beta_bc2\")\n",
    "\n",
    "\n",
    "# third boundary conditions\n",
    "Sigma_3 = H1(mesh, order = k, dirichlet = \"left|right|top|bottom\")\n",
    "V_3 = H1(mesh, order= k)\n",
    "FES_3 = FESpace([Sigma_3, V_3, V_3])\n",
    "\n",
    "sol_3 = solve_plate(FES_3,t)\n",
    "w_3 = sol_3.components[0]\n",
    "beta_3 =  CoefficientFunction((sol_3.components[1], sol_3.components[2]))\n",
    "\n",
    "Draw(w_3, mesh, \"w_bc3\")\n",
    "Draw(beta_3, mesh, \"beta_bc3\")"
   ]
  },
  {
   "cell_type": "code",
   "execution_count": null,
   "metadata": {},
   "outputs": [],
   "source": []
  },
  {
   "cell_type": "code",
   "execution_count": null,
   "metadata": {},
   "outputs": [],
   "source": []
  }
 ],
 "metadata": {
  "kernelspec": {
   "display_name": "Python 3",
   "language": "python",
   "name": "python3"
  },
  "language_info": {
   "codemirror_mode": {
    "name": "ipython",
    "version": 3
   },
   "file_extension": ".py",
   "mimetype": "text/x-python",
   "name": "python",
   "nbconvert_exporter": "python",
   "pygments_lexer": "ipython3",
   "version": "3.6.9"
  }
 },
 "nbformat": 4,
 "nbformat_minor": 2
}
