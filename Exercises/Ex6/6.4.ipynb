{
 "cells": [
  {
   "cell_type": "code",
   "execution_count": 1,
   "metadata": {},
   "outputs": [],
   "source": [
    "import netgen.gui\n",
    "from ngsolve import *\n",
    "from netgen.geom2d import SplineGeometry\n",
    "from math import pi\n",
    "import matplotlib.pyplot as plt\n",
    "import numpy as np"
   ]
  },
  {
   "cell_type": "code",
   "execution_count": 55,
   "metadata": {},
   "outputs": [],
   "source": [
    "geo = SplineGeometry()\n",
    "geo.AddRectangle((-1,-1),(1,1),bc=1)\n",
    "mesh = Mesh( geo.GenerateMesh(maxh=0.5))\n",
    "\n",
    "V = H1(mesh, order=3, dirichlet=[1])\n",
    "# finite element space and gridfunction to represent the heatflux:\n",
    "space_flux = HDiv(mesh, order=2)\n",
    "gf_flux = GridFunction(space_flux, \"flux\")\n",
    "\n",
    "u = V.TrialFunction()\n",
    "v = V.TestFunction()\n",
    "\n",
    "r = sqrt(x*x+y*y)\n",
    "r2 = x*x+y*y\n",
    "R = 1/2\n",
    "\n",
    "alpha = IfPos(r-R,2*log(1/R),1)\n",
    "\n",
    "solution = IfPos(r-R,1.0/16.0*log(r2)/log(R*R),1.0/8.0-r2/4.0)\n",
    "sol_flux = alpha * IfPos(r-R,1.0/16.0/log(R*R)*\n",
    "                     CoefficientFunction((2*x/r2,2*y/r2)),\n",
    "                     CoefficientFunction((-x/2.0,-y/2.0)))\n",
    "rhs = IfPos(r-R,0,1)"
   ]
  },
  {
   "cell_type": "code",
   "execution_count": 56,
   "metadata": {},
   "outputs": [],
   "source": [
    "a = BilinearForm(V, symmetric=False)\n",
    "a += SymbolicBFI(alpha*grad(u)*grad(v))\n",
    "\n",
    "f = LinearForm(V)\n",
    "f += SymbolicLFI(rhs*v)\n",
    "\n",
    "gfu = GridFunction(V)\n",
    "flux = alpha * grad(gfu)\n",
    "#gf_flux.Set(flux)\n",
    "Draw (gfu,mesh,\"u\")\n",
    "Draw (grad(gfu),mesh,\"grad_u\")"
   ]
  },
  {
   "cell_type": "code",
   "execution_count": 57,
   "metadata": {},
   "outputs": [],
   "source": [
    "def SolveBVP():\n",
    "    V.Update()\n",
    "    gfu.Update()\n",
    "    \n",
    "    #space_flux.Update()\n",
    "    #gf_flux.Update()\n",
    "    \n",
    "    a.Assemble()\n",
    "    f.Assemble()\n",
    "    gfu.Set(solution)\n",
    "    f.vec.data -= a.mat * gfu.vec\n",
    "    gfu.vec.data += a.mat.Inverse(V.FreeDofs(),\"umfpack\") * f.vec\n",
    "    Redraw (blocking=True)"
   ]
  },
  {
   "cell_type": "code",
   "execution_count": 58,
   "metadata": {},
   "outputs": [],
   "source": [
    "def CalcError():\n",
    "    space_flux.Update()\n",
    "    gf_flux.Update()\n",
    "    # interpolate finite element flux into H(div) space:\n",
    "    gf_flux.Set (flux)\n",
    "    # compute error on every element:\n",
    "    \n",
    "    # for 6.4.1 remove that: \n",
    "    err = 1/alpha*(flux-gf_flux)*(flux-gf_flux)\n",
    "    \n",
    "    # for 6.4.2 remove that: \n",
    "    err = 1/alpha*(flux-sol_flux)*(flux-sol_flux)\n",
    "    \n",
    "    \n",
    "    elerr = Integrate (err, mesh, VOL, element_wise=True)\n",
    "    \n",
    "    # sort elements (corresponding to error contribution)\n",
    "    err_and_el_sorted = sorted([(entry,i) for i, entry in enumerate(elerr)], key= lambda x:-x[0])\n",
    "    # reset marks\n",
    "    marks = [False for el in mesh.Elements()]\n",
    "\n",
    "    # mark element with largest error until 10% of the error is on marked elements:\n",
    "    sumerr = sum(elerr)    \n",
    "    accsum = 0\n",
    "    for err,el in err_and_el_sorted:\n",
    "        if accsum < 0.1 * sumerr:\n",
    "            marks[el] = True\n",
    "            accsum += err\n",
    "        else:\n",
    "            break\n",
    "    \n",
    "    print (\"V.ndof = \", V.ndof)\n",
    "    H1error = sqrt(Integrate (1/alpha*(flux - sol_flux)*(flux - sol_flux), mesh, VOL))\n",
    "    print (\"weighted H1 (semi norm) error = \", H1error)\n",
    "    L2error = sqrt(Integrate ((gfu - solution)*(gfu - solution), mesh, VOL))\n",
    "    print (\"hier L2 error = \", L2error)\n",
    "    \n",
    "        # call the refinement according to the marks:\n",
    "    for el in mesh.Elements():\n",
    "        mesh.SetRefinementFlag(el, marks[el.nr])\n",
    "    return  V.ndof,sqrt(sumerr)"
   ]
  },
  {
   "cell_type": "code",
   "execution_count": 59,
   "metadata": {},
   "outputs": [
    {
     "name": "stdout",
     "output_type": "stream",
     "text": [
      "V.ndof =  187\n",
      "weighted H1 (semi norm) error =  0.02495905425934296\n",
      "hier L2 error =  0.002462722808148026\n",
      "V.ndof =  223\n",
      "weighted H1 (semi norm) error =  0.02288847144979913\n",
      "hier L2 error =  0.002679415229679176\n",
      "V.ndof =  268\n",
      "weighted H1 (semi norm) error =  0.019708717579419388\n",
      "hier L2 error =  0.0012312095321791517\n",
      "V.ndof =  340\n",
      "weighted H1 (semi norm) error =  0.01846489739797801\n",
      "hier L2 error =  0.0011298771332237318\n",
      "V.ndof =  430\n",
      "weighted H1 (semi norm) error =  0.01700835274874273\n",
      "hier L2 error =  0.0010442249707573851\n",
      "V.ndof =  493\n",
      "weighted H1 (semi norm) error =  0.015420080776671492\n",
      "hier L2 error =  0.001347032138694285\n",
      "V.ndof =  538\n",
      "weighted H1 (semi norm) error =  0.014861295118549181\n",
      "hier L2 error =  0.0004924759022128968\n",
      "V.ndof =  673\n",
      "weighted H1 (semi norm) error =  0.014902251195835391\n",
      "hier L2 error =  0.0008763855560347143\n",
      "V.ndof =  754\n",
      "weighted H1 (semi norm) error =  0.014146959621662951\n",
      "hier L2 error =  0.0008967377723067135\n",
      "V.ndof =  868\n",
      "weighted H1 (semi norm) error =  0.013232784260226678\n",
      "hier L2 error =  0.0007577565404223998\n",
      "V.ndof =  976\n",
      "weighted H1 (semi norm) error =  0.011864263299005157\n",
      "hier L2 error =  0.0006786768871079052\n",
      "V.ndof =  1057\n",
      "weighted H1 (semi norm) error =  0.010607836437425362\n",
      "hier L2 error =  0.0003282445831332155\n",
      "V.ndof =  1219\n",
      "weighted H1 (semi norm) error =  0.0098660329981899\n",
      "hier L2 error =  0.0003510554584480809\n",
      "V.ndof =  1426\n",
      "weighted H1 (semi norm) error =  0.009035640064379149\n",
      "hier L2 error =  0.00018624470745776727\n",
      "V.ndof =  1633\n",
      "weighted H1 (semi norm) error =  0.008641882170474423\n",
      "hier L2 error =  0.00016711210658504759\n",
      "V.ndof =  1777\n",
      "weighted H1 (semi norm) error =  0.0080868151306555\n",
      "hier L2 error =  0.0002185232956678916\n",
      "V.ndof =  1966\n",
      "weighted H1 (semi norm) error =  0.007668524672804896\n",
      "hier L2 error =  0.00017409357226805052\n",
      "V.ndof =  2182\n",
      "weighted H1 (semi norm) error =  0.007385106854752423\n",
      "hier L2 error =  0.00018698456904250781\n",
      "V.ndof =  2443\n",
      "weighted H1 (semi norm) error =  0.007050290226756076\n",
      "hier L2 error =  0.00015391328794700732\n",
      "V.ndof =  2695\n",
      "weighted H1 (semi norm) error =  0.006704928529229434\n",
      "hier L2 error =  0.00013916661244702902\n",
      "V.ndof =  2983\n",
      "weighted H1 (semi norm) error =  0.006528102022712393\n",
      "hier L2 error =  0.00013626622257464213\n",
      "V.ndof =  3136\n",
      "weighted H1 (semi norm) error =  0.006498614824770329\n",
      "hier L2 error =  0.0001362964552171051\n",
      "V.ndof =  3415\n",
      "weighted H1 (semi norm) error =  0.006223937678289418\n",
      "hier L2 error =  6.846004879130484e-05\n",
      "V.ndof =  3793\n",
      "weighted H1 (semi norm) error =  0.006015464575706021\n",
      "hier L2 error =  7.760491151297075e-05\n",
      "V.ndof =  4171\n",
      "weighted H1 (semi norm) error =  0.005733970266546332\n",
      "hier L2 error =  6.12545521903536e-05\n",
      "V.ndof =  4567\n",
      "weighted H1 (semi norm) error =  0.005485447885269377\n",
      "hier L2 error =  4.808041347050597e-05\n",
      "V.ndof =  5017\n",
      "weighted H1 (semi norm) error =  0.005310027225889755\n",
      "hier L2 error =  3.4872485338307474e-05\n",
      "V.ndof =  5494\n",
      "weighted H1 (semi norm) error =  0.0051355811153165135\n",
      "hier L2 error =  3.418509881435583e-05\n",
      "V.ndof =  6097\n",
      "weighted H1 (semi norm) error =  0.004947488522822084\n",
      "hier L2 error =  2.769255418300803e-05\n",
      "V.ndof =  6691\n",
      "weighted H1 (semi norm) error =  0.004799797703121764\n",
      "hier L2 error =  2.555806018855362e-05\n",
      "V.ndof =  7330\n",
      "weighted H1 (semi norm) error =  0.00452189557390839\n",
      "hier L2 error =  3.39646338072383e-05\n",
      "V.ndof =  8104\n",
      "weighted H1 (semi norm) error =  0.004301936618485793\n",
      "hier L2 error =  3.098344446992398e-05\n",
      "V.ndof =  8707\n",
      "weighted H1 (semi norm) error =  0.0041441943925698485\n",
      "hier L2 error =  2.9269932989268814e-05\n",
      "V.ndof =  9490\n",
      "weighted H1 (semi norm) error =  0.004041933306416075\n",
      "hier L2 error =  2.2780022122737038e-05\n",
      "V.ndof =  10174\n",
      "weighted H1 (semi norm) error =  0.0038732572621516335\n",
      "hier L2 error =  2.1182570679346256e-05\n"
     ]
    }
   ],
   "source": [
    "with TaskManager():\n",
    "    #L2error_2 = []\n",
    "    H1error_2 = []\n",
    "    d_2 = []\n",
    "    #L2error_2 = []\n",
    "    #d_2 = []\n",
    "    while V.ndof < 10000:  \n",
    "        SolveBVP()\n",
    "        d,H1flux = CalcError()\n",
    "        #L2error_2.append(temp)\n",
    "        H1error_2.append(H1flux)\n",
    "        d_2.append(d)\n",
    "        mesh.Refine()\n",
    "    SolveBVP()"
   ]
  },
  {
   "cell_type": "code",
   "execution_count": 66,
   "metadata": {},
   "outputs": [
    {
     "data": {
      "image/png": "[encoded data removed]",
      "text/plain": [
       "<Figure size 432x288 with 1 Axes>"
      ]
     },
     "metadata": {
      "needs_background": "light"
     },
     "output_type": "display_data"
    }
   ],
   "source": [
    "plt.figure()\n",
    "plt.title(\"uniform refinements vs adaptive refinements\")\n",
    "plt.grid()\n",
    "plt.semilogy(d_1,L2error_1,'b',label='L2_error uniform refinements')\n",
    "plt.semilogy(d_2,L2error_2[0:35],'g',label='L2_error adaptive refinements')\n",
    "plt.xlabel(\"dim V_h\")\n",
    "plt.ylabel(\"L2_norm\")\n",
    "plt.legend()\n",
    "plt.savefig('uniform refinements vs adaptive refinements')"
   ]
  },
  {
   "cell_type": "markdown",
   "metadata": {},
   "source": [
    "### explenation\n",
    "The blue line represents the error with the uniform refinments. That means the mesh is uniformt over the hole domain. The other line th error from the adaptive one. The algorytmus measures the error and define the new grid in the \"critical area\". It lies on the boundary on the circuit with an radius of $R$."
   ]
  },
  {
   "cell_type": "code",
   "execution_count": 67,
   "metadata": {},
   "outputs": [
    {
     "data": {
      "image/png": "[encoded data removed]",
      "text/plain": [
       "<Figure size 432x288 with 1 Axes>"
      ]
     },
     "metadata": {
      "needs_background": "light"
     },
     "output_type": "display_data"
    }
   ],
   "source": [
    "plt.figure()\n",
    "plt.title(\"gradient recovery error vs L2_error (adaptive)\")\n",
    "plt.grid()\n",
    "#plt.semilogy(d_1,L2error_1)\n",
    "plt.semilogy(d_2,L2error_2[0:35],'g',label='L2_error adaptive refinements')\n",
    "plt.semilogy(d_2,H1error_2[0:35],color='orange',label='GR_error adaptive refinements')\n",
    "plt.xlabel(\"dim V_h\")\n",
    "plt.ylabel(\"error\")\n",
    "plt.legend()\n",
    "plt.savefig('gradient recovery error vs L2_error (adaptive)')"
   ]
  },
  {
   "cell_type": "code",
   "execution_count": null,
   "metadata": {},
   "outputs": [],
   "source": []
  }
 ],
 "metadata": {
  "kernelspec": {
   "display_name": "Python 3",
   "language": "python",
   "name": "python3"
  },
  "language_info": {
   "codemirror_mode": {
    "name": "ipython",
    "version": 3
   },
   "file_extension": ".py",
   "mimetype": "text/x-python",
   "name": "python",
   "nbconvert_exporter": "python",
   "pygments_lexer": "ipython3",
   "version": "3.7.7"
  }
 },
 "nbformat": 4,
 "nbformat_minor": 4
}
