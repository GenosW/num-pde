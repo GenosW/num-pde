{
 "cells": [
  {
   "cell_type": "code",
   "execution_count": 1,
   "metadata": {},
   "outputs": [],
   "source": [
    "import netgen.gui\n",
    "from ngsolve import *\n",
    "from netgen.geom2d import SplineGeometry\n",
    "from math import pi\n",
    "import matplotlib.pyplot as plt\n",
    "import numpy as np"
   ]
  },
  {
   "cell_type": "code",
   "execution_count": 61,
   "metadata": {},
   "outputs": [
    {
     "ename": "RuntimeError",
     "evalue": "std::bad_cast",
     "output_type": "error",
     "traceback": [
      "\u001b[0;31m---------------------------------------------------------------------------\u001b[0m",
      "\u001b[0;31mRuntimeError\u001b[0m                              Traceback (most recent call last)",
      "\u001b[0;32m<ipython-input-61-0ff7282781bb>\u001b[0m in \u001b[0;36m<module>\u001b[0;34m\u001b[0m\n\u001b[1;32m      1\u001b[0m \u001b[0mgeo\u001b[0m \u001b[0;34m=\u001b[0m \u001b[0mSplineGeometry\u001b[0m\u001b[0;34m(\u001b[0m\u001b[0;34m)\u001b[0m\u001b[0;34m\u001b[0m\u001b[0;34m\u001b[0m\u001b[0m\n\u001b[1;32m      2\u001b[0m \u001b[0mgeo\u001b[0m\u001b[0;34m.\u001b[0m\u001b[0mAddRectangle\u001b[0m\u001b[0;34m(\u001b[0m\u001b[0;34m(\u001b[0m\u001b[0;34m-\u001b[0m\u001b[0;36m1\u001b[0m\u001b[0;34m,\u001b[0m\u001b[0;34m-\u001b[0m\u001b[0;36m1\u001b[0m\u001b[0;34m)\u001b[0m\u001b[0;34m,\u001b[0m\u001b[0;34m(\u001b[0m\u001b[0;36m1\u001b[0m\u001b[0;34m,\u001b[0m\u001b[0;36m1\u001b[0m\u001b[0;34m)\u001b[0m\u001b[0;34m,\u001b[0m\u001b[0mbc\u001b[0m\u001b[0;34m=\u001b[0m\u001b[0;36m1\u001b[0m\u001b[0;34m)\u001b[0m\u001b[0;34m\u001b[0m\u001b[0;34m\u001b[0m\u001b[0m\n\u001b[0;32m----> 3\u001b[0;31m \u001b[0mmesh\u001b[0m \u001b[0;34m=\u001b[0m \u001b[0mMesh\u001b[0m\u001b[0;34m(\u001b[0m \u001b[0mgeo\u001b[0m\u001b[0;34m.\u001b[0m\u001b[0mGenerateMesh\u001b[0m\u001b[0;34m(\u001b[0m\u001b[0mmaxh\u001b[0m\u001b[0;34m=\u001b[0m\u001b[0;36m0.5\u001b[0m\u001b[0;34m)\u001b[0m\u001b[0;34m)\u001b[0m\u001b[0;34m\u001b[0m\u001b[0;34m\u001b[0m\u001b[0m\n\u001b[0m\u001b[1;32m      4\u001b[0m \u001b[0;34m\u001b[0m\u001b[0m\n\u001b[1;32m      5\u001b[0m \u001b[0mV\u001b[0m \u001b[0;34m=\u001b[0m \u001b[0mH1\u001b[0m\u001b[0;34m(\u001b[0m\u001b[0mmesh\u001b[0m\u001b[0;34m,\u001b[0m \u001b[0morder\u001b[0m\u001b[0;34m=\u001b[0m\u001b[0;36m5\u001b[0m\u001b[0;34m,\u001b[0m \u001b[0mdirichlet\u001b[0m\u001b[0;34m=\u001b[0m\u001b[0;34m[\u001b[0m\u001b[0;36m1\u001b[0m\u001b[0;34m]\u001b[0m\u001b[0;34m)\u001b[0m\u001b[0;34m\u001b[0m\u001b[0;34m\u001b[0m\u001b[0m\n",
      "\u001b[0;31mRuntimeError\u001b[0m: std::bad_cast"
     ]
    }
   ],
   "source": [
    "geo = SplineGeometry()\n",
    "geo.AddRectangle((-1,-1),(1,1),bc=1)\n",
    "mesh = Mesh( geo.GenerateMesh(maxh=0.5))\n",
    "\n",
    "V = H1(mesh, order=5, dirichlet=[1])\n",
    "# finite element space and gridfunction to represent the heatflux:\n",
    "space_flux = HDiv(mesh, order=2)\n",
    "gf_flux = GridFunction(space_flux, \"flux\")\n",
    "\n",
    "u = V.TrialFunction()\n",
    "v = V.TestFunction()\n",
    "\n",
    "r = sqrt(x*x+y*y)\n",
    "r2 = x*x+y*y\n",
    "R = 1/2\n",
    "\n",
    "alpha = IfPos(r-R,2*log(1/R),1)\n",
    "\n",
    "solution = IfPos(r-R,1.0/16.0*log(r2)/log(R*R),1.0/8.0-r2/4.0)\n",
    "sol_flux = alpha * IfPos(r-R,1.0/16.0/log(R*R)*\n",
    "                     CoefficientFunction((2*x/r2,2*y/r2)),\n",
    "                     CoefficientFunction((-x/2.0,-y/2.0)))\n",
    "rhs = IfPos(r-R,0,1)"
   ]
  },
  {
   "cell_type": "code",
   "execution_count": 62,
   "metadata": {},
   "outputs": [],
   "source": [
    "a = BilinearForm(V, symmetric=False)\n",
    "a += SymbolicBFI(alpha*grad(u)*grad(v))\n",
    "\n",
    "f = LinearForm(V)\n",
    "f += SymbolicLFI(rhs*v)\n",
    "\n",
    "gfu = GridFunction(V)\n",
    "flux = alpha * grad(gfu)\n",
    "#gf_flux.Set(flux)\n",
    "Draw (gfu,mesh,\"u\")\n",
    "Draw (grad(gfu),mesh,\"grad_u\")"
   ]
  },
  {
   "cell_type": "code",
   "execution_count": 36,
   "metadata": {},
   "outputs": [],
   "source": [
    "def SolveBVP():\n",
    "    V.Update()\n",
    "    gfu.Update()\n",
    "    \n",
    "    space_flux.Update()\n",
    "    gf_flux.Update()\n",
    "    \n",
    "    a.Assemble()\n",
    "    f.Assemble()\n",
    "    gfu.Set(solution)\n",
    "    f.vec.data -= a.mat * gfu.vec\n",
    "    gfu.vec.data += a.mat.Inverse(V.FreeDofs(),\"umfpack\") * f.vec\n",
    "    Redraw (blocking=True)"
   ]
  },
  {
   "cell_type": "code",
   "execution_count": 37,
   "metadata": {},
   "outputs": [],
   "source": [
    "def CalcError():\n",
    "    space_flux.Update()\n",
    "    gf_flux.Update()\n",
    "    # interpolate finite element flux into H(div) space:\n",
    "    gf_flux.Set (flux)\n",
    "    # compute error on every element:\n",
    "    err = 1/alpha*(flux - sol_flux)*(flux - sol_flux)\n",
    "    elerr = Integrate (err, mesh, VOL, element_wise=True)\n",
    "    \n",
    "    # sort elements (corresponding to error contribution)\n",
    "    err_and_el_sorted = sorted([(entry,i) for i, entry in enumerate(elerr)], key= lambda x:-x[0])\n",
    "    # reset marks\n",
    "    marks = [False for el in mesh.Elements()]\n",
    "\n",
    "    # mark element with largest error until 10% of the error is on marked elements:\n",
    "    sumerr = sum(elerr)    \n",
    "    accsum = 0\n",
    "    for err,el in err_and_el_sorted:\n",
    "        if accsum < 0.1 * sumerr:\n",
    "            marks[el] = True\n",
    "            accsum += err\n",
    "        else:\n",
    "            break\n",
    "    \n",
    "    print (\"V.ndof = \", V.ndof)\n",
    "    H1error = sqrt(Integrate (1/alpha*(flux - sol_flux)*(flux - sol_flux), mesh, VOL))\n",
    "    print (\"weighted H1 (semi norm) error = \", H1error)\n",
    "    L2error = sqrt(Integrate ((gfu - solution)*(gfu - solution), mesh, VOL))\n",
    "    print (\"hier L2 error = \", L2error)\n",
    "    \n",
    "        # call the refinement according to the marks:\n",
    "    for el in mesh.Elements():\n",
    "        mesh.SetRefinementFlag(el, marks[el.nr])\n",
    "    return  L2error,V.ndof,sumerr"
   ]
  },
  {
   "cell_type": "code",
   "execution_count": 38,
   "metadata": {},
   "outputs": [
    {
     "name": "stdout",
     "output_type": "stream",
     "text": [
      "V.ndof =  491\n",
      "weighted H1 (semi norm) error =  0.01713316744507222\n",
      "hier L2 error =  0.000744379111921183\n",
      "V.ndof =  666\n",
      "weighted H1 (semi norm) error =  0.013831750665250591\n",
      "hier L2 error =  0.0009217234596384318\n",
      "V.ndof =  866\n",
      "weighted H1 (semi norm) error =  0.012442804560786861\n",
      "hier L2 error =  0.0009429110559289943\n",
      "V.ndof =  1066\n",
      "weighted H1 (semi norm) error =  0.011399532433764256\n",
      "hier L2 error =  0.0008054913346443921\n",
      "V.ndof =  1191\n",
      "weighted H1 (semi norm) error =  0.010737121444639106\n",
      "hier L2 error =  0.00036591389030978693\n",
      "V.ndof =  1391\n",
      "weighted H1 (semi norm) error =  0.010531912756012715\n",
      "hier L2 error =  0.0003587042616074409\n",
      "V.ndof =  1616\n",
      "weighted H1 (semi norm) error =  0.009513901366178865\n",
      "hier L2 error =  0.0003651789692109272\n",
      "V.ndof =  1866\n",
      "weighted H1 (semi norm) error =  0.008570688628097664\n",
      "hier L2 error =  0.0001969589988462459\n",
      "V.ndof =  2191\n",
      "weighted H1 (semi norm) error =  0.00762028696017575\n",
      "hier L2 error =  0.00020697571693737758\n",
      "V.ndof =  2556\n",
      "weighted H1 (semi norm) error =  0.007127867455154086\n",
      "hier L2 error =  0.00024460306576039304\n",
      "V.ndof =  2956\n",
      "weighted H1 (semi norm) error =  0.006671149648376758\n",
      "hier L2 error =  0.00024397446233562098\n",
      "V.ndof =  3381\n",
      "weighted H1 (semi norm) error =  0.006683458871837343\n",
      "hier L2 error =  0.0002595760367896535\n",
      "V.ndof =  4081\n",
      "weighted H1 (semi norm) error =  0.005933735380737732\n",
      "hier L2 error =  0.0002903060739941403\n",
      "V.ndof =  4556\n",
      "weighted H1 (semi norm) error =  0.0057035007847217895\n",
      "hier L2 error =  0.000266684058614692\n",
      "V.ndof =  4956\n",
      "weighted H1 (semi norm) error =  0.005608912968652967\n",
      "hier L2 error =  0.00020671669659440024\n",
      "V.ndof =  5381\n",
      "weighted H1 (semi norm) error =  0.005182677627424088\n",
      "hier L2 error =  0.0001345771098575423\n",
      "V.ndof =  5881\n",
      "weighted H1 (semi norm) error =  0.004998550947452277\n",
      "hier L2 error =  9.098930533869276e-05\n",
      "V.ndof =  6181\n",
      "weighted H1 (semi norm) error =  0.00500730777577149\n",
      "hier L2 error =  5.6526177742613305e-05\n",
      "V.ndof =  6531\n",
      "weighted H1 (semi norm) error =  0.0048870653867421196\n",
      "hier L2 error =  5.274517361492893e-05\n",
      "V.ndof =  7081\n",
      "weighted H1 (semi norm) error =  0.004818212024910061\n",
      "hier L2 error =  4.885056582845006e-05\n",
      "V.ndof =  8006\n",
      "weighted H1 (semi norm) error =  0.004637265213986646\n",
      "hier L2 error =  4.645257384274287e-05\n",
      "V.ndof =  8756\n",
      "weighted H1 (semi norm) error =  0.004427333086112235\n",
      "hier L2 error =  4.676333947646283e-05\n",
      "V.ndof =  9656\n",
      "weighted H1 (semi norm) error =  0.004271360704137399\n",
      "hier L2 error =  7.374190786048918e-05\n",
      "V.ndof =  10531\n",
      "weighted H1 (semi norm) error =  0.0042932954655063435\n",
      "hier L2 error =  2.1241442461831756e-05\n",
      "V.ndof =  11281\n",
      "weighted H1 (semi norm) error =  0.004080887240287743\n",
      "hier L2 error =  2.0760024904581176e-05\n",
      "V.ndof =  12356\n",
      "weighted H1 (semi norm) error =  0.0038705471520571588\n",
      "hier L2 error =  2.6962222805686783e-05\n",
      "V.ndof =  13456\n",
      "weighted H1 (semi norm) error =  0.003738221162214033\n",
      "hier L2 error =  1.9981072752644614e-05\n",
      "V.ndof =  14631\n",
      "weighted H1 (semi norm) error =  0.003570547848426858\n",
      "hier L2 error =  1.6018115012327276e-05\n",
      "V.ndof =  15906\n",
      "weighted H1 (semi norm) error =  0.0033832993677043537\n",
      "hier L2 error =  1.5234040219644191e-05\n",
      "V.ndof =  17456\n",
      "weighted H1 (semi norm) error =  0.0032475176056989234\n",
      "hier L2 error =  1.7390984738864143e-05\n",
      "V.ndof =  19081\n",
      "weighted H1 (semi norm) error =  0.0031138865340046193\n",
      "hier L2 error =  1.2198512994918731e-05\n",
      "V.ndof =  20881\n",
      "weighted H1 (semi norm) error =  0.0030383557022757362\n",
      "hier L2 error =  1.1988141151540727e-05\n"
     ]
    }
   ],
   "source": [
    "with TaskManager():\n",
    "    L2error_2 = []\n",
    "    H1error_2 = []\n",
    "    d_2 = []\n",
    "    #L2error_2 = []\n",
    "    #d_2 = []\n",
    "    while V.ndof < 10000:  \n",
    "        SolveBVP()\n",
    "        temp,d,H1flux = CalcError()\n",
    "        L2error_2.append(temp)\n",
    "        H1error_2.append(H1flux)\n",
    "        d_2.append(d)\n",
    "        mesh.Refine()\n",
    "    SolveBVP()"
   ]
  },
  {
   "cell_type": "markdown",
   "metadata": {},
   "source": [
    "### Constant estimation for the second point"
   ]
  },
  {
   "cell_type": "code",
   "execution_count": 57,
   "metadata": {},
   "outputs": [],
   "source": [
    "C_ap = 0\n",
    "C_un = 0\n",
    "#C = 0\n",
    "for i in range(len(L2error_2)):\n",
    "    C_ap += L2error_2[i]+H1error_2[i]\n",
    "C_ap = C_ap/len(L2error_2)\n",
    "\n",
    "for i in range(len(L2error_1)):\n",
    "    C_un += L2error_1[i]+H1error_1[i]\n",
    "C_un = C_un/len(L2error_1)"
   ]
  },
  {
   "cell_type": "code",
   "execution_count": 60,
   "metadata": {},
   "outputs": [
    {
     "name": "stdout",
     "output_type": "stream",
     "text": [
      "C uniformt:  0.0012403105990534864 C adapt:  0.0002778330369704921\n"
     ]
    }
   ],
   "source": [
    "print(\"C uniformt: \",C_un,\"C adapt: \",C_ap)"
   ]
  },
  {
   "cell_type": "code",
   "execution_count": 33,
   "metadata": {},
   "outputs": [
    {
     "data": {
      "text/plain": [
       "<matplotlib.legend.Legend at 0x7fe1fc4f0dd0>"
      ]
     },
     "execution_count": 33,
     "metadata": {},
     "output_type": "execute_result"
    },
    {
     "data": {
      "image/png": "[encoded data removed]",
      "text/plain": [
       "<Figure size 432x288 with 1 Axes>"
      ]
     },
     "metadata": {
      "needs_background": "light"
     },
     "output_type": "display_data"
    }
   ],
   "source": [
    "plt.figure()\n",
    "plt.title(\"uniform refinements vs adaptive refinements\")\n",
    "plt.grid()\n",
    "plt.semilogy(d_2,L2error_2,'b',label='L2_error uniform refinements')\n",
    "plt.semilogy(d_2,H1error_2,'g',label='L2_error adaptive refinements')\n",
    "#plt.semilogy(d_1,H1error_1)\n",
    "#plt.semilogy(d_2,H1error_2)\n",
    "plt.xlabel(\"dim V_h\")\n",
    "plt.ylabel(\"L2_norm\")\n",
    "plt.legend()\n",
    "#plt.savefig('uniform refinements vs adaptive refinements')"
   ]
  },
  {
   "cell_type": "markdown",
   "metadata": {},
   "source": [
    "### explenation\n",
    "The blue line represents the error with the uniform refinments. That means the mesh is uniformt over the hole domain. The other line th error from the adaptive one. The algorytmus measures the error and define the new grid in the \"critical area\". It lies on the boundary on the circuit with an radius of $R$."
   ]
  },
  {
   "cell_type": "code",
   "execution_count": 22,
   "metadata": {},
   "outputs": [
    {
     "data": {
      "image/png": "[encoded data removed]",
      "text/plain": [
       "<Figure size 432x288 with 1 Axes>"
      ]
     },
     "metadata": {
      "needs_background": "light"
     },
     "output_type": "display_data"
    }
   ],
   "source": [
    "plt.figure()\n",
    "plt.title(\"gradient recovery error vs L2_error (adaptive)\")\n",
    "plt.grid()\n",
    "#plt.semilogy(d_1,L2error_1)\n",
    "plt.semilogy(d_2,L2error_2,'g',label='L2_error adaptive refinements')\n",
    "plt.semilogy(d_2,H1error_2,color='orange',label='GR_error adaptive refinements')\n",
    "plt.xlabel(\"dim V_h\")\n",
    "plt.ylabel(\"error\")\n",
    "plt.legend()\n",
    "#plt.savefig('gradient recovery error vs L2_error (adaptive)')"
   ]
  },
  {
   "cell_type": "code",
   "execution_count": 23,
   "metadata": {},
   "outputs": [
    {
     "data": {
      "image/png": "[encoded data removed]",
      "text/plain": [
       "<Figure size 432x288 with 1 Axes>"
      ]
     },
     "metadata": {
      "needs_background": "light"
     },
     "output_type": "display_data"
    }
   ],
   "source": [
    "plt.figure()\n",
    "plt.title(\"gradient recovery error vs L2_error (uniform)\")\n",
    "plt.grid()\n",
    "#plt.semilogy(d_1,L2error_1)\n",
    "plt.semilogy(d_1,L2error_1,'b',label='L2_error uniform refinements')\n",
    "plt.semilogy(d_1,H1error_1,color='red',label='GR_error uniform refinements')\n",
    "plt.xlabel(\"dim V_h\")\n",
    "plt.ylabel(\"error\")\n",
    "plt.legend()\n",
    "#plt.savefig('gradient recovery error vs L2_error (uniform)')"
   ]
  },
  {
   "cell_type": "code",
   "execution_count": null,
   "metadata": {},
   "outputs": [],
   "source": []
  }
 ],
 "metadata": {
  "kernelspec": {
   "display_name": "Python 3",
   "language": "python",
   "name": "python3"
  },
  "language_info": {
   "codemirror_mode": {
    "name": "ipython",
    "version": 3
   },
   "file_extension": ".py",
   "mimetype": "text/x-python",
   "name": "python",
   "nbconvert_exporter": "python",
   "pygments_lexer": "ipython3",
   "version": "3.7.5"
  }
 },
 "nbformat": 4,
 "nbformat_minor": 4
}
