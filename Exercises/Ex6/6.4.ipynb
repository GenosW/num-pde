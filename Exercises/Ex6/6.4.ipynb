{
 "cells": [
  {
   "cell_type": "code",
   "execution_count": 1,
   "metadata": {},
   "outputs": [],
   "source": [
    "#import netgen.gui\n",
    "from ngsolve import *\n",
    "from netgen.geom2d import SplineGeometry\n",
    "from math import pi\n",
    "import matplotlib.pyplot as plt\n",
    "import numpy as np"
   ]
  },
  {
   "cell_type": "code",
   "execution_count": 12,
   "metadata": {},
   "outputs": [],
   "source": [
    "geo = SplineGeometry()\n",
    "geo.AddRectangle((-1,-1),(1,1),bc=1)\n",
    "mesh = Mesh( geo.GenerateMesh(maxh=0.5))\n",
    "\n",
    "V = H1(mesh, order=3, dirichlet=[1])\n",
    "# finite element space and gridfunction to represent the heatflux:\n",
    "space_flux = HDiv(mesh, order=2)\n",
    "gf_flux = GridFunction(space_flux, \"flux\")\n",
    "\n",
    "u = V.TrialFunction()\n",
    "v = V.TestFunction()\n",
    "\n",
    "r = sqrt(x*x+y*y)\n",
    "r2 = x*x+y*y\n",
    "R = 1/2\n",
    "\n",
    "alpha = IfPos(r-R,2*log(1/R),1)\n",
    "\n",
    "solution = IfPos(r-R,1.0/16.0*log(r2)/log(R*R),1.0/8.0-r2/4.0)\n",
    "sol_flux = alpha * IfPos(r-R,1.0/16.0/log(R*R)*\n",
    "                     CoefficientFunction((2*x/r2,2*y/r2)),\n",
    "                     CoefficientFunction((-x/2.0,-y/2.0)))\n",
    "rhs = IfPos(r-R,0,1)"
   ]
  },
  {
   "cell_type": "code",
   "execution_count": 13,
   "metadata": {},
   "outputs": [],
   "source": [
    "a = BilinearForm(V, symmetric=False)\n",
    "a += SymbolicBFI(alpha*grad(u)*grad(v))\n",
    "\n",
    "f = LinearForm(V)\n",
    "f += SymbolicLFI(rhs*v)\n",
    "\n",
    "gfu = GridFunction(V)\n",
    "flux = alpha * grad(gfu)\n",
    "#gf_flux.Set(flux)\n",
    "Draw (gfu,mesh,\"u\")\n",
    "Draw (grad(gfu),mesh,\"grad_u\")"
   ]
  },
  {
   "cell_type": "code",
   "execution_count": 14,
   "metadata": {},
   "outputs": [],
   "source": [
    "def SolveBVP():\n",
    "    V.Update()\n",
    "    gfu.Update()\n",
    "    \n",
    "    space_flux.Update()\n",
    "    gf_flux.Update()\n",
    "    \n",
    "    a.Assemble()\n",
    "    f.Assemble()\n",
    "    gfu.Set(solution)\n",
    "    f.vec.data -= a.mat * gfu.vec\n",
    "    gfu.vec.data += a.mat.Inverse(V.FreeDofs(),\"umfpack\") * f.vec\n",
    "    Redraw (blocking=True)"
   ]
  },
  {
   "cell_type": "code",
   "execution_count": 15,
   "metadata": {},
   "outputs": [],
   "source": [
    "def CalcError():\n",
    "    space_flux.Update()\n",
    "    gf_flux.Update()\n",
    "    # interpolate finite element flux into H(div) space:\n",
    "    gf_flux.Set (flux)\n",
    "    # compute error on every element:\n",
    "    err = 1/alpha*(flux - sol_flux)*(flux - sol_flux)\n",
    "    elerr = Integrate (err, mesh, VOL, element_wise=True)\n",
    "    \n",
    "    # sort elements (corresponding to error contribution)\n",
    "    err_and_el_sorted = sorted([(entry,i) for i, entry in enumerate(elerr)], key= lambda x:-x[0])\n",
    "    # reset marks\n",
    "    marks = [False for el in mesh.Elements()]\n",
    "\n",
    "    # mark element with largest error until 10% of the error is on marked elements:\n",
    "    sumerr = sum(elerr)    \n",
    "    accsum = 0\n",
    "    for err,el in err_and_el_sorted:\n",
    "        if accsum < 0.1 * sumerr:\n",
    "            marks[el] = True\n",
    "            accsum += err\n",
    "        else:\n",
    "            break\n",
    "    \n",
    "    print (\"V.ndof = \", V.ndof)\n",
    "    H1error = sqrt(Integrate (1/alpha*(flux - sol_flux)*(flux - sol_flux), mesh, VOL))\n",
    "    print (\"weighted H1 (semi norm) error = \", H1error)\n",
    "    L2error = sqrt(Integrate ((gfu - solution)*(gfu - solution), mesh, VOL))\n",
    "    print (\"hier L2 error = \", L2error)\n",
    "    \n",
    "        # call the refinement according to the marks:\n",
    "    for el in mesh.Elements():\n",
    "        mesh.SetRefinementFlag(el, marks[el.nr])\n",
    "    return  L2error,V.ndof,sumerr"
   ]
  },
  {
   "cell_type": "code",
   "execution_count": 16,
   "metadata": {},
   "outputs": [
    {
     "name": "stdout",
     "output_type": "stream",
     "text": [
      "V.ndof =  187\n",
      "weighted H1 (semi norm) error =  0.024959054259342965\n",
      "hier L2 error =  0.002462722808148027\n",
      "V.ndof =  223\n",
      "weighted H1 (semi norm) error =  0.022888471449799105\n",
      "hier L2 error =  0.0026794152296791534\n",
      "V.ndof =  277\n",
      "weighted H1 (semi norm) error =  0.018998143874695613\n",
      "hier L2 error =  0.0010821887077441395\n",
      "V.ndof =  349\n",
      "weighted H1 (semi norm) error =  0.017664852668943392\n",
      "hier L2 error =  0.0008283449671201662\n",
      "V.ndof =  394\n",
      "weighted H1 (semi norm) error =  0.017383427823566028\n",
      "hier L2 error =  0.0009115381432693107\n",
      "V.ndof =  439\n",
      "weighted H1 (semi norm) error =  0.01602484983446081\n",
      "hier L2 error =  0.0006837596810957443\n",
      "V.ndof =  547\n",
      "weighted H1 (semi norm) error =  0.014210889637124633\n",
      "hier L2 error =  0.0005123112180938968\n",
      "V.ndof =  637\n",
      "weighted H1 (semi norm) error =  0.013189342915648208\n",
      "hier L2 error =  0.0003579056434196425\n",
      "V.ndof =  700\n",
      "weighted H1 (semi norm) error =  0.012877023723206893\n",
      "hier L2 error =  0.0005079172702962653\n",
      "V.ndof =  790\n",
      "weighted H1 (semi norm) error =  0.011923079827301227\n",
      "hier L2 error =  0.0004334578041054462\n",
      "V.ndof =  949\n",
      "weighted H1 (semi norm) error =  0.011251929466208089\n",
      "hier L2 error =  0.0003690872415493557\n",
      "V.ndof =  1057\n",
      "weighted H1 (semi norm) error =  0.01028455231741578\n",
      "hier L2 error =  0.00029557918315902714\n",
      "V.ndof =  1183\n",
      "weighted H1 (semi norm) error =  0.009818356057811934\n",
      "hier L2 error =  0.00020806196073468037\n",
      "V.ndof =  1273\n",
      "weighted H1 (semi norm) error =  0.009486044182205295\n",
      "hier L2 error =  0.00015779112311585798\n",
      "V.ndof =  1444\n",
      "weighted H1 (semi norm) error =  0.008946433977746361\n",
      "hier L2 error =  0.00011672767656423501\n",
      "V.ndof =  1561\n",
      "weighted H1 (semi norm) error =  0.008473357513094833\n",
      "hier L2 error =  0.00011568189587785186\n",
      "V.ndof =  1750\n",
      "weighted H1 (semi norm) error =  0.00802305178352155\n",
      "hier L2 error =  0.0001332169374963001\n",
      "V.ndof =  1903\n",
      "weighted H1 (semi norm) error =  0.00762000138451934\n",
      "hier L2 error =  0.00017524549484874524\n",
      "V.ndof =  2056\n",
      "weighted H1 (semi norm) error =  0.007444994221098096\n",
      "hier L2 error =  0.00013513417743951496\n",
      "V.ndof =  2254\n",
      "weighted H1 (semi norm) error =  0.007102303698465338\n",
      "hier L2 error =  7.365510971711903e-05\n",
      "V.ndof =  2524\n",
      "weighted H1 (semi norm) error =  0.006929257506722681\n",
      "hier L2 error =  7.350525677572757e-05\n",
      "V.ndof =  2722\n",
      "weighted H1 (semi norm) error =  0.006665019637891947\n",
      "hier L2 error =  5.8127786500697355e-05\n",
      "V.ndof =  3028\n",
      "weighted H1 (semi norm) error =  0.006315103895974436\n",
      "hier L2 error =  6.438671527437836e-05\n",
      "V.ndof =  3415\n",
      "weighted H1 (semi norm) error =  0.006149967791702245\n",
      "hier L2 error =  5.4713657758862936e-05\n",
      "V.ndof =  3685\n",
      "weighted H1 (semi norm) error =  0.005792364156919882\n",
      "hier L2 error =  5.050921258096789e-05\n",
      "V.ndof =  4054\n",
      "weighted H1 (semi norm) error =  0.005640053282807785\n",
      "hier L2 error =  4.9162435577458164e-05\n",
      "V.ndof =  4423\n",
      "weighted H1 (semi norm) error =  0.0054457894430900294\n",
      "hier L2 error =  4.4017035983147027e-05\n",
      "V.ndof =  4747\n",
      "weighted H1 (semi norm) error =  0.0051307472778926826\n",
      "hier L2 error =  3.4454892735474215e-05\n",
      "V.ndof =  5188\n",
      "weighted H1 (semi norm) error =  0.004973260569238572\n",
      "hier L2 error =  3.160703034212881e-05\n",
      "V.ndof =  5476\n",
      "weighted H1 (semi norm) error =  0.004854998850467554\n",
      "hier L2 error =  3.188111020099204e-05\n",
      "V.ndof =  5899\n",
      "weighted H1 (semi norm) error =  0.0046876637660784445\n",
      "hier L2 error =  3.507662772664756e-05\n",
      "V.ndof =  6682\n",
      "weighted H1 (semi norm) error =  0.004519278267801994\n",
      "hier L2 error =  3.4165460334181177e-05\n",
      "V.ndof =  7330\n",
      "weighted H1 (semi norm) error =  0.004295975655707772\n",
      "hier L2 error =  3.492379162994852e-05\n",
      "V.ndof =  7924\n",
      "weighted H1 (semi norm) error =  0.004156242528990478\n",
      "hier L2 error =  3.750550726920766e-05\n",
      "V.ndof =  8671\n",
      "weighted H1 (semi norm) error =  0.004002369923421774\n",
      "hier L2 error =  3.320968605687108e-05\n",
      "V.ndof =  9472\n",
      "weighted H1 (semi norm) error =  0.003828156386410847\n",
      "hier L2 error =  2.9259763678693534e-05\n",
      "V.ndof =  10192\n",
      "weighted H1 (semi norm) error =  0.003650792254574415\n",
      "hier L2 error =  2.3379979929205086e-05\n"
     ]
    }
   ],
   "source": [
    "with TaskManager():\n",
    "    L2error_2 = []\n",
    "    H1error_2 = []\n",
    "    d_2 = []\n",
    "    #L2error_2 = []\n",
    "    #d_2 = []\n",
    "    while V.ndof < 10000:  \n",
    "        SolveBVP()\n",
    "        temp,d,H1flux = CalcError()\n",
    "        L2error_2.append(temp)\n",
    "        H1error_2.append(H1flux)\n",
    "        d_2.append(d)\n",
    "        mesh.Refine()\n",
    "    SolveBVP()"
   ]
  },
  {
   "cell_type": "code",
   "execution_count": 21,
   "metadata": {},
   "outputs": [
    {
     "data": {
      "text/plain": [
       "[0.0006229543895208262,\n",
       " 0.0005238821253082687,\n",
       " 0.0003609294706836345,\n",
       " 0.0003120470198154765,\n",
       " 0.0003021835628971294,\n",
       " 0.00025679581221701867,\n",
       " 0.0002019493842785363,\n",
       " 0.0001739587665465596,\n",
       " 0.0001658177399680331,\n",
       " 0.00014215983256819745,\n",
       " 0.00012660591671252185,\n",
       " 0.00010577201636966229,\n",
       " 9.64001156779723e-05,\n",
       " 8.998503422675092e-05,\n",
       " 8.003868091817458e-05,\n",
       " 7.179778754472066e-05,\n",
       " 6.43693599210683e-05,\n",
       " 5.806442110007667e-05,\n",
       " 5.542793895218405e-05,\n",
       " 5.044271782523442e-05,\n",
       " 4.8014609594472616e-05,\n",
       " 4.4422486773485305e-05,\n",
       " 3.98805372169515e-05,\n",
       " 3.782210383897499e-05,\n",
       " 3.3551482526370176e-05,\n",
       " 3.181020103291087e-05,\n",
       " 2.965662265847082e-05,\n",
       " 2.6324567629603176e-05,\n",
       " 2.4733320689543163e-05,\n",
       " 2.357101383804127e-05,\n",
       " 2.1974191583804753e-05,\n",
       " 2.0423876061827385e-05,\n",
       " 1.8455406834433826e-05,\n",
       " 1.7274351959789168e-05,\n",
       " 1.601896500391122e-05,\n",
       " 1.4654781318818153e-05,\n",
       " 1.3328284086060538e-05]"
      ]
     },
     "execution_count": 21,
     "metadata": {},
     "output_type": "execute_result"
    }
   ],
   "source": [
    "L2error_2\n",
    "H1error_2"
   ]
  },
  {
   "cell_type": "code",
   "execution_count": 40,
   "metadata": {},
   "outputs": [
    {
     "data": {
      "image/png": "[encoded data removed]",
      "text/plain": [
       "<Figure size 432x288 with 1 Axes>"
      ]
     },
     "metadata": {
      "needs_background": "light"
     },
     "output_type": "display_data"
    }
   ],
   "source": [
    "plt.figure()\n",
    "plt.title(\"uniform refinements vs adaptive refinements\")\n",
    "plt.grid()\n",
    "plt.semilogy(d_1,L2error_1,'b',label='L2_error uniform refinements')\n",
    "plt.semilogy(d_2,L2error_2,'g',label='L2_error adaptive refinements')\n",
    "#plt.semilogy(d_1,H1error_1)\n",
    "#plt.semilogy(d_2,H1error_2)\n",
    "plt.xlabel(\"dim V_h\")\n",
    "plt.ylabel(\"L2_norm\")\n",
    "plt.legend()\n",
    "plt.savefig('uniform refinements vs adaptive refinements')"
   ]
  },
  {
   "cell_type": "markdown",
   "metadata": {},
   "source": [
    "### explenation\n",
    "The blue line represents the error with the uniform refinments. That means the mesh is uniformt over the hole domain. The other line th error from the adaptive one. The algorytmus measures the error and define the new grid in the \"critical area\". It lies on the boundary on the circuit with an radius of $R$."
   ]
  },
  {
   "cell_type": "code",
   "execution_count": 41,
   "metadata": {},
   "outputs": [
    {
     "data": {
      "image/png": "[encoded data removed]",
      "text/plain": [
       "<Figure size 432x288 with 1 Axes>"
      ]
     },
     "metadata": {
      "needs_background": "light"
     },
     "output_type": "display_data"
    }
   ],
   "source": [
    "plt.figure()\n",
    "plt.title(\"gradient recovery error vs L2_error (adaptive)\")\n",
    "plt.grid()\n",
    "#plt.semilogy(d_1,L2error_1)\n",
    "plt.semilogy(d_2,L2error_2,'g',label='L2_error adaptive refinements')\n",
    "plt.semilogy(d_2,H1error_2,color='orange',label='GR_error adaptive refinements')\n",
    "plt.xlabel(\"dim V_h\")\n",
    "plt.ylabel(\"error\")\n",
    "plt.legend()\n",
    "plt.savefig('gradient recovery error vs L2_error (adaptive)')"
   ]
  },
  {
   "cell_type": "code",
   "execution_count": 42,
   "metadata": {},
   "outputs": [
    {
     "data": {
      "image/png": "[encoded data removed]",
      "text/plain": [
       "<Figure size 432x288 with 1 Axes>"
      ]
     },
     "metadata": {
      "needs_background": "light"
     },
     "output_type": "display_data"
    }
   ],
   "source": [
    "plt.figure()\n",
    "plt.title(\"gradient recovery error vs L2_error (uniform)\")\n",
    "plt.grid()\n",
    "#plt.semilogy(d_1,L2error_1)\n",
    "plt.semilogy(d_1,L2error_1,'b',label='L2_error uniform refinements')\n",
    "plt.semilogy(d_1,H1error_1,color='red',label='GR_error uniform refinements')\n",
    "plt.xlabel(\"dim V_h\")\n",
    "plt.ylabel(\"error\")\n",
    "plt.legend()\n",
    "plt.savefig('gradient recovery error vs L2_error (uniform)')"
   ]
  },
  {
   "cell_type": "code",
   "execution_count": null,
   "metadata": {},
   "outputs": [],
   "source": []
  }
 ],
 "metadata": {
  "kernelspec": {
   "display_name": "Python 3",
   "language": "python",
   "name": "python3"
  },
  "language_info": {
   "codemirror_mode": {
    "name": "ipython",
    "version": 3
   },
   "file_extension": ".py",
   "mimetype": "text/x-python",
   "name": "python",
   "nbconvert_exporter": "python",
   "pygments_lexer": "ipython3",
   "version": "3.7.5"
  }
 },
 "nbformat": 4,
 "nbformat_minor": 4
}
