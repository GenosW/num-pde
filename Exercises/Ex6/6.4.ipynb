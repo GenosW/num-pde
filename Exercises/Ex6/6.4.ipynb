{
 "cells": [
  {
   "cell_type": "code",
   "execution_count": 1,
   "metadata": {},
   "outputs": [],
   "source": [
    "import netgen.gui\n",
    "from ngsolve import *\n",
    "from netgen.geom2d import SplineGeometry\n",
    "from math import pi\n",
    "import matplotlib.pyplot as plt\n",
    "import numpy as np"
   ]
  },
  {
   "cell_type": "code",
   "execution_count": null,
   "metadata": {},
   "outputs": [],
   "source": [
    "geo = SplineGeometry()\n",
    "geo.AddRectangle((-1,-1),(1,1),bc=1)\n",
    "mesh = Mesh( geo.GenerateMesh(maxh=0.5))\n",
    "\n",
    "V = H1(mesh, order=5, dirichlet=[1])\n",
    "# finite element space and gridfunction to represent the heatflux:\n",
    "space_flux = HDiv(mesh, order=2)\n",
    "gf_flux = GridFunction(space_flux, \"flux\")\n",
    "\n",
    "u = V.TrialFunction()\n",
    "v = V.TestFunction()\n",
    "\n",
    "r = sqrt(x*x+y*y)\n",
    "r2 = x*x+y*y\n",
    "R = 1/2\n",
    "\n",
    "alpha = IfPos(r-R,2*log(1/R),1)\n",
    "\n",
    "solution = IfPos(r-R,1.0/16.0*log(r2)/log(R*R),1.0/8.0-r2/4.0)\n",
    "sol_flux = alpha * IfPos(r-R,1.0/16.0/log(R*R)*\n",
    "                     CoefficientFunction((2*x/r2,2*y/r2)),\n",
    "                     CoefficientFunction((-x/2.0,-y/2.0)))\n",
    "rhs = IfPos(r-R,0,1)"
   ]
  },
  {
   "cell_type": "code",
   "execution_count": null,
   "metadata": {},
   "outputs": [],
   "source": [
    "a = BilinearForm(V, symmetric=False)\n",
    "a += SymbolicBFI(alpha*grad(u)*grad(v))\n",
    "\n",
    "f = LinearForm(V)\n",
    "f += SymbolicLFI(rhs*v)\n",
    "\n",
    "gfu = GridFunction(V)\n",
    "flux = alpha * grad(gfu)\n",
    "#gf_flux.Set(flux)\n",
    "Draw (gfu,mesh,\"u\")\n",
    "Draw (grad(gfu),mesh,\"grad_u\")"
   ]
  },
  {
   "cell_type": "code",
   "execution_count": null,
   "metadata": {},
   "outputs": [],
   "source": [
    "def SolveBVP():\n",
    "    V.Update()\n",
    "    gfu.Update()\n",
    "    \n",
    "    space_flux.Update()\n",
    "    gf_flux.Update()\n",
    "    \n",
    "    a.Assemble()\n",
    "    f.Assemble()\n",
    "    gfu.Set(solution)\n",
    "    f.vec.data -= a.mat * gfu.vec\n",
    "    gfu.vec.data += a.mat.Inverse(V.FreeDofs(),\"umfpack\") * f.vec\n",
    "    Redraw (blocking=True)"
   ]
  },
  {
   "cell_type": "code",
   "execution_count": null,
   "metadata": {},
   "outputs": [],
   "source": [
    "def CalcError():\n",
    "    space_flux.Update()\n",
    "    gf_flux.Update()\n",
    "    # interpolate finite element flux into H(div) space:\n",
    "    gf_flux.Set (flux)\n",
    "    # compute error on every element:\n",
    "    err = 1/alpha*(flux - sol_flux)*(flux - sol_flux)\n",
    "    elerr = Integrate (err, mesh, VOL, element_wise=True)\n",
    "    \n",
    "    # sort elements (corresponding to error contribution)\n",
    "    err_and_el_sorted = sorted([(entry,i) for i, entry in enumerate(elerr)], key= lambda x:-x[0])\n",
    "    # reset marks\n",
    "    marks = [False for el in mesh.Elements()]\n",
    "\n",
    "    # mark element with largest error until 10% of the error is on marked elements:\n",
    "    sumerr = sum(elerr)    \n",
    "    accsum = 0\n",
    "    for err,el in err_and_el_sorted:\n",
    "        if accsum < 0.1 * sumerr:\n",
    "            marks[el] = True\n",
    "            accsum += err\n",
    "        else:\n",
    "            break\n",
    "    \n",
    "    print (\"V.ndof = \", V.ndof)\n",
    "    H1error = sqrt(Integrate (1/alpha*(flux - sol_flux)*(flux - sol_flux), mesh, VOL))\n",
    "    print (\"weighted H1 (semi norm) error = \", H1error)\n",
    "    L2error = sqrt(Integrate ((gfu - solution)*(gfu - solution), mesh, VOL))\n",
    "    print (\"hier L2 error = \", L2error)\n",
    "    \n",
    "        # call the refinement according to the marks:\n",
    "    for el in mesh.Elements():\n",
    "        mesh.SetRefinementFlag(el, marks[el.nr])\n",
    "    return  L2error,V.ndof,sumerr"
   ]
  },
  {
   "cell_type": "code",
   "execution_count": null,
   "metadata": {},
   "outputs": [],
   "source": [
    "with TaskManager():\n",
    "    L2error_2 = []\n",
    "    H1error_2 = []\n",
    "    d_2 = []\n",
    "    #L2error_2 = []\n",
    "    #d_2 = []\n",
    "    while V.ndof < 10000:  \n",
    "        SolveBVP()\n",
    "        temp,d,H1flux = CalcError()\n",
    "        L2error_2.append(temp)\n",
    "        H1error_2.append(H1flux)\n",
    "        d_2.append(d)\n",
    "        mesh.Refine()\n",
    "    SolveBVP()"
   ]
  },
  {
   "cell_type": "markdown",
   "metadata": {},
   "source": [
    "### Constant estimation for the second point"
   ]
  },
  {
   "cell_type": "code",
   "execution_count": null,
   "metadata": {},
   "outputs": [],
   "source": [
    "C_ap = 0\n",
    "C_un = 0\n",
    "#C = 0\n",
    "for i in range(len(L2error_2)):\n",
    "    C_ap += L2error_2[i]+H1error_2[i]\n",
    "C_ap = C_ap/len(L2error_2)\n",
    "\n",
    "for i in range(len(L2error_1)):\n",
    "    C_un += L2error_1[i]+H1error_1[i]\n",
    "C_un = C_un/len(L2error_1)"
   ]
  },
  {
   "cell_type": "code",
   "execution_count": null,
   "metadata": {},
   "outputs": [],
   "source": [
    "print(\"C uniformt: \",C_un,\"C adapt: \",C_ap)"
   ]
  },
  {
   "cell_type": "code",
   "execution_count": null,
   "metadata": {},
   "outputs": [],
   "source": [
    "plt.figure()\n",
    "plt.title(\"uniform refinements vs adaptive refinements\")\n",
    "plt.grid()\n",
    "plt.semilogy(d_2,L2error_2,'b',label='L2_error uniform refinements')\n",
    "plt.semilogy(d_2,H1error_2,'g',label='L2_error adaptive refinements')\n",
    "#plt.semilogy(d_1,H1error_1)\n",
    "#plt.semilogy(d_2,H1error_2)\n",
    "plt.xlabel(\"dim V_h\")\n",
    "plt.ylabel(\"L2_norm\")\n",
    "plt.legend()\n",
    "#plt.savefig('uniform refinements vs adaptive refinements')"
   ]
  },
  {
   "cell_type": "markdown",
   "metadata": {},
   "source": [
    "### explenation\n",
    "The blue line represents the error with the uniform refinments. That means the mesh is uniformt over the hole domain. The other line th error from the adaptive one. The algorytmus measures the error and define the new grid in the \"critical area\". It lies on the boundary on the circuit with an radius of $R$."
   ]
  },
  {
   "cell_type": "code",
   "execution_count": null,
   "metadata": {},
   "outputs": [],
   "source": [
    "plt.figure()\n",
    "plt.title(\"gradient recovery error vs L2_error (adaptive)\")\n",
    "plt.grid()\n",
    "#plt.semilogy(d_1,L2error_1)\n",
    "plt.semilogy(d_2,L2error_2,'g',label='L2_error adaptive refinements')\n",
    "plt.semilogy(d_2,H1error_2,color='orange',label='GR_error adaptive refinements')\n",
    "plt.xlabel(\"dim V_h\")\n",
    "plt.ylabel(\"error\")\n",
    "plt.legend()\n",
    "#plt.savefig('gradient recovery error vs L2_error (adaptive)')"
   ]
  },
  {
   "cell_type": "code",
   "execution_count": null,
   "metadata": {},
   "outputs": [],
   "source": [
    "plt.figure()\n",
    "plt.title(\"gradient recovery error vs L2_error (uniform)\")\n",
    "plt.grid()\n",
    "#plt.semilogy(d_1,L2error_1)\n",
    "plt.semilogy(d_1,L2error_1,'b',label='L2_error uniform refinements')\n",
    "plt.semilogy(d_1,H1error_1,color='red',label='GR_error uniform refinements')\n",
    "plt.xlabel(\"dim V_h\")\n",
    "plt.ylabel(\"error\")\n",
    "plt.legend()\n",
    "#plt.savefig('gradient recovery error vs L2_error (uniform)')"
   ]
  },
  {
   "cell_type": "code",
   "execution_count": null,
   "metadata": {},
   "outputs": [],
   "source": []
  }
 ],
 "metadata": {
  "kernelspec": {
   "display_name": "Python 3",
   "language": "python",
   "name": "python3"
  },
  "language_info": {
   "codemirror_mode": {
    "name": "ipython",
    "version": 3
   },
   "file_extension": ".py",
   "mimetype": "text/x-python",
   "name": "python",
   "nbconvert_exporter": "python",
   "pygments_lexer": "ipython3",
   "version": "3.7.5"
  }
 },
 "nbformat": 4,
 "nbformat_minor": 4
}
