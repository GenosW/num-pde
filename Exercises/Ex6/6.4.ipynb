{
 "cells": [
  {
   "cell_type": "code",
   "execution_count": 1,
   "metadata": {},
   "outputs": [],
   "source": [
    "import netgen.gui\n",
    "from ngsolve import *\n",
    "from netgen.geom2d import SplineGeometry\n",
    "from math import pi\n",
    "import matplotlib.pyplot as plt\n",
    "import numpy as np"
   ]
  },
  {
   "cell_type": "code",
   "execution_count": 19,
   "metadata": {},
   "outputs": [],
   "source": [
    "geo = SplineGeometry()\n",
    "geo.AddRectangle((-1,-1),(1,1),bc=1)\n",
    "mesh = Mesh( geo.GenerateMesh(maxh=0.5))\n",
    "\n",
    "V = H1(mesh, order=3, dirichlet=[1])\n",
    "# finite element space and gridfunction to represent the heatflux:\n",
    "space_flux = HDiv(mesh, order=2)\n",
    "gf_flux = GridFunction(space_flux, \"flux\")\n",
    "\n",
    "u = V.TrialFunction()\n",
    "v = V.TestFunction()\n",
    "\n",
    "r = sqrt(x*x+y*y)\n",
    "r2 = x*x+y*y\n",
    "R = 1/2\n",
    "\n",
    "alpha = IfPos(r-R,2*log(1/R),1)\n",
    "\n",
    "solution = IfPos(r-R,1.0/16.0*log(r2)/log(R*R),1.0/8.0-r2/4.0)\n",
    "sol_flux = alpha * IfPos(r-R,1.0/16.0/log(R*R)*\n",
    "                     CoefficientFunction((2*x/r2,2*y/r2)),\n",
    "                     CoefficientFunction((-x/2.0,-y/2.0)))\n",
    "rhs = IfPos(r-R,0,1)"
   ]
  },
  {
   "cell_type": "code",
   "execution_count": 20,
   "metadata": {},
   "outputs": [],
   "source": [
    "a = BilinearForm(V, symmetric=False)\n",
    "a += SymbolicBFI(alpha*grad(u)*grad(v))\n",
    "\n",
    "f = LinearForm(V)\n",
    "f += SymbolicLFI(rhs*v)\n",
    "\n",
    "gfu = GridFunction(V)\n",
    "flux = alpha * grad(gfu)\n",
    "#gf_flux.Set(flux)\n",
    "Draw (gfu,mesh,\"u\")\n",
    "Draw (grad(gfu),mesh,\"grad_u\")"
   ]
  },
  {
   "cell_type": "code",
   "execution_count": 21,
   "metadata": {},
   "outputs": [],
   "source": [
    "def SolveBVP():\n",
    "    V.Update()\n",
    "    gfu.Update()\n",
    "    \n",
    "    #space_flux.Update()\n",
    "    #gf_flux.Update()\n",
    "    \n",
    "    a.Assemble()\n",
    "    f.Assemble()\n",
    "    gfu.Set(solution)\n",
    "    f.vec.data -= a.mat * gfu.vec\n",
    "    gfu.vec.data += a.mat.Inverse(V.FreeDofs(),\"umfpack\") * f.vec\n",
    "    Redraw (blocking=True)"
   ]
  },
  {
   "cell_type": "code",
   "execution_count": 22,
   "metadata": {},
   "outputs": [],
   "source": [
    "def CalcError():\n",
    "    space_flux.Update()\n",
    "    gf_flux.Update()\n",
    "    # interpolate finite element flux into H(div) space:\n",
    "    gf_flux.Set (flux)\n",
    "    # compute error on every element:\n",
    "    \n",
    "    # for 6.4.1 remove that: \n",
    "    #err = 1/alpha*(flux-gf_flux)*(flux-gf_flux)\n",
    "    \n",
    "    # for 6.4.2 remove that: \n",
    "    err = 1/alpha*(flux-sol_flux)*(flux-sol_flux)\n",
    "    \n",
    "    \n",
    "    elerr = Integrate (err, mesh, VOL, element_wise=True)\n",
    "    \n",
    "    # sort elements (corresponding to error contribution)\n",
    "    err_and_el_sorted = sorted([(entry,i) for i, entry in enumerate(elerr)], key= lambda x:-x[0])\n",
    "    # reset marks\n",
    "    marks = [False for el in mesh.Elements()]\n",
    "\n",
    "    # mark element with largest error until 10% of the error is on marked elements:\n",
    "    sumerr = sum(elerr)    \n",
    "    accsum = 0\n",
    "    for err,el in err_and_el_sorted:\n",
    "        if accsum < 0.1 * sumerr:\n",
    "            marks[el] = True\n",
    "            accsum += err\n",
    "        else:\n",
    "            break\n",
    "    \n",
    "    print (\"V.ndof = \", V.ndof)\n",
    "    H1error = sqrt(Integrate (1/alpha*(flux - sol_flux)*(flux - sol_flux), mesh, VOL))\n",
    "    print (\"weighted H1 (semi norm) error = \", H1error)\n",
    "    L2error = sqrt(Integrate ((gfu - solution)*(gfu - solution), mesh, VOL))\n",
    "    print (\"hier L2 error = \", L2error)\n",
    "    \n",
    "        # call the refinement according to the marks:\n",
    "    for el in mesh.Elements():\n",
    "        mesh.SetRefinementFlag(el, marks[el.nr])\n",
    "        \n",
    "    # for 6.4.1 remove that:        \n",
    "    #return  V.ndof,L2error\n",
    "\n",
    "    # for 6.4.2 remove that:\n",
    "    return  V.ndof,sqrt(sumerr)"
   ]
  },
  {
   "cell_type": "code",
   "execution_count": 23,
   "metadata": {},
   "outputs": [
    {
     "name": "stdout",
     "output_type": "stream",
     "text": [
      "V.ndof =  187\n",
      "weighted H1 (semi norm) error =  0.02495905425934296\n",
      "hier L2 error =  0.002462722808148028\n",
      "V.ndof =  223\n",
      "weighted H1 (semi norm) error =  0.022888471449799087\n",
      "hier L2 error =  0.0026794152296791426\n",
      "V.ndof =  277\n",
      "weighted H1 (semi norm) error =  0.018998143874695606\n",
      "hier L2 error =  0.0010821887077441333\n",
      "V.ndof =  349\n",
      "weighted H1 (semi norm) error =  0.017664852668943392\n",
      "hier L2 error =  0.0008283449671201604\n",
      "V.ndof =  394\n",
      "weighted H1 (semi norm) error =  0.01738342782356602\n",
      "hier L2 error =  0.0009115381432692936\n",
      "V.ndof =  439\n",
      "weighted H1 (semi norm) error =  0.01602484983446081\n",
      "hier L2 error =  0.0006837596810957266\n",
      "V.ndof =  547\n",
      "weighted H1 (semi norm) error =  0.014210889637124625\n",
      "hier L2 error =  0.0005123112180938932\n",
      "V.ndof =  637\n",
      "weighted H1 (semi norm) error =  0.013189342915648213\n",
      "hier L2 error =  0.00035790564341964997\n",
      "V.ndof =  700\n",
      "weighted H1 (semi norm) error =  0.01287702372320689\n",
      "hier L2 error =  0.0005079172702962822\n",
      "V.ndof =  790\n",
      "weighted H1 (semi norm) error =  0.011923079827301224\n",
      "hier L2 error =  0.00043345780410545187\n",
      "V.ndof =  949\n",
      "weighted H1 (semi norm) error =  0.011251929466208075\n",
      "hier L2 error =  0.0003690872415493449\n",
      "V.ndof =  1057\n",
      "weighted H1 (semi norm) error =  0.01028455231741579\n",
      "hier L2 error =  0.00029557918315904687\n",
      "V.ndof =  1183\n",
      "weighted H1 (semi norm) error =  0.009818356057811934\n",
      "hier L2 error =  0.00020806196073468186\n",
      "V.ndof =  1273\n",
      "weighted H1 (semi norm) error =  0.009486044182205298\n",
      "hier L2 error =  0.0001577911231158539\n",
      "V.ndof =  1444\n",
      "weighted H1 (semi norm) error =  0.008946433977746368\n",
      "hier L2 error =  0.00011672767656424919\n",
      "V.ndof =  1561\n",
      "weighted H1 (semi norm) error =  0.008473357513094826\n",
      "hier L2 error =  0.00011568189587786905\n",
      "V.ndof =  1750\n",
      "weighted H1 (semi norm) error =  0.00802305178352155\n",
      "hier L2 error =  0.00013321693749628196\n",
      "V.ndof =  1903\n",
      "weighted H1 (semi norm) error =  0.007620001384519343\n",
      "hier L2 error =  0.00017524549484873017\n",
      "V.ndof =  2056\n",
      "weighted H1 (semi norm) error =  0.007444994221098105\n",
      "hier L2 error =  0.00013513417743953604\n",
      "V.ndof =  2254\n",
      "weighted H1 (semi norm) error =  0.007102303698465345\n",
      "hier L2 error =  7.3655109717122e-05\n",
      "V.ndof =  2524\n",
      "weighted H1 (semi norm) error =  0.006929257506722678\n",
      "hier L2 error =  7.350525677573477e-05\n",
      "V.ndof =  2722\n",
      "weighted H1 (semi norm) error =  0.006665019637891943\n",
      "hier L2 error =  5.812778650072097e-05\n",
      "V.ndof =  3028\n",
      "weighted H1 (semi norm) error =  0.0063151038959744455\n",
      "hier L2 error =  6.438671527435447e-05\n",
      "V.ndof =  3415\n",
      "weighted H1 (semi norm) error =  0.006149967791702225\n",
      "hier L2 error =  5.47136577587983e-05\n",
      "V.ndof =  3685\n",
      "weighted H1 (semi norm) error =  0.005792364156919885\n",
      "hier L2 error =  5.050921258096293e-05\n",
      "V.ndof =  4054\n",
      "weighted H1 (semi norm) error =  0.005640053282807783\n",
      "hier L2 error =  4.916243557742755e-05\n",
      "V.ndof =  4423\n",
      "weighted H1 (semi norm) error =  0.005445789443090047\n",
      "hier L2 error =  4.401703598320773e-05\n",
      "V.ndof =  4747\n",
      "weighted H1 (semi norm) error =  0.005130747277892686\n",
      "hier L2 error =  3.4454892735447536e-05\n",
      "V.ndof =  5188\n",
      "weighted H1 (semi norm) error =  0.004973260569238577\n",
      "hier L2 error =  3.1607030342154574e-05\n",
      "V.ndof =  5476\n",
      "weighted H1 (semi norm) error =  0.004854998850467551\n",
      "hier L2 error =  3.188111020099837e-05\n",
      "V.ndof =  5899\n",
      "weighted H1 (semi norm) error =  0.0046876637660784445\n",
      "hier L2 error =  3.50766277266574e-05\n",
      "V.ndof =  6682\n",
      "weighted H1 (semi norm) error =  0.004519278267801991\n",
      "hier L2 error =  3.4165460334190826e-05\n",
      "V.ndof =  7330\n",
      "weighted H1 (semi norm) error =  0.004295975655707771\n",
      "hier L2 error =  3.492379162997905e-05\n",
      "V.ndof =  7924\n",
      "weighted H1 (semi norm) error =  0.004156242528990486\n",
      "hier L2 error =  3.7505507269146346e-05\n",
      "V.ndof =  8671\n",
      "weighted H1 (semi norm) error =  0.004002369923421781\n",
      "hier L2 error =  3.320968605679022e-05\n",
      "V.ndof =  9472\n",
      "weighted H1 (semi norm) error =  0.0038281563864108396\n",
      "hier L2 error =  2.925976367860171e-05\n",
      "V.ndof =  10192\n",
      "weighted H1 (semi norm) error =  0.0036507922545744183\n",
      "hier L2 error =  2.337997992926647e-05\n"
     ]
    }
   ],
   "source": [
    "with TaskManager():\n",
    "    #L2error_2 = []\n",
    "    H1error_2 = []\n",
    "    d_2 = []\n",
    "    #d_2 = []\n",
    "    while V.ndof < 10000:  \n",
    "        SolveBVP()\n",
    "        #d,temp = CalcError()\n",
    "        d,H1flux = CalcError()\n",
    "        #L2error_2.append(temp)\n",
    "        H1error_2.append(H1flux)\n",
    "        d_2.append(d)\n",
    "        mesh.Refine()\n",
    "    SolveBVP()"
   ]
  },
  {
   "cell_type": "code",
   "execution_count": 12,
   "metadata": {},
   "outputs": [
    {
     "data": {
      "image/png": "[encoded data removed]",
      "text/plain": [
       "<Figure size 432x288 with 1 Axes>"
      ]
     },
     "metadata": {
      "needs_background": "light"
     },
     "output_type": "display_data"
    }
   ],
   "source": [
    "plt.figure()\n",
    "plt.title(\"uniform refinements vs adaptive refinements\")\n",
    "plt.grid()\n",
    "plt.semilogy(d_1,L2error_1,'b',label='L2_error uniform refinements')\n",
    "plt.semilogy(d_2,L2error_2[0:35],'g',label='L2_error adaptive refinements')\n",
    "plt.xlabel(\"dim V_h\")\n",
    "plt.ylabel(\"L2_norm\")\n",
    "plt.legend()\n",
    "plt.savefig('uniform refinements vs adaptive refinements')"
   ]
  },
  {
   "cell_type": "markdown",
   "metadata": {},
   "source": [
    "### explenation\n",
    "The blue line represents the error with the uniform refinments. That means the mesh is uniformt over the hole domain. The other line th error from the adaptive one. The algorytmus measures the error and define the new grid in the \"critical area\". It lies on the boundary on the circuit with an radius of $R$."
   ]
  },
  {
   "cell_type": "code",
   "execution_count": 24,
   "metadata": {},
   "outputs": [
    {
     "ename": "ValueError",
     "evalue": "x and y must have same first dimension, but have shapes (37,) and (35,)",
     "output_type": "error",
     "traceback": [
      "\u001b[0;31m---------------------------------------------------------------------------\u001b[0m",
      "\u001b[0;31mValueError\u001b[0m                                Traceback (most recent call last)",
      "\u001b[0;32m<ipython-input-24-5af0538e5c89>\u001b[0m in \u001b[0;36m<module>\u001b[0;34m\u001b[0m\n\u001b[1;32m      3\u001b[0m \u001b[0mplt\u001b[0m\u001b[0;34m.\u001b[0m\u001b[0mgrid\u001b[0m\u001b[0;34m(\u001b[0m\u001b[0;34m)\u001b[0m\u001b[0;34m\u001b[0m\u001b[0;34m\u001b[0m\u001b[0m\n\u001b[1;32m      4\u001b[0m \u001b[0;31m#plt.semilogy(d_1,L2error_1)\u001b[0m\u001b[0;34m\u001b[0m\u001b[0;34m\u001b[0m\u001b[0;34m\u001b[0m\u001b[0m\n\u001b[0;32m----> 5\u001b[0;31m \u001b[0mplt\u001b[0m\u001b[0;34m.\u001b[0m\u001b[0msemilogy\u001b[0m\u001b[0;34m(\u001b[0m\u001b[0md_2\u001b[0m\u001b[0;34m,\u001b[0m\u001b[0mL2error_2\u001b[0m\u001b[0;34m[\u001b[0m\u001b[0;36m0\u001b[0m\u001b[0;34m:\u001b[0m\u001b[0;36m35\u001b[0m\u001b[0;34m]\u001b[0m\u001b[0;34m,\u001b[0m\u001b[0;34m'g'\u001b[0m\u001b[0;34m,\u001b[0m\u001b[0mlabel\u001b[0m\u001b[0;34m=\u001b[0m\u001b[0;34m'L2_error adaptive refinements'\u001b[0m\u001b[0;34m)\u001b[0m\u001b[0;34m\u001b[0m\u001b[0;34m\u001b[0m\u001b[0m\n\u001b[0m\u001b[1;32m      6\u001b[0m \u001b[0mplt\u001b[0m\u001b[0;34m.\u001b[0m\u001b[0msemilogy\u001b[0m\u001b[0;34m(\u001b[0m\u001b[0md_2\u001b[0m\u001b[0;34m,\u001b[0m\u001b[0mH1error_2\u001b[0m\u001b[0;34m[\u001b[0m\u001b[0;36m0\u001b[0m\u001b[0;34m:\u001b[0m\u001b[0;36m35\u001b[0m\u001b[0;34m]\u001b[0m\u001b[0;34m,\u001b[0m\u001b[0mcolor\u001b[0m\u001b[0;34m=\u001b[0m\u001b[0;34m'orange'\u001b[0m\u001b[0;34m,\u001b[0m\u001b[0mlabel\u001b[0m\u001b[0;34m=\u001b[0m\u001b[0;34m'GR_error adaptive refinements'\u001b[0m\u001b[0;34m)\u001b[0m\u001b[0;34m\u001b[0m\u001b[0;34m\u001b[0m\u001b[0m\n\u001b[1;32m      7\u001b[0m \u001b[0mplt\u001b[0m\u001b[0;34m.\u001b[0m\u001b[0mxlabel\u001b[0m\u001b[0;34m(\u001b[0m\u001b[0;34m\"dim V_h\"\u001b[0m\u001b[0;34m)\u001b[0m\u001b[0;34m\u001b[0m\u001b[0;34m\u001b[0m\u001b[0m\n",
      "\u001b[0;32m/usr/local/lib/python3.7/dist-packages/matplotlib/pyplot.py\u001b[0m in \u001b[0;36msemilogy\u001b[0;34m(*args, **kwargs)\u001b[0m\n\u001b[1;32m   2828\u001b[0m \u001b[0;34m@\u001b[0m\u001b[0mdocstring\u001b[0m\u001b[0;34m.\u001b[0m\u001b[0mcopy\u001b[0m\u001b[0;34m(\u001b[0m\u001b[0mAxes\u001b[0m\u001b[0;34m.\u001b[0m\u001b[0msemilogy\u001b[0m\u001b[0;34m)\u001b[0m\u001b[0;34m\u001b[0m\u001b[0;34m\u001b[0m\u001b[0m\n\u001b[1;32m   2829\u001b[0m \u001b[0;32mdef\u001b[0m \u001b[0msemilogy\u001b[0m\u001b[0;34m(\u001b[0m\u001b[0;34m*\u001b[0m\u001b[0margs\u001b[0m\u001b[0;34m,\u001b[0m \u001b[0;34m**\u001b[0m\u001b[0mkwargs\u001b[0m\u001b[0;34m)\u001b[0m\u001b[0;34m:\u001b[0m\u001b[0;34m\u001b[0m\u001b[0;34m\u001b[0m\u001b[0m\n\u001b[0;32m-> 2830\u001b[0;31m     \u001b[0;32mreturn\u001b[0m \u001b[0mgca\u001b[0m\u001b[0;34m(\u001b[0m\u001b[0;34m)\u001b[0m\u001b[0;34m.\u001b[0m\u001b[0msemilogy\u001b[0m\u001b[0;34m(\u001b[0m\u001b[0;34m*\u001b[0m\u001b[0margs\u001b[0m\u001b[0;34m,\u001b[0m \u001b[0;34m**\u001b[0m\u001b[0mkwargs\u001b[0m\u001b[0;34m)\u001b[0m\u001b[0;34m\u001b[0m\u001b[0;34m\u001b[0m\u001b[0m\n\u001b[0m\u001b[1;32m   2831\u001b[0m \u001b[0;34m\u001b[0m\u001b[0m\n\u001b[1;32m   2832\u001b[0m \u001b[0;34m\u001b[0m\u001b[0m\n",
      "\u001b[0;32m/usr/local/lib/python3.7/dist-packages/matplotlib/axes/_axes.py\u001b[0m in \u001b[0;36msemilogy\u001b[0;34m(self, *args, **kwargs)\u001b[0m\n\u001b[1;32m   1873\u001b[0m              if k in kwargs}\n\u001b[1;32m   1874\u001b[0m         \u001b[0mself\u001b[0m\u001b[0;34m.\u001b[0m\u001b[0mset_yscale\u001b[0m\u001b[0;34m(\u001b[0m\u001b[0;34m'log'\u001b[0m\u001b[0;34m,\u001b[0m \u001b[0;34m**\u001b[0m\u001b[0md\u001b[0m\u001b[0;34m)\u001b[0m\u001b[0;34m\u001b[0m\u001b[0;34m\u001b[0m\u001b[0m\n\u001b[0;32m-> 1875\u001b[0;31m         \u001b[0ml\u001b[0m \u001b[0;34m=\u001b[0m \u001b[0mself\u001b[0m\u001b[0;34m.\u001b[0m\u001b[0mplot\u001b[0m\u001b[0;34m(\u001b[0m\u001b[0;34m*\u001b[0m\u001b[0margs\u001b[0m\u001b[0;34m,\u001b[0m \u001b[0;34m**\u001b[0m\u001b[0mkwargs\u001b[0m\u001b[0;34m)\u001b[0m\u001b[0;34m\u001b[0m\u001b[0;34m\u001b[0m\u001b[0m\n\u001b[0m\u001b[1;32m   1876\u001b[0m \u001b[0;34m\u001b[0m\u001b[0m\n\u001b[1;32m   1877\u001b[0m         \u001b[0;32mreturn\u001b[0m \u001b[0ml\u001b[0m\u001b[0;34m\u001b[0m\u001b[0;34m\u001b[0m\u001b[0m\n",
      "\u001b[0;32m/usr/local/lib/python3.7/dist-packages/matplotlib/axes/_axes.py\u001b[0m in \u001b[0;36mplot\u001b[0;34m(self, scalex, scaley, data, *args, **kwargs)\u001b[0m\n\u001b[1;32m   1644\u001b[0m         \"\"\"\n\u001b[1;32m   1645\u001b[0m         \u001b[0mkwargs\u001b[0m \u001b[0;34m=\u001b[0m \u001b[0mcbook\u001b[0m\u001b[0;34m.\u001b[0m\u001b[0mnormalize_kwargs\u001b[0m\u001b[0;34m(\u001b[0m\u001b[0mkwargs\u001b[0m\u001b[0;34m,\u001b[0m \u001b[0mmlines\u001b[0m\u001b[0;34m.\u001b[0m\u001b[0mLine2D\u001b[0m\u001b[0;34m)\u001b[0m\u001b[0;34m\u001b[0m\u001b[0;34m\u001b[0m\u001b[0m\n\u001b[0;32m-> 1646\u001b[0;31m         \u001b[0mlines\u001b[0m \u001b[0;34m=\u001b[0m \u001b[0;34m[\u001b[0m\u001b[0;34m*\u001b[0m\u001b[0mself\u001b[0m\u001b[0;34m.\u001b[0m\u001b[0m_get_lines\u001b[0m\u001b[0;34m(\u001b[0m\u001b[0;34m*\u001b[0m\u001b[0margs\u001b[0m\u001b[0;34m,\u001b[0m \u001b[0mdata\u001b[0m\u001b[0;34m=\u001b[0m\u001b[0mdata\u001b[0m\u001b[0;34m,\u001b[0m \u001b[0;34m**\u001b[0m\u001b[0mkwargs\u001b[0m\u001b[0;34m)\u001b[0m\u001b[0;34m]\u001b[0m\u001b[0;34m\u001b[0m\u001b[0;34m\u001b[0m\u001b[0m\n\u001b[0m\u001b[1;32m   1647\u001b[0m         \u001b[0;32mfor\u001b[0m \u001b[0mline\u001b[0m \u001b[0;32min\u001b[0m \u001b[0mlines\u001b[0m\u001b[0;34m:\u001b[0m\u001b[0;34m\u001b[0m\u001b[0;34m\u001b[0m\u001b[0m\n\u001b[1;32m   1648\u001b[0m             \u001b[0mself\u001b[0m\u001b[0;34m.\u001b[0m\u001b[0madd_line\u001b[0m\u001b[0;34m(\u001b[0m\u001b[0mline\u001b[0m\u001b[0;34m)\u001b[0m\u001b[0;34m\u001b[0m\u001b[0;34m\u001b[0m\u001b[0m\n",
      "\u001b[0;32m/usr/local/lib/python3.7/dist-packages/matplotlib/axes/_base.py\u001b[0m in \u001b[0;36m__call__\u001b[0;34m(self, *args, **kwargs)\u001b[0m\n\u001b[1;32m    214\u001b[0m                 \u001b[0mthis\u001b[0m \u001b[0;34m+=\u001b[0m \u001b[0margs\u001b[0m\u001b[0;34m[\u001b[0m\u001b[0;36m0\u001b[0m\u001b[0;34m]\u001b[0m\u001b[0;34m,\u001b[0m\u001b[0;34m\u001b[0m\u001b[0;34m\u001b[0m\u001b[0m\n\u001b[1;32m    215\u001b[0m                 \u001b[0margs\u001b[0m \u001b[0;34m=\u001b[0m \u001b[0margs\u001b[0m\u001b[0;34m[\u001b[0m\u001b[0;36m1\u001b[0m\u001b[0;34m:\u001b[0m\u001b[0;34m]\u001b[0m\u001b[0;34m\u001b[0m\u001b[0;34m\u001b[0m\u001b[0m\n\u001b[0;32m--> 216\u001b[0;31m             \u001b[0;32myield\u001b[0m \u001b[0;32mfrom\u001b[0m \u001b[0mself\u001b[0m\u001b[0;34m.\u001b[0m\u001b[0m_plot_args\u001b[0m\u001b[0;34m(\u001b[0m\u001b[0mthis\u001b[0m\u001b[0;34m,\u001b[0m \u001b[0mkwargs\u001b[0m\u001b[0;34m)\u001b[0m\u001b[0;34m\u001b[0m\u001b[0;34m\u001b[0m\u001b[0m\n\u001b[0m\u001b[1;32m    217\u001b[0m \u001b[0;34m\u001b[0m\u001b[0m\n\u001b[1;32m    218\u001b[0m     \u001b[0;32mdef\u001b[0m \u001b[0mget_next_color\u001b[0m\u001b[0;34m(\u001b[0m\u001b[0mself\u001b[0m\u001b[0;34m)\u001b[0m\u001b[0;34m:\u001b[0m\u001b[0;34m\u001b[0m\u001b[0;34m\u001b[0m\u001b[0m\n",
      "\u001b[0;32m/usr/local/lib/python3.7/dist-packages/matplotlib/axes/_base.py\u001b[0m in \u001b[0;36m_plot_args\u001b[0;34m(self, tup, kwargs)\u001b[0m\n\u001b[1;32m    340\u001b[0m \u001b[0;34m\u001b[0m\u001b[0m\n\u001b[1;32m    341\u001b[0m         \u001b[0;32mif\u001b[0m \u001b[0mx\u001b[0m\u001b[0;34m.\u001b[0m\u001b[0mshape\u001b[0m\u001b[0;34m[\u001b[0m\u001b[0;36m0\u001b[0m\u001b[0;34m]\u001b[0m \u001b[0;34m!=\u001b[0m \u001b[0my\u001b[0m\u001b[0;34m.\u001b[0m\u001b[0mshape\u001b[0m\u001b[0;34m[\u001b[0m\u001b[0;36m0\u001b[0m\u001b[0;34m]\u001b[0m\u001b[0;34m:\u001b[0m\u001b[0;34m\u001b[0m\u001b[0;34m\u001b[0m\u001b[0m\n\u001b[0;32m--> 342\u001b[0;31m             raise ValueError(f\"x and y must have same first dimension, but \"\n\u001b[0m\u001b[1;32m    343\u001b[0m                              f\"have shapes {x.shape} and {y.shape}\")\n\u001b[1;32m    344\u001b[0m         \u001b[0;32mif\u001b[0m \u001b[0mx\u001b[0m\u001b[0;34m.\u001b[0m\u001b[0mndim\u001b[0m \u001b[0;34m>\u001b[0m \u001b[0;36m2\u001b[0m \u001b[0;32mor\u001b[0m \u001b[0my\u001b[0m\u001b[0;34m.\u001b[0m\u001b[0mndim\u001b[0m \u001b[0;34m>\u001b[0m \u001b[0;36m2\u001b[0m\u001b[0;34m:\u001b[0m\u001b[0;34m\u001b[0m\u001b[0;34m\u001b[0m\u001b[0m\n",
      "\u001b[0;31mValueError\u001b[0m: x and y must have same first dimension, but have shapes (37,) and (35,)"
     ]
    },
    {
     "data": {
      "image/png": "[encoded data removed]",
      "text/plain": [
       "<Figure size 432x288 with 1 Axes>"
      ]
     },
     "metadata": {
      "needs_background": "light"
     },
     "output_type": "display_data"
    }
   ],
   "source": [
    "plt.figure()\n",
    "plt.title(\"gradient recovery error vs L2_error (adaptive)\")\n",
    "plt.grid()\n",
    "#plt.semilogy(d_1,L2error_1)\n",
    "plt.semilogy(d_2,L2error_2[0:35],'g',label='L2_error adaptive refinements')\n",
    "plt.semilogy(d_2,H1error_2[0:35],color='orange',label='GR_error adaptive refinements')\n",
    "plt.xlabel(\"dim V_h\")\n",
    "plt.ylabel(\"error\")\n",
    "plt.legend()\n",
    "plt.savefig('gradient recovery error vs L2_error (adaptive)')"
   ]
  },
  {
   "cell_type": "code",
   "execution_count": null,
   "metadata": {},
   "outputs": [],
   "source": []
  }
 ],
 "metadata": {
  "kernelspec": {
   "display_name": "Python 3",
   "language": "python",
   "name": "python3"
  },
  "language_info": {
   "codemirror_mode": {
    "name": "ipython",
    "version": 3
   },
   "file_extension": ".py",
   "mimetype": "text/x-python",
   "name": "python",
   "nbconvert_exporter": "python",
   "pygments_lexer": "ipython3",
   "version": "3.7.5"
  }
 },
 "nbformat": 4,
 "nbformat_minor": 4
}
