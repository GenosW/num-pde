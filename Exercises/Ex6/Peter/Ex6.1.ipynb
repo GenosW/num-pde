{
 "cells": [
  {
   "cell_type": "markdown",
   "metadata": {},
   "source": [
    "# Nodal basis\n",
    "\n",
    "source: http://femwiki.wikidot.com/elements:lagrange-elements\n",
    "\n",
    "defined by duality relation:\n",
    "\n",
    "$$\n",
    "\\Psi_i^{\\hat T}(\\phi_i^{\\hat T}) = \\delta_{i j},\\ with\\ \\phi_i^{\\hat T} \\epsilon \\mathcal{P}^2(\\hat T)\n",
    "$$"
   ]
  },
  {
   "cell_type": "code",
   "execution_count": 17,
   "metadata": {},
   "outputs": [
    {
     "name": "stdout",
     "output_type": "stream",
     "text": [
      "IPython console for SymPy 1.5.1 (Python 3.7.7-64-bit) (ground types: python)\n",
      "\n",
      "These commands were executed:\n",
      ">>> from __future__ import division\n",
      ">>> from sympy import *\n",
      ">>> x, y, z, t = symbols('x y z t')\n",
      ">>> k, m, n = symbols('k m n', integer=True)\n",
      ">>> f, g, h = symbols('f g h', cls=Function)\n",
      ">>> init_printing()\n",
      "\n",
      "Documentation can be found at https://docs.sympy.org/1.5.1/\n",
      "\n",
      "##########phi##########\n",
      "phi_0= 2*x**2 + 4*x*y - 3*x + 2*y**2 - 3*y + 1\n",
      "phi_1= x*(2*x - 1)\n",
      "phi_2= y*(2*y - 1)\n",
      "phi_3= -4*x*(x + y - 1)\n",
      "phi_4= 4*x*y\n",
      "phi_5= -4*y*(x + y - 1)\n",
      "integral(phi_1) over ^T = 0\n",
      "integral(phi_2) over ^T = 0\n",
      "integral(phi_3) over ^T = 0\n",
      "integral(phi_4) over ^T = 1/6\n",
      "integral(phi_5) over ^T = 1/6\n",
      "integral(phi_6) over ^T = 1/6\n"
     ]
    }
   ],
   "source": [
    "from sympy import *\n",
    "init_session()\n",
    "#x, y = symbols('x y')\n",
    "M = 6\n",
    "# expr = 2*(1-y)*(2*x-1)\n",
    "print('#'*10+'phi'+'#'*10)\n",
    "phis = []\n",
    "\n",
    "phis.append(2*(x*x + y*y) + 4*x*y - 3*(x + y) + 1) # phi_1\n",
    "phis.append((2*x - 1)*x) #                       phi_2\n",
    "phis.append((2*y - 1)*y) #                       phi_3\n",
    "phis.append(-4*x*(x + y - 1)) #                  phi_4\n",
    "phis.append(4*x*y) #                             phi_5\n",
    "phis.append(-4*y*(x + y - 1)) #                  phi_6\n",
    "for m, phi in enumerate(phis):\n",
    "    print(f\"phi_{m}=\", phi)\n",
    "\n",
    "integrals = []\n",
    "for i in range(M):\n",
    "    inte = integrate(phis[i], (y, 0, 1-x), (x, 0, 1))\n",
    "    print(f\"integral(phi_{i+1:d}) over ^T = {inte}\")\n"
   ]
  },
  {
   "cell_type": "code",
   "execution_count": null,
   "metadata": {},
   "outputs": [],
   "source": []
  }
 ],
 "metadata": {
  "file_extension": ".py",
  "kernelspec": {
   "display_name": "Python 3.7.7 64-bit",
   "language": "python",
   "name": "python37764bit33c63940e34148b0a2446cd4c0d0e9f7"
  },
  "language_info": {
   "codemirror_mode": {
    "name": "ipython",
    "version": 3
   },
   "file_extension": ".py",
   "mimetype": "text/x-python",
   "name": "python",
   "nbconvert_exporter": "python",
   "pygments_lexer": "ipython3",
   "version": "3.7.7"
  },
  "mimetype": "text/x-python",
  "name": "python",
  "npconvert_exporter": "python",
  "pygments_lexer": "ipython3",
  "version": 3
 },
 "nbformat": 4,
 "nbformat_minor": 4
}
