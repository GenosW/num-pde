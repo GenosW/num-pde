{
 "cells": [
  {
   "cell_type": "code",
   "execution_count": 7,
   "metadata": {
    "tags": [
     "outputPrepend"
    ]
   },
   "outputs": [
    {
     "output_type": "stream",
     "name": "stdout",
     "text": "/usr/local/opt/python/bin/python3.7\n"
    }
   ],
   "source": [
    "import sys\n",
    "\n",
    "print(sys.executable)\n",
    "#sys.path.append(\"/Applications/Netgen.app/Contents/MacOS\")\n",
    "#print(sys.path)"
   ]
  },
  {
   "cell_type": "code",
   "execution_count": null,
   "metadata": {},
   "outputs": [],
   "source": [
    "import netgen.gui\n",
    "from ngsolve import *\n",
    "import netgen.geom2d as geom2dim\n",
    "import matplotlib.pyplot as plt\n",
    "import numpy as np"
   ]
  },
  {
   "cell_type": "code",
   "execution_count": null,
   "metadata": {},
   "outputs": [],
   "source": [
    "# Setup the mesh\n",
    "mesh_size = 2e-1\n",
    "\n",
    "geo = geom2dim.SplineGeometry()\n",
    "\n",
    "geo.AddRectangle((0,0), (1,1), bcs=['b','r','t','l'], leftdomain=1)\n",
    "geo.AddRectangle((0.3,0.5), (0.5,0.7), bcs=['b1','r1','t1','l1'], leftdomain=2, rightdomain=1)\n",
    "geo.SetMaterial(1, \"d2\")\n",
    "geo.SetMaterial(2, \"d1\")\n",
    "mesh = Mesh(geo.GenerateMesh(maxh=mesh_size)) # standard mesh available\n",
    "print(\"Number of vertices: \", mesh.nv)\n",
    "print(\"Number of elements: \", mesh.ne)\n",
    "Draw(mesh)\n",
    "#Draw(geo)"
   ]
  },
  {
   "cell_type": "code",
   "execution_count": null,
   "metadata": {},
   "outputs": [],
   "source": [
    "## Refine mesh ##\n",
    "mesh.Refine()\n",
    "Draw(mesh)"
   ]
  },
  {
   "cell_type": "code",
   "execution_count": null,
   "metadata": {},
   "outputs": [],
   "source": [
    "####### Setup #######\n",
    "k = 1\n",
    "#fes1 = H1(mesh, definedon=\"d1\", order=k, dirichlet='b1|r1|t1|l1')\n",
    "#fes2 = H1(mesh, definedon=\"d2\", order=k, dirichlet='b|r|t|l')\n",
    "fes = H1(mesh, order=k, dirichlet='b|r|t|l')\n",
    "\n",
    "## Set trial and test function\n",
    "#u1 = fes1.TrialFunction()\n",
    "#v1 = fes1.TestFunction()\n",
    "#u2 = fes2.TrialFunction()\n",
    "#v2 = fes2.TestFunction()\n",
    "u, v = fes.TnT()\n",
    "\n",
    "# Set right hand side\n",
    "f = LinearForm(fes)\n",
    "f += 1*v*dx(definedon=mesh.Materials(\"d1\"))\n",
    "f += 0*v*dx(definedon=mesh.Materials(\"d2\"))\n",
    "#rhs1 = LinearForm(fes1)\n",
    "#rhs1 += 1*v1*dx\n",
    "#rhs2 = LinearForm(fes2)\n",
    "#rhs2 += 0*v2*dx\n",
    "\n",
    "# The bilinear form\n",
    "A = BilinearForm(fes, symmetric=True)\n",
    "A += 1*grad(u)*grad(v)*dx(definedon=mesh.Materials(\"d1\"))\n",
    "A += 10*grad(u)*grad(v)*dx(definedon=mesh.Materials(\"d2\"))\n",
    "#A1 = BilinearForm(fes1, symmetric=True)\n",
    "#A1 += 1*grad(u1)*grad(v1)*dx\n",
    "#A2 = BilinearForm(fes2, symmetric=True)\n",
    "#A2 += 10*grad(u2)*grad(v2)*dx\n",
    "\n",
    "# Now assemble the system of equations\n",
    "with TaskManager():\n",
    "    f.Assemble()\n",
    "    A.Assemble()\n",
    "    \n",
    "###### Calculations #######\n",
    "# Calculate the solution field (function)\n",
    "gf = GridFunction(fes)\n",
    "gf.vec.data = A.mat.Inverse(fes.FreeDofs(), inverse='sparsecholesky') * f.vec\n",
    "\n",
    "\n",
    "# Calculate temperature flux through left and right boundaries\n",
    "#dudx = GridFunction(fes)\n",
    "#dudx.Set(grad(gf)[0])\n",
    "\n",
    "# Interpolation and integration by \"hand\"\n",
    "#pts = [(0,i) for i in np.arange(0, 1+mesh_size, mesh_size)]\n",
    "#vals = [grad(gf)(mesh(x,y))[0] for x, y in pts]\n",
    "#print(\"vals:\", vals)\n",
    "# Integration using trapezoidal rule for boundary \"left\"\n",
    "#sum = 0\n",
    "#for val1, val2 in zip(vals[:-1], vals[1:]):\n",
    "#    sum += (val1 + val2)/2*mesh_size\n",
    "\n",
    "# Option 1:\n",
    "# Wl = Integrate(dudx, mesh, BND, region_wise=True)\n",
    "# BND... evaluate integral on boundary\n",
    "\n",
    "# Option 2:\n",
    "#Wl = Integrate(dudx, mesh, definedon=mesh.Boundaries('left'))\n",
    "#Wr = Integrate(dudx, mesh, definedon=mesh.Boundaries('right'))\n",
    "#Wd = Wl + Wr"
   ]
  },
  {
   "cell_type": "code",
   "execution_count": null,
   "metadata": {},
   "outputs": [],
   "source": [
    "# Save figure as png\n",
    "fig.savefig(\"./Ex2.4_flux-error.png\")"
   ]
  },
  {
   "cell_type": "code",
   "execution_count": null,
   "metadata": {},
   "outputs": [],
   "source": [
    "# Draw the latest solution and mesh\n",
    "Draw(gf, mesh, 'grid_function')\n",
    "#Draw(grad(gf), mesh, 'gradient_gf')"
   ]
  },
  {
   "cell_type": "code",
   "execution_count": null,
   "metadata": {},
   "outputs": [],
   "source": []
  }
 ],
 "metadata": {
  "file_extension": ".py",
  "kernelspec": {
   "display_name": "Python 3",
   "language": "python",
   "name": "python3"
  },
  "language_info": {
   "codemirror_mode": {
    "name": "ipython",
    "version": 3
   },
   "file_extension": ".py",
   "mimetype": "text/x-python",
   "name": "python",
   "nbconvert_exporter": "python",
   "pygments_lexer": "ipython3",
   "version": "3.7.6-final"
  },
  "mimetype": "text/x-python",
  "name": "python",
  "npconvert_exporter": "python",
  "pygments_lexer": "ipython3",
  "version": 3
 },
 "nbformat": 4,
 "nbformat_minor": 4
}