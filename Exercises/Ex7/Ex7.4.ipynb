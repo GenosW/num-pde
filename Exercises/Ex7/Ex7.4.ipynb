{
 "cells": [
  {
   "cell_type": "code",
   "execution_count": null,
   "metadata": {
    "scrolled": true
   },
   "outputs": [],
   "source": [
    "import netgen.gui\n",
    "from ngsolve import *\n",
    "import ngsolve.meshes as ngm\n",
    "\n",
    "import numpy as np\n",
    "import matplotlib.pyplot as plt"
   ]
  },
  {
   "cell_type": "code",
   "execution_count": null,
   "metadata": {},
   "outputs": [],
   "source": [
    "i = 5\n",
    "mesh = ngm.MakeStructured2DMesh(quads=False, nx = 2**i ,ny = 2**i)\n",
    "Draw(mesh)\n",
    "V = H1(mesh, order = 1 ,dirichlet = [1,2,3,4])\n",
    "\n",
    "IR = IntegrationRule(points=[(0,0), (1,0), (0,1)], weights=[1/6, 1/6, 1/6]) \n",
    "\n",
    "u = V.TrialFunction()\n",
    "v = V.TestFunction()\n",
    "\n",
    "lumping = 0\n",
    "\n",
    "# setup solution vector\n",
    "L = np.arange(0,1.005,0.005)\n",
    "sol_line = np.zeros((7,len(L)))\n",
    "\n",
    "for i in range(7):\n",
    "    epsilon = 10**(-i)\n",
    "\n",
    "    if lumping:\n",
    "        f = LinearForm(V)\n",
    "        f += v*dx(intrules = {TRIG: IR})\n",
    "\n",
    "        A = BilinearForm(V)\n",
    "        A += epsilon*grad(u)*grad(v)*dx(intrules = {TRIG: IR})\n",
    "        A += u*v*dx(intrules = {TRIG: IR})\n",
    "\n",
    "    else:\n",
    "        \n",
    "        f = LinearForm(V)\n",
    "        f += v*dx\n",
    "\n",
    "        A = BilinearForm(V)\n",
    "        A += epsilon*grad(u)*grad(v)*dx\n",
    "        A += u*v*dx\n",
    "\n",
    "    f.Assemble()\n",
    "    A.Assemble()\n",
    "\n",
    "    gfu = GridFunction(V)\n",
    "\n",
    "    gfu.vec.data = A.mat.Inverse(V.FreeDofs(), inverse=\"sparsecholesky\") * f.vec\n",
    "\n",
    "    Draw(gfu, mesh, \"sol\")\n",
    "\n",
    "    sol_line[i] = gfu(mesh(L, 0.5))[:,0]\n",
    "\n",
    "\n",
    "\n",
    "plt.plot(L, sol_line.T, '--')\n",
    "plt.legend(range(7))\n",
    "plt.show()"
   ]
  },
  {
   "cell_type": "code",
   "execution_count": null,
   "metadata": {},
   "outputs": [],
   "source": [
    "# check if M is diagonal\n",
    "M = BilinearForm(V)\n",
    "M += (u*v)*dx(intrules = {TRIG: IR})\n",
    "M.Assemble()\n",
    "\n",
    "for i in range(V.ndof):\n",
    "    for j in range(V.ndof):\n",
    "        if ((i!=j) and (M.mat[i,j]!=0)):\n",
    "            print('M is not a diagonal matrix')\n"
   ]
  },
  {
   "cell_type": "code",
   "execution_count": null,
   "metadata": {},
   "outputs": [],
   "source": []
  }
 ],
 "metadata": {
  "kernelspec": {
   "display_name": "Python 3",
   "language": "python",
   "name": "python3"
  },
  "language_info": {
   "codemirror_mode": {
    "name": "ipython",
    "version": 3
   },
   "file_extension": ".py",
   "mimetype": "text/x-python",
   "name": "python",
   "nbconvert_exporter": "python",
   "pygments_lexer": "ipython3",
   "version": "3.6.9"
  }
 },
 "nbformat": 4,
 "nbformat_minor": 2
}
