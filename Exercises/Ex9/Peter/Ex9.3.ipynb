{
 "cells": [
  {
   "cell_type": "code",
   "execution_count": null,
   "metadata": {},
   "outputs": [],
   "source": [
    "from netgen.geom2d import unit_square\n",
    "from ngsolve import *\n",
    "from ngsolve import internal\n",
    "import netgen.gui\n",
    "\n",
    "internal.visoptions.autoscale = False\n",
    "\n",
    "mesh = Mesh(unit_square.GenerateMesh(maxh=0.05))\n",
    "mesh.GetBoundaries()"
   ]
  },
  {
   "cell_type": "code",
   "execution_count": null,
   "metadata": {},
   "outputs": [],
   "source": [
    "def joinBounds(b1, b2):\n",
    "    return b1+\"|\"+b2"
   ]
  },
  {
   "cell_type": "code",
   "execution_count": null,
   "metadata": {},
   "outputs": [],
   "source": [
    "for bc in mesh.GetBoundaries():\n",
    "    print(bc, \"is top or right?:\", bc==\"right\" or bc==\"top\")"
   ]
  },
  {
   "cell_type": "code",
   "execution_count": null,
   "metadata": {},
   "outputs": [],
   "source": [
    "Dir = \"bottom\"\n",
    "Neu = \"left\"\n",
    "Rob = \"right|top\"\n",
    "display([bc for bc in mesh.GetBoundaries()])\n",
    "display([y if (bc==\"top\" or bc==\"right\") else 0 for bc in mesh.GetBoundaries()])"
   ]
  },
  {
   "cell_type": "code",
   "execution_count": null,
   "metadata": {},
   "outputs": [],
   "source": [
    "f = 1\n",
    "# (inhom) Dirichlet BC\n",
    "ud = CoefficientFunction([x if bc==\"bottom\" else 0 for bc in mesh.GetBoundaries()])\n",
    "\n",
    "# Not we set the coefficient functions for the Neumann and Robin BC..note the y --> CoefficientFunction defined by NGSolve\n",
    "# Both Neumann and Robin depend on g\n",
    "gRN = CoefficientFunction([y if bc!=\"bottom\" else 0 for bc in mesh.GetBoundaries()])\n",
    "gN = CoefficientFunction([y if bc==\"left\" else 0 for bc in mesh.GetBoundaries()])\n",
    "gR = CoefficientFunction([y if (bc==\"top\" or bc==\"right\") else 0 for bc in mesh.GetBoundaries()])\n",
    "# Robin boundary at top and right\n",
    "alpha = 5\n",
    "R_alpha = CoefficientFunction([alpha if (bc==\"right\" or  bc==\"top\") else 0 for bc in mesh.GetBoundaries()])\n",
    "R_dalpha = CoefficientFunction([1/alpha if (bc==\"right\" or  bc==\"top\") else 0 for bc in mesh.GetBoundaries()])"
   ]
  },
  {
   "cell_type": "code",
   "execution_count": null,
   "metadata": {},
   "outputs": [],
   "source": [
    "runtimes = {\"primal\": -1, \"mixed\": -1}"
   ]
  },
  {
   "cell_type": "markdown",
   "metadata": {},
   "source": [
    "Mathematical framework formulation:\n",
    "\n",
    "$\\int_{\\Omega}\\nabla u \\nabla v -5\\int_{\\Gamma_R}uv = \\int_{\\Omega}v+\\int_{\\Gamma_N, \\Gamma_R}yv$\n",
    "\n",
    "For NGSolve:\n",
    "\n",
    "*$\\int_{\\Omega}\\nabla u \\nabla v - R_{alpha} \\int_{\\Gamma_R}uv = \\int_{\\Omega}v+\\int_{\\Gamma_N, \\Gamma_R} g\\ v$*"
   ]
  },
  {
   "cell_type": "code",
   "execution_count": null,
   "metadata": {},
   "outputs": [],
   "source": [
    "from time import time_ns\n",
    "\n",
    "order = 2\n",
    "FESp = H1(mesh, order=order, dirichlet=\"bottom\")\n",
    "up, vp = FESp.TnT()\n",
    "\n",
    "# Forms\n",
    "ap = BilinearForm(FESp)\n",
    "ap += grad(up)*grad(vp)*dx  - R_alpha*up*vp*ds #(definedon=mesh.Boundaries(\"right|top\"))\n",
    "\n",
    "fp = LinearForm(FESp)\n",
    "fp += f*vp*dx + gN*vp*ds #(definedon=mesh.Boundaries(\"left\"))\n",
    "\n",
    "with TaskManager():\n",
    "    ap.Assemble()\n",
    "    fp.Assemble()\n",
    "\n",
    "# Gridfunction\n",
    "gfup = GridFunction(FESp, \"u_primal\")\n",
    "gfup.Set(ud, BND) # BND =^ definedon=mesh.Boundaries(\"bottom|right|top|left\")\n",
    "\n",
    "# Need to take of the Dirichlet BC\n",
    "with TaskManager():\n",
    "    start_p = time_ns()\n",
    "    # Homogenyze the system... \"do-it-yoursolve\" version\n",
    "    # rhs = fp.vec.CreateVector()\n",
    "    # rhs.data = fp.vec - ap.mat * gfup.vec\n",
    "    # gfup.vec.data += ap.mat.Inverse(freedofs=FESp.FreeDofs()) * rhs\n",
    "    # Should be same as\n",
    "    solvers.BVP(bf=ap, lf=fp, gf=gfup)\n",
    "    delta_p = (time_ns() - start_p) * 1e-9\n",
    "    print(f\"Runtime primal: {delta_p}s\")\n",
    "    runtimes[\"primal\"] = round(delta_p, 3)\n",
    "\n",
    "flux = CoefficientFunction(grad(gfup)) #R_alpha *\n",
    "\n",
    "internal.visoptions.autoscale = False\n",
    "Draw (gfup)\n",
    "Draw (flux, mesh, \"flux_primal\")"
   ]
  },
  {
   "cell_type": "markdown",
   "metadata": {},
   "source": [
    "# Mixed formulation: similar to Example 4.1\n"
   ]
  },
  {
   "cell_type": "code",
   "execution_count": null,
   "metadata": {},
   "outputs": [],
   "source": [
    "# Setup the mixed method\n",
    "order_flux = 2#order +1\n",
    "V = HDiv(mesh, order=order_flux, dirichlet=\"left\") # \"Neumann is the new Dirichlet\" \n",
    "Q = L2(mesh, order=order_flux-1) #, dirichlet=\"bottom\"\n",
    "\n",
    "FESm = FESpace([V,Q]) # Compound space\n",
    "TnTm = FESm.TnT()\n",
    "#print(TnT)\n",
    "(sigma, um), (tau, vm) = TnTm # Unpacking in python is DOPE\n",
    "#print((sigma, um), (tau, vm))\n",
    "# Above is equivalent to ...\n",
    "# sigma, um = FESm.TrialFunction()\n",
    "# tau, vm = FESm.TestFunction()\n",
    "\n",
    "# Setup the special function \"normal\"\n",
    "# n = specialcf.normal(2) # from Philip\n",
    "print(\"mesh.dim:\", mesh.dim)\n",
    "normal = specialcf.normal(mesh.dim)\n",
    "print(normal)\n",
    "\n",
    "# Set up forms again\n",
    "am = BilinearForm(FESm)\n",
    "am += (sigma*tau + div(sigma)*vm + div(tau)*um)*dx + (R_dalpha*(tau.Trace()*normal)*(sigma.Trace()*normal))*ds #(definedon=mesh.Boundaries(\"top|right\"))\n",
    "am.Assemble()\n",
    "\n",
    "fm = LinearForm(FESm)\n",
    "fm += -f*vm*dx + ud*(tau.Trace()*normal)*ds - gR*R_dalpha*tau.Trace()*normal*ds #(definedon=mesh.Boundaries(\"top|right\"))\n",
    "# ud*(tau.Trace()*normal)*ds(definedon=mesh.Boundaries(\"bottom\"))\n",
    "# + gR*(tau.Trace()*normal)*ds\n",
    "fm.Assemble()\n",
    "\n",
    "# Now on to the actual problem\n",
    "gfm = GridFunction(FESm, name=\"gf_mixed\")\n",
    "gfsigma, gfum = gfm.components\n",
    "# Remember g from before? :D\n",
    "# It was defined as scalar valued --> \"need to bring it into the vector world\"\n",
    "gfsigma.Set(normal*gN, BND) #definedon=mesh.Boundaries(\"left\")) # definedon=mesh.Boundaries(\"left\") / \"bottom|right|top|left\"\n",
    "#gfum.Set(ud)\n",
    "\n",
    "with TaskManager():\n",
    "    start_m = time_ns()\n",
    "    fm.vec.data -= am.mat * gfm.vec\n",
    "    gfm.vec.data += am.mat.Inverse(freedofs=FESm.FreeDofs(), inverse=\"umfpack\") * fm.vec\n",
    "    #solvers.BVP(bf=am, lf=fm, gf=gfm)\n",
    "    delta_m = (time_ns() - start_m) * 1e-9\n",
    "    print(f\"Runtime mixed: {delta_m}s\")\n",
    "    runtimes[\"mixed\"] = round(delta_m, 3)\n",
    "\n",
    "Draw (gfsigma, mesh, \"flux_mixed\")\n",
    "Draw (gfum, mesh, \"u_mixed\")\n",
    "internal.visoptions.autoscale = False\n",
    "#Redraw()"
   ]
  },
  {
   "cell_type": "code",
   "execution_count": null,
   "metadata": {},
   "outputs": [],
   "source": []
  },
  {
   "cell_type": "code",
   "execution_count": null,
   "metadata": {},
   "outputs": [],
   "source": [
    "# \"The\" gridfunction...compound space of 2 spaces --> 2 components\n",
    "gfmTest = GridFunction(FESm, name=\"gf_mixedTest\")\n",
    "gfsigmaTest, gfumTest = gfmTest.components\n",
    "\n",
    "# Let's draw something just to see how it behaves\n",
    "# gfsigmaTest.Set(CoefficientFunction( (sin(10*x), sin(10*y)) ))\n",
    "\n",
    "gfsigma.Set(g*normal, definedon=BND)\n",
    "gfumTest.Set (x)\n",
    "\n",
    "# Draw (gfsigmaTest, mesh, \"sinx_siny\")\n",
    "Draw (gfsigmaTest, mesh, \"g*normal\")\n",
    "Draw (gfumTest, mesh, \"x\")"
   ]
  }
 ],
 "metadata": {
  "language_info": {
   "codemirror_mode": {
    "name": "ipython",
    "version": 3
   },
   "file_extension": ".py",
   "mimetype": "text/x-python",
   "name": "python",
   "nbconvert_exporter": "python",
   "pygments_lexer": "ipython3",
   "version": "3.7.7-final"
  },
  "orig_nbformat": 2,
  "kernelspec": {
   "name": "python37764bit33c63940e34148b0a2446cd4c0d0e9f7",
   "display_name": "Python 3.7.7 64-bit"
  }
 },
 "nbformat": 4,
 "nbformat_minor": 2
}