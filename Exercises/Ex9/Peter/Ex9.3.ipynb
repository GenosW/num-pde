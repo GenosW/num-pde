{
 "cells": [
  {
   "cell_type": "code",
   "execution_count": 2,
   "metadata": {},
   "outputs": [
    {
     "name": "stdout",
     "output_type": "stream",
     "text": [
      "('bottom', 'right', 'top', 'left')\n"
     ]
    }
   ],
   "source": [
    "from netgen.geom2d import unit_square\n",
    "from ngsolve import *\n",
    "from ngsolve import internal\n",
    "import netgen.gui\n",
    "#import matplotlib.pyplot as plt\n",
    "#%matplotlib inline\n",
    "\n",
    "#internal.visoptions.autoscale = False\n",
    "\n",
    "mesh = Mesh(unit_square.GenerateMesh(maxh=0.1))\n",
    "print(mesh.GetBoundaries())\n",
    "Draw(mesh)"
   ]
  },
  {
   "cell_type": "code",
   "execution_count": 3,
   "metadata": {},
   "outputs": [
    {
     "name": "stdout",
     "output_type": "stream",
     "text": [
      "bottom is top or right?: False\n",
      "right is top or right?: True\n",
      "top is top or right?: True\n",
      "left is top or right?: False\n"
     ]
    }
   ],
   "source": [
    "for bc in mesh.GetBoundaries():\n",
    "    print(bc, \"is top or right?:\", bc==\"right\" or bc==\"top\")"
   ]
  },
  {
   "cell_type": "code",
   "execution_count": 4,
   "metadata": {},
   "outputs": [
    {
     "data": {
      "text/plain": [
       "['bottom', 'right', 'top', 'left']"
      ]
     },
     "metadata": {},
     "output_type": "display_data"
    },
    {
     "data": {
      "text/plain": [
       "[0,\n",
       " <ngsolve.fem.CoefficientFunction at 0x23e3f3f1708>,\n",
       " <ngsolve.fem.CoefficientFunction at 0x23e3f3f1708>,\n",
       " 0]"
      ]
     },
     "metadata": {},
     "output_type": "display_data"
    }
   ],
   "source": [
    "Dir = \"bottom\"\n",
    "Neu = \"left\"\n",
    "Rob = \"right|top\"\n",
    "display([bc for bc in mesh.GetBoundaries()])\n",
    "display([y if (bc==\"top\" or bc==\"right\") else 0 for bc in mesh.GetBoundaries()])"
   ]
  },
  {
   "cell_type": "code",
   "execution_count": 5,
   "metadata": {},
   "outputs": [],
   "source": [
    "f = 1\n",
    "# (inhom) Dirichlet BC\n",
    "ud = CoefficientFunction([x if bc==\"bottom\" else 0 for bc in mesh.GetBoundaries()])\n",
    "\n",
    "# Not we set the coefficient functions for the Neumann and Robin BC..note the y --> CoefficientFunction defined by NGSolve\n",
    "# Both Neumann and Robin depend on g\n",
    "gRN = CoefficientFunction([y if bc!=\"bottom\" else 0 for bc in mesh.GetBoundaries()])\n",
    "gN = CoefficientFunction([y if bc==\"left\" else 0 for bc in mesh.GetBoundaries()])\n",
    "gR = CoefficientFunction([y if (bc==\"top\" or bc==\"right\") else 0 for bc in mesh.GetBoundaries()])\n",
    "# Robin boundary at top and right\n",
    "alpha = 5\n",
    "R_alpha = CoefficientFunction([alpha if (bc==\"right\" or  bc==\"top\") else 0 for bc in mesh.GetBoundaries()])\n",
    "R_dalpha = CoefficientFunction([1/alpha if (bc==\"right\" or  bc==\"top\") else 0 for bc in mesh.GetBoundaries()])"
   ]
  },
  {
   "cell_type": "code",
   "execution_count": 6,
   "metadata": {},
   "outputs": [],
   "source": [
    "runtimes = {\"primal\": -1, \"mixed\": -1}"
   ]
  },
  {
   "cell_type": "markdown",
   "metadata": {},
   "source": [
    "Mathematical framework formulation:\n",
    "\n",
    "$\\int_{\\Omega}\\nabla u \\nabla v -5\\int_{\\Gamma_R}uv = \\int_{\\Omega}v+\\int_{\\Gamma_N, \\Gamma_R}yv$\n",
    "\n",
    "For NGSolve:\n",
    "\n",
    "*$\\int_{\\Omega}\\nabla u \\nabla v - R_{alpha} \\int_{\\Gamma_R}uv = \\int_{\\Omega}v+\\int_{\\Gamma_N, \\Gamma_R} g\\ v$*"
   ]
  },
  {
   "cell_type": "code",
   "execution_count": 7,
   "metadata": {},
   "outputs": [],
   "source": [
    "from time import time_ns\n",
    "\n",
    "\n",
    "def primal(mesh, order=2, draw=False, rt=False):\n",
    "    FESp = H1(mesh, order=order, dirichlet=\"bottom\")\n",
    "    up, vp = FESp.TnT()\n",
    "\n",
    "    # Forms\n",
    "    ap = BilinearForm(FESp)\n",
    "    ap += grad(up)*grad(vp)*dx  - R_alpha*up*vp*ds #(definedon=mesh.Boundaries(\"right|top\"))\n",
    "\n",
    "    fp = LinearForm(FESp)\n",
    "    fp += f*vp*dx + gN*vp*ds #(definedon=mesh.Boundaries(\"left\"))\n",
    "\n",
    "    with TaskManager():\n",
    "        ap.Assemble()\n",
    "        fp.Assemble()\n",
    "\n",
    "    # Gridfunction\n",
    "    gfup = GridFunction(FESp, \"u_primal\")\n",
    "    gfup.Set(ud, BND) # BND =^ definedon=mesh.Boundaries(\"bottom|right|top|left\")\n",
    "\n",
    "    # Need to take of the Dirichlet BC\n",
    "    with TaskManager():\n",
    "        start_p = time_ns()\n",
    "        # Homogenyze the system... \"do-it-yoursolve\" version\n",
    "        # rhs = fp.vec.CreateVector()\n",
    "        # rhs.data = fp.vec - ap.mat * gfup.vec\n",
    "        # gfup.vec.data += ap.mat.Inverse(freedofs=FESp.FreeDofs()) * rhs\n",
    "        # Should be same as\n",
    "        solvers.BVP(bf=ap, lf=fp, gf=gfup)\n",
    "        if rt:\n",
    "            delta_p = (time_ns() - start_p) * 1e-9\n",
    "            print(f\"Runtime primal: {delta_p}s\")\n",
    "            runtimes[\"primal\"] = round(delta_p, 3)\n",
    "\n",
    "    flux = CoefficientFunction(grad(gfup)) #R_alpha *\n",
    "\n",
    "    if draw:\n",
    "        Draw (gfup)\n",
    "        Draw (flux, mesh, \"flux_primal\")\n",
    "        internal.visoptions.autoscale = False\n",
    "    return gfup, flux"
   ]
  },
  {
   "cell_type": "markdown",
   "metadata": {},
   "source": [
    "# Mixed formulation: similar to Example 4.1\n"
   ]
  },
  {
   "cell_type": "code",
   "execution_count": 8,
   "metadata": {},
   "outputs": [],
   "source": [
    "def mixed(mesh, order_flux=2, draw=False, rt=False):\n",
    "    # Setup the mixed method\n",
    "    V = HDiv(mesh, order=order_flux, dirichlet=\"left\") # \"Neumann is the new Dirichlet\" \n",
    "    Q = L2(mesh, order=order_flux-1) #, dirichlet=\"bottom\"\n",
    "\n",
    "    FESm = FESpace([V,Q]) # Compound space\n",
    "    TnTm = FESm.TnT()\n",
    "    (sigma, u), (tau, v) = TnTm \n",
    "\n",
    "    # Setup the special function \"normal\"\n",
    "    #print(\"mesh.dim:\", mesh.dim)\n",
    "    normal = specialcf.normal(mesh.dim)\n",
    "    #print(normal)\n",
    "\n",
    "    # am += (sigma*tau - div(sigma)*v + div(tau)*u)*dx\n",
    "    # fm += source*v*dx + ud*(tau.Trace()*normal)*ds + R*u*ds\n",
    "\n",
    "    # Set up forms again\n",
    "    am = BilinearForm(FESm)\n",
    "    #      a(sig,tau)+ b(sig,v)     + b(tau,u)       + bilinear Robin-Term\n",
    "    am += (sigma*tau + div(sigma)*v + div(tau)*u)*dx + (R_dalpha*(tau.Trace()*normal)*(sigma.Trace()*normal))*ds #(definedon=mesh.Boundaries(\"top|right\"))\n",
    "    am.Assemble()\n",
    "\n",
    "    fm = LinearForm(FESm)\n",
    "    #     source  + dirichlet                  + linear Robin-term\n",
    "    fm += +f*v*dx + ud*(tau.Trace()*normal)*ds - gR*R_dalpha*tau.Trace()*normal*ds #(definedon=mesh.Boundaries(\"top|right\"))\n",
    "    # ud*(tau.Trace()*normal)*ds(definedon=mesh.Boundaries(\"bottom\"))\n",
    "    # + gR*(tau.Trace()*normal)*ds\n",
    "    fm.Assemble()\n",
    "\n",
    "    # Now on to the actual problem\n",
    "    gfm = GridFunction(FESm, name=\"gf_mixed\")\n",
    "    gfsigma, gfum = gfm.components\n",
    "    # Remember g from before? :D\n",
    "    # It was defined as scalar valued --> \"need to bring it into the vector world\"\n",
    "    gfsigma.Set(normal*gN, BND) #definedon=mesh.Boundaries(\"left\")) # definedon=mesh.Boundaries(\"left\") / \"bottom|right|top|left\"\n",
    "    #gfum.Set(ud)\n",
    "\n",
    "    with TaskManager():\n",
    "        start_m = time_ns()\n",
    "        fm.vec.data -= am.mat * gfm.vec\n",
    "        gfm.vec.data += am.mat.Inverse(freedofs=FESm.FreeDofs(), inverse=\"umfpack\") * fm.vec\n",
    "        #solvers.BVP(bf=am, lf=fm, gf=gfm)\n",
    "        delta_m = (time_ns() - start_m) * 1e-9\n",
    "        if rt:\n",
    "            print(f\"Runtime mixed: {delta_m}s\")\n",
    "            runtimes[\"mixed\"] = round(delta_m, 3)\n",
    "\n",
    "    if draw:\n",
    "        Draw (gfsigma, mesh, \"flux_mixed\")\n",
    "        Draw (gfum, mesh, \"u_mixed\")\n",
    "        internal.visoptions.autoscale = False\n",
    "    return gfm"
   ]
  },
  {
   "cell_type": "code",
   "execution_count": 9,
   "metadata": {},
   "outputs": [],
   "source": [
    "hs = [0.5, 0.2, 0.1, 0.08, 0.05, 0.025, 0.01]\n",
    "def compare_PvM(h_list=hs):\n",
    "    errors_flux = []\n",
    "    errors_u = []\n",
    "    for h in h_list:\n",
    "        mesh = Mesh(unit_square.GenerateMesh(maxh=h))\n",
    "        print(\"h:\", h)\n",
    "\n",
    "        # Solve the problems\n",
    "        order = 2\n",
    "        gfup, flux = primal(mesh, order=order, draw=False)\n",
    "        gfm = mixed(mesh, order_flux=order+1, draw=False)\n",
    "        gfsigma, gfum = gfm.components\n",
    "\n",
    "        # Errors\n",
    "        err_u = sqrt(Integrate( (gfup-gfum)*(gfup-gfum), mesh))\n",
    "        errors_u.append(err_u)\n",
    "        print (\"err_u:\", err_u)\n",
    "        flux_diff = grad(gfup) - gfsigma\n",
    "        err_flux = sqrt(Integrate(flux_diff*flux_diff, mesh))\n",
    "        errors_flux.append(err_flux)\n",
    "        print (\"err_flux:\", err_flux)\n",
    "        \n",
    "        Draw (gfup, mesh, \"u_primal\")\n",
    "        Draw (flux, mesh, \"flux_primal\")\n",
    "        Draw (gfum, mesh, \"u_mixed\")\n",
    "        Draw (gfsigma, mesh, \"flux_mixed\")\n",
    "        internal.visoptions.autoscale = False\n",
    "        stop = input(\"Stop? (y/n): \")\n",
    "        if stop == 'y':\n",
    "            break\n",
    "    return errors_u, errors_flux"
   ]
  },
  {
   "cell_type": "code",
   "execution_count": 10,
   "metadata": {},
   "outputs": [
    {
     "name": "stdout",
     "output_type": "stream",
     "text": [
      "h: 0.5\n",
      "err_u: 0.7348043890578521\n",
      "err_flux: 4.742834563452252\n"
     ]
    },
    {
     "name": "stdin",
     "output_type": "stream",
     "text": [
      "Stop? (y/n):  y\n"
     ]
    }
   ],
   "source": [
    "hs = [0.5, 0.2, 0.1, 0.08, 0.05, 0.025, 0.01]\n",
    "errors_u, errors_flux = compare_PvM(h_list=hs)\n",
    "\n",
    "hs_used = hs[0:int(len(errors_u))]"
   ]
  },
  {
   "cell_type": "code",
   "execution_count": null,
   "metadata": {},
   "outputs": [],
   "source": [
    "plt.figure(figsize=(10,8))\n",
    "plt.plot(hs_used, errors_u, label=\"err(u)\")\n",
    "plt.plot(hs_used, errors_flux, label=\"err(flux)\")\n",
    "plt.grid()\n",
    "plt.legend()\n",
    "plt.show()"
   ]
  },
  {
   "cell_type": "code",
   "execution_count": null,
   "metadata": {},
   "outputs": [],
   "source": [
    "# \"The\" gridfunction...compound space of 2 spaces --> 2 components\n",
    "gfmTest = GridFunction(FESm, name=\"gf_mixedTest\")\n",
    "gfsigmaTest, gfumTest = gfmTest.components\n",
    "\n",
    "# Let's draw something just to see how it behaves\n",
    "# gfsigmaTest.Set(CoefficientFunction( (sin(10*x), sin(10*y)) ))\n",
    "\n",
    "gfsigma.Set(g*normal, definedon=BND)\n",
    "gfumTest.Set (x)\n",
    "\n",
    "# Draw (gfsigmaTest, mesh, \"sinx_siny\")\n",
    "Draw (gfsigmaTest, mesh, \"g*normal\")\n",
    "Draw (gfumTest, mesh, \"x\")"
   ]
  }
 ],
 "metadata": {
  "kernelspec": {
   "display_name": "Python 3",
   "language": "python",
   "name": "python3"
  },
  "language_info": {
   "codemirror_mode": {
    "name": "ipython",
    "version": 3
   },
   "file_extension": ".py",
   "mimetype": "text/x-python",
   "name": "python",
   "nbconvert_exporter": "python",
   "pygments_lexer": "ipython3",
   "version": "3.7.7"
  }
 },
 "nbformat": 4,
 "nbformat_minor": 4
}
