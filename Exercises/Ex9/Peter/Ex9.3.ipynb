{
 "cells": [
  {
   "cell_type": "code",
   "execution_count": 35,
   "metadata": {},
   "outputs": [
    {
     "output_type": "execute_result",
     "data": {
      "text/plain": "('bottom', 'right', 'top', 'left')"
     },
     "metadata": {},
     "execution_count": 35
    }
   ],
   "source": [
    "from netgen.geom2d import unit_square\n",
    "from ngsolve import *\n",
    "import netgen.gui\n",
    "\n",
    "mesh = Mesh(unit_square.GenerateMesh(maxh=0.1))\n",
    "mesh.GetBoundaries()"
   ]
  },
  {
   "cell_type": "code",
   "execution_count": 36,
   "metadata": {},
   "outputs": [
    {
     "output_type": "execute_result",
     "data": {
      "text/plain": "<ngsolve.fem.CoefficientFunction at 0x16a50a2d588>"
     },
     "metadata": {},
     "execution_count": 36
    }
   ],
   "source": [
    "y"
   ]
  },
  {
   "cell_type": "code",
   "execution_count": 37,
   "metadata": {},
   "outputs": [
    {
     "output_type": "stream",
     "name": "stdout",
     "text": "bottom is top or right?: False\nright is top or right?: True\ntop is top or right?: True\nleft is top or right?: False\n"
    }
   ],
   "source": [
    "for bc in mesh.GetBoundaries():\n",
    "    print(bc, \"is top or right?:\", bc==\"right\" or bc==\"top\")"
   ]
  },
  {
   "cell_type": "code",
   "execution_count": 38,
   "metadata": {},
   "outputs": [],
   "source": [
    "f = 1\n",
    "# (inhom) Dirichlet BC\n",
    "ud = CoefficientFunction(x)\n",
    "\n",
    "# Not we set the coefficient functions for the Neumann and Robin BC..note the y --> CoefficientFunction defined by NGSolve\n",
    "# Both Neumann and Robin depend on g\n",
    "g = CoefficientFunction([y if bc!=\"bottom\" else 0 for bc in mesh.GetBoundaries()])\n",
    "\n",
    "# Robin boundary at top and right\n",
    "alpha = 5\n",
    "R_alpha = CoefficientFunction([alpha if bc==\"right\" or \"top\" else 0 for bc in mesh.GetBoundaries()])"
   ]
  },
  {
   "cell_type": "code",
   "execution_count": 39,
   "metadata": {},
   "outputs": [],
   "source": [
    "runtimes = {\"primal\": -1, \"mixed\": -1}"
   ]
  },
  {
   "cell_type": "markdown",
   "metadata": {},
   "source": [
    "Mathematical framework formulation:\n",
    "\n",
    "$\\int_{\\Omega}\\nabla u \\nabla v -5\\int_{\\Gamma_R}uv = \\int_{\\Omega}v+\\int_{\\Gamma_N, \\Gamma_R}yv$\n",
    "\n",
    "For NGSolve:\n",
    "\n",
    "*$\\int_{\\Omega}\\nabla u \\nabla v - R_{alpha} \\int_{\\Gamma_R}uv = \\int_{\\Omega}v+\\int_{\\Gamma_N, \\Gamma_R} g\\ v$*"
   ]
  },
  {
   "cell_type": "code",
   "execution_count": 40,
   "metadata": {},
   "outputs": [
    {
     "output_type": "stream",
     "name": "stdout",
     "text": "Runtime primal: 0.07394200000000001s\n"
    },
    {
     "output_type": "execute_result",
     "data": {
      "text/plain": "<ngsolve.fem.CoefficientFunction at 0x16a5aafb468>"
     },
     "metadata": {},
     "execution_count": 40
    }
   ],
   "source": [
    "from time import time_ns\n",
    "\n",
    "order = 3\n",
    "FESp = H1(mesh, order=order, dirichlet=\"bottom\")\n",
    "up, vp = FESp.TnT()\n",
    "\n",
    "# Forms\n",
    "ap = BilinearForm(FESp)\n",
    "ap += grad(up)*grad(vp)*dx  - R_alpha*up*vp*ds\n",
    "\n",
    "fp = LinearForm(FESp)\n",
    "fp += f*vp*dx + g*vp*ds\n",
    "\n",
    "with TaskManager():\n",
    "    ap.Assemble()\n",
    "    fp.Assemble()\n",
    "\n",
    "# Gridfunction\n",
    "gfup = GridFunction(FESp, \"u_primal\")\n",
    "gfup.Set(ud, BND)\n",
    "\n",
    "# Need to take of the Dirichlet BC\n",
    "with TaskManager():\n",
    "    start_p = time_ns()\n",
    "    rhs = fp.vec.CreateVector()\n",
    "    rhs.data = fp.vec - ap.mat * gfup.vec\n",
    "    gfup.vec.data += ap.mat.Inverse(freedofs=FESp.FreeDofs()) * rhs\n",
    "    delta_p = (time_ns() - start_p) * 1e-9\n",
    "    print(f\"Runtime primal: {delta_p}s\")\n",
    "    runtimes[\"primal\"] = round(delta_p, 3)\n",
    "\n",
    "flux = CoefficientFunction(R_alpha * grad(gfup))\n",
    "\n",
    "Draw (gfup)\n",
    "Draw (flux, mesh, \"flux_primal\")\n",
    "R_alpha * grad(gfup)"
   ]
  },
  {
   "cell_type": "code",
   "execution_count": null,
   "metadata": {},
   "outputs": [],
   "source": []
  },
  {
   "cell_type": "markdown",
   "metadata": {},
   "source": [
    "# Mixed formulation: similar to Example 4.1\n",
    "\n",
    "We want to solve example 3.4 with a mixed finite element formulation: The idea is to define a new variable $\\sigma=-\\lambda \\nabla u .$ Then the Poisson equation $-\\operatorname{div}(\\lambda \\nabla u)=f$ with $u=0$ on $\\partial \\Omega$ can be rewritten as\n",
    "$$\n",
    "\\begin{aligned}\n",
    "-\\sigma-\\lambda \\nabla u &=0 \\quad \\text { in } \\Omega \\\\\n",
    "\\operatorname{div}(\\sigma) &=f \\quad \\text { in } \\Omega \\\\\n",
    "u &=0 \\quad \\text { on } \\partial \\Omega\n",
    "\\end{aligned}\n",
    "$$\n",
    "Now let $\\Sigma=H(\\text { div, } \\Omega)$ and $V=L^{2}(\\Omega),$ then a variational formulation of ( 20 read as:\n",
    "Find $(\\sigma, u) \\in \\Sigma \\times V$ such that\n",
    "$$\n",
    "\\begin{aligned}\n",
    "\\int_{\\Omega} \\frac{-1}{\\lambda} \\sigma \\cdot \\tau  \\mathrm{d} x+\\int_{\\Omega} \\operatorname{div}(\\tau) u \\mathrm{d} x & \\forall 0 \\quad \\forall \\tau \\in \\Sigma \\\\\n",
    "\\int_{\\Omega} \\operatorname{div}(\\sigma) v \\mathrm{d} x &=\\int_{\\Omega} f v \\quad \\forall v \\in V\n",
    "\\end{aligned}\n",
    "$$\n",
    "Then:\n",
    "\n",
    "1. Derive the set of equations given by (3) from (2). For this multiply the first equation\n",
    "of (2) with a smooth test function $\\tau$ and the second equation with a smooth test function $v \\in V$ and follow the same steps as we did for the Poisson equation in the first lecture using (1)\n",
    "2. Implement this method in NGSolve for the Poisson problem given in example 3.4 to get discrete solutions $\\sigma_{h}, u_{h} .$ You can use the template mixed.py where a lot of additional information is given.\n",
    "3. Evaluate the flux on the boundary $\\partial \\Omega_{1}$ using $\\operatorname{tr}^{n} \\sigma_{h}$.\n",
    "You should now get the exact value -0.04"
   ]
  },
  {
   "cell_type": "code",
   "execution_count": 45,
   "metadata": {},
   "outputs": [
    {
     "output_type": "stream",
     "name": "stdout",
     "text": "mesh.dim: 2\ncoef normal vector, real, dim=2\n\n"
    }
   ],
   "source": [
    "# Setup the mixed method\n",
    "order_flux= order +1\n",
    "V = HDiv(mesh, order=order_flux)\n",
    "Q = L2(mesh, order=order, dirichlet=\"bottom\")\n",
    "\n",
    "FESm = FESpace([V,Q]) # Compound space\n",
    "TnTm = FESm.TnT()\n",
    "#print(TnT)\n",
    "(sigma, um), (tau, vm) = TnTm # Unpacking in python is DOPE\n",
    "#print((sigma, um), (tau, vm))\n",
    "# Above is equivalent to ...\n",
    "# sigma, um = FESm.TrialFunction()\n",
    "# tau, vm = FESm.TestFunction()\n",
    "\n",
    "# Setup the special function \"normal\"\n",
    "# n = specialcf.normal(2) # from Philip\n",
    "print(\"mesh.dim:\", mesh.dim)\n",
    "normal = specialcf.normal(mesh.dim)\n",
    "print(normal)\n",
    "\n",
    "\n",
    "# Set up forms again\n",
    "am = BilinearForm(FESm)\n",
    "am += (sigma*tau - div(sigma)*vm + div(tau)*um)*dx\n",
    "am.Assemble()\n",
    "fm = LinearForm(FESm)\n",
    "fm += f*vm*dx + ud*(tau.Trace()*normal)*ds + R_alpha*um*ds\n",
    "fm.Assemble()"
   ]
  },
  {
   "cell_type": "code",
   "execution_count": 46,
   "metadata": {},
   "outputs": [
    {
     "output_type": "stream",
     "name": "stdout",
     "text": "g: coef unary operation ' ', real\n  coef class ngfem::DomainWiseCoefficientFunction, real\n    coef 0, real\n    coef coordinate y, real\n    coef coordinate y, real\n    coef coordinate y, real\n\nBND: VorB.BND\ngfsigma: gridfunction 'gf_mixed.1' on space 'HDivHighOrderFESpace(hdivho)'\nnested = 0\n\ngfum: gridfunction 'gf_mixed.2' on space 'L2HighOrderFESpace(l2ho)'\nnested = 0\n\nRuntime mixed: 0.204881s\n"
    }
   ],
   "source": [
    "# Now on to the actual problem\n",
    "gfm = GridFunction(FESm, name=\"gf_mixed\")\n",
    "gfsigma, gfum = gfm.components\n",
    "# Remember g from before? :D\n",
    "# It was defined as scalar valued --> \"need to bring it into the vector world\"\n",
    "print(\"g:\", g)\n",
    "print(\"BND:\", BND)\n",
    "gfsigma.Set(g*normal, definedon=BND)\n",
    "#gfum.Set(ud, BND)\n",
    "print(\"gfsigma:\", gfsigma)\n",
    "print(\"gfum:\", gfum)\n",
    "\n",
    "with TaskManager():\n",
    "    start_m = time_ns()\n",
    "    # fm.vec.data -= am.mat * gfm.vec\n",
    "    # gfm.vec.data += am.mat.Inverse(freedofs=fesm.FreeDofs(), inverse=\"umfpack\") * fm.vec\n",
    "    solvers.BVP(bf=am, lf=fm, gf=gfm)\n",
    "    delta_m = (time_ns() - start_m) * 1e-9\n",
    "    print(f\"Runtime mixed: {delta_m}s\")\n",
    "    runtimes[\"mixed\"] = round(delta_m, 3)\n",
    "\n",
    "Draw (gfsigma, mesh, \"flux_mixed\")\n",
    "Draw (gfum, mesh, \"u_mixed\")\n",
    "#Redraw()"
   ]
  },
  {
   "cell_type": "code",
   "execution_count": 47,
   "metadata": {},
   "outputs": [],
   "source": [
    "# \"The\" gridfunction...compound space of 2 spaces --> 2 components\n",
    "gfmTest = GridFunction(FESm, name=\"gf_mixedTest\")\n",
    "gfsigmaTest, gfumTest = gfmTest.components\n",
    "\n",
    "# Let's draw something just to see how it behaves\n",
    "# gfsigmaTest.Set(CoefficientFunction( (sin(10*x), sin(10*y)) ))\n",
    "\n",
    "gfsigma.Set(g*normal, definedon=BND)\n",
    "gfumTest.Set (x)\n",
    "\n",
    "# Draw (gfsigmaTest, mesh, \"sinx_siny\")\n",
    "Draw (gfsigmaTest, mesh, \"g*normal\")\n",
    "Draw (gfumTest, mesh, \"x\")"
   ]
  },
  {
   "cell_type": "code",
   "execution_count": null,
   "metadata": {},
   "outputs": [],
   "source": []
  }
 ],
 "metadata": {
  "language_info": {
   "codemirror_mode": {
    "name": "ipython",
    "version": 3
   },
   "file_extension": ".py",
   "mimetype": "text/x-python",
   "name": "python",
   "nbconvert_exporter": "python",
   "pygments_lexer": "ipython3",
   "version": "3.7.7-final"
  },
  "orig_nbformat": 2,
  "kernelspec": {
   "name": "python37764bit33c63940e34148b0a2446cd4c0d0e9f7",
   "display_name": "Python 3.7.7 64-bit"
  }
 },
 "nbformat": 4,
 "nbformat_minor": 2
}