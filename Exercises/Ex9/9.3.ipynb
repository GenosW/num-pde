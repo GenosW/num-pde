{
 "cells": [
  {
   "cell_type": "markdown",
   "metadata": {},
   "source": [
    "## Let $\\Omega = (1,0)^2$ $\\Gamma_D = (0,1) \\times \\{0\\}$ $\\Gamma_N$ = \\{0\\} \\time (0,1) and $\\Gamma_R = \\partial \\Omega (\\Gamma_N \\Gamma_R )$\n",
    "\n",
    "## $-\\Delta u  = f$ \n",
    "\n",
    "## $u  = u_D$ on $\\Gamma_D$\n",
    "\n",
    "## $\\frac{\\partial u}{\\partial n} = n$ on $\\Gamma_N$\n",
    "\n",
    "## $\\alpha u + \\frac{\\partial u}{\\partial n} = g$ on $\\Gamma_R$\n",
    "\n",
    "## with $f = 1$ $u_D = x$ $\\alpha = 5$ $g = y$\n",
    "\n",
    "## $\\Rightarrow -\\Delta u = f \\Rightarrow -\\int_{\\Omega} \\Delta u v = \\int_{\\Omega} f v$\n",
    "\n",
    "## $\\Rightarrow -\\Delta u v = \\nabla u \\nabla v - div(\\nabla u v)$\n",
    "\n",
    "## $\\int_{\\Omega}\\nabla u \\nabla v - \\int_{\\Gamma}\\frac{\\partial u}{\\partial n}v = \\int_{\\Omega}fv$\n",
    "\n",
    "## $\\int_{\\Omega}\\nabla u \\nabla v -5\\int_{\\Gamma_R}uv = \\int_{\\Omega}v+\\int_{\\Gamma_N  \\Gamma_R}yv +\\int_{\\Gamma_D}\\frac{\\partial x}{\\partial n}v$"
   ]
  },
  {
   "cell_type": "markdown",
   "metadata": {},
   "source": [
    "## we are allowed to set the testfunction v on $\\Gamma_D$ to 0\n",
    "\n",
    "## $\\int_{\\Omega}\\nabla u \\nabla v -5\\int_{\\Gamma_R}uv = \\int_{\\Omega}v+\\int_{\\Gamma_N  \\Gamma_R}yv$"
   ]
  },
  {
   "cell_type": "code",
   "execution_count": 1,
   "metadata": {},
   "outputs": [],
   "source": [
    "from netgen.geom2d import unit_square\n",
    "from ngsolve import *\n",
    "import netgen.gui\n",
    "\n",
    "mesh = Mesh(unit_square.GenerateMesh(maxh=0.1))"
   ]
  },
  {
   "cell_type": "code",
   "execution_count": 2,
   "metadata": {},
   "outputs": [
    {
     "data": {
      "text/plain": [
       "('bottom', 'right', 'top', 'left')"
      ]
     },
     "execution_count": 2,
     "metadata": {},
     "output_type": "execute_result"
    }
   ],
   "source": [
    "mesh.GetBoundaries()"
   ]
  },
  {
   "cell_type": "code",
   "execution_count": 5,
   "metadata": {},
   "outputs": [],
   "source": [
    "source = 1\n",
    "ud = CoefficientFunction(x)\n",
    "g = CoefficientFunction([y if bc!=\"left\" else 0 for bc in mesh.GetBoundaries()])\n",
    "R = CoefficientFunction([5 if bc==\"right\" or \"bottom\" else 0 for bc in mesh.GetBoundaries()])\n",
    "alpha = 5"
   ]
  },
  {
   "cell_type": "code",
   "execution_count": 7,
   "metadata": {},
   "outputs": [],
   "source": [
    "fesp = H1(mesh, order=4, dirichlet=\"left\")\n",
    "up, vp = fesp.TnT()\n",
    "\n",
    "ap = BilinearForm(fesp)\n",
    "ap += grad(up)*grad(vp)*dx - R*up*vp * ds \n",
    "ap.Assemble()\n",
    "\n",
    "fp = LinearForm(fesp)\n",
    "fp += source*vp*dx + g*vp * ds\n",
    "fp.Assemble()\n",
    "\n",
    "gfup = GridFunction(fesp, \"u-primal\")\n",
    "gfup.Set(ud, BND)\n",
    "\n",
    "r = fp.vec.CreateVector()\n",
    "r.data = fp.vec - ap.mat * gfup.vec\n",
    "gfup.vec.data += ap.mat.Inverse(freedofs=fesp.FreeDofs()) * r\n",
    "Draw (gfup)\n",
    "Draw (R * grad(gfup), mesh, \"flux-primal\")"
   ]
  },
  {
   "cell_type": "code",
   "execution_count": 22,
   "metadata": {
    "tags": [
     "outputPrepend"
    ]
   },
   "outputs": [],
   "source": [
    "order_flux=1\n",
    "V = HDiv(mesh, order=order_flux, dirichlet=\"left\")\n",
    "Q = L2(mesh, order=order_flux-1)\n",
    "fesm = FESpace([V,Q])"
   ]
  },
  {
   "cell_type": "code",
   "execution_count": 23,
   "metadata": {},
   "outputs": [
    {
     "name": "stdout",
     "output_type": "stream",
     "text": [
      "coef normal vector, real, dim=2\n",
      "\n"
     ]
    }
   ],
   "source": [
    "sigma, u = fesm.TrialFunction()\n",
    "tau, v = fesm.TestFunction()\n",
    "normal = specialcf.normal(mesh.dim)\n",
    "print (normal)"
   ]
  },
  {
   "cell_type": "code",
   "execution_count": 24,
   "metadata": {},
   "outputs": [],
   "source": [
    "am = BilinearForm(fesm)\n",
    "am += (sigma*tau - div(sigma)*v + div(tau)*u)*dx\n",
    "am.Assemble()\n",
    "fm = LinearForm(fesm)\n",
    "fm += source*v*dx + ud*(tau.Trace()*normal)*ds + R*u*ds\n",
    "fm.Assemble()\n",
    "\n",
    "gfm = GridFunction(fesm, name=\"gfmixed\")"
   ]
  },
  {
   "cell_type": "code",
   "execution_count": 25,
   "metadata": {},
   "outputs": [],
   "source": [
    "gfsigma, gfu = gfm.components"
   ]
  },
  {
   "cell_type": "code",
   "execution_count": 26,
   "metadata": {},
   "outputs": [],
   "source": [
    "gfsigma.Set(CoefficientFunction( (sin(10*x), sin(10*y)) ))\n",
    "gfu.Set (x)\n",
    "Draw (gfsigma, mesh, \"flux-mixed\")\n",
    "Draw (gfu, mesh, \"u-mixed\")"
   ]
  },
  {
   "cell_type": "code",
   "execution_count": 27,
   "metadata": {},
   "outputs": [],
   "source": [
    "gfsigma.Set(g*normal, BND)"
   ]
  },
  {
   "cell_type": "code",
   "execution_count": 28,
   "metadata": {},
   "outputs": [],
   "source": [
    "# fm.vec.data -= am.mat * gfm.vec\n",
    "# gfm.vec.data += am.mat.Inverse(freedofs=fesm.FreeDofs(), inverse=\"umfpack\") * fm.vec\n",
    "solvers.BVP(bf=am, lf=fm, gf=gfm)\n",
    "Redraw()"
   ]
  },
  {
   "cell_type": "code",
   "execution_count": 29,
   "metadata": {},
   "outputs": [
    {
     "name": "stdout",
     "output_type": "stream",
     "text": [
      "err-u:    0.8667125777890489\n",
      "err-flux: 1.552367937729188\n"
     ]
    }
   ],
   "source": [
    "print (\"err-u:   \", sqrt(Integrate( (gfup-gfu)**2, mesh)))\n",
    "errflux = grad(gfup) - gfsigma\n",
    "print (\"err-flux:\", sqrt(Integrate(errflux*errflux, mesh)))"
   ]
  },
  {
   "cell_type": "code",
   "execution_count": null,
   "metadata": {},
   "outputs": [],
   "source": []
  }
 ],
 "metadata": {
  "kernelspec": {
   "display_name": "Python 3",
   "language": "python",
   "name": "python3"
  },
  "language_info": {
   "codemirror_mode": {
    "name": "ipython",
    "version": 3
   },
   "file_extension": ".py",
   "mimetype": "text/x-python",
   "name": "python",
   "nbconvert_exporter": "python",
   "pygments_lexer": "ipython3",
   "version": "3.7.6"
  }
 },
 "nbformat": 4,
 "nbformat_minor": 4
}
