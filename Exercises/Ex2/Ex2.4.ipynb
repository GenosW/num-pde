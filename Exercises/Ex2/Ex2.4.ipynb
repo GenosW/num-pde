{
 "nbformat": 4,
 "nbformat_minor": 2,
 "metadata": {
  "language_info": {
   "name": "python",
   "codemirror_mode": {
    "name": "ipython",
    "version": 3
   },
   "version": "3.7.6-final"
  },
  "orig_nbformat": 2,
  "file_extension": ".py",
  "mimetype": "text/x-python",
  "name": "python",
  "npconvert_exporter": "python",
  "pygments_lexer": "ipython3",
  "version": 3,
  "kernelspec": {
   "name": "python37564bit9f8402b642f94028ae1d527e4534f9bf",
   "display_name": "Python 3.7.5 64-bit"
  }
 },
 "cells": [
  {
   "cell_type": "code",
   "execution_count": 5,
   "metadata": {},
   "outputs": [],
   "source": [
    "import netgen.gui\n",
    "from ngsolve import *\n",
    "import netgen.geom2d as geom2dim"
   ]
  },
  {
   "cell_type": "code",
   "execution_count": 6,
   "metadata": {},
   "outputs": [
    {
     "data": {
      "text/plain": "\"geo = geom2dim.SplineGeometry()\\n\\nvertices = [(0,0), (1,0), (1,1), (0,1)]\\np1, p2, p3, p4 = [geo.AppendPoint(x,y) for x,y in vertices]\\n#lines = [['line', start, end, 0] for start, end in [(p1, p2), (p2, p3), (p3, p4), (p4, p5), (p5, p6), (p6,p1)]]\\n# Dirichlet bc\\n# Right\\ngeo.Append(['line', p2, p3], bc=1)\\n# Left\\ngeo.Append(['line', p4, p1], bc=1)\\n\\n# Neumann bc\\n# Bot\\ngeo.Append(['line', p1, p2], bc=2)\\n# Top\\ngeo.Append(['line', p1, p2], bc=2)\""
     },
     "execution_count": 6,
     "metadata": {},
     "output_type": "execute_result"
    }
   ],
   "source": [
    "# CUSTOM geometry\n",
    "\"\"\"geo = geom2dim.SplineGeometry()\n",
    "\n",
    "vertices = [(0,0), (1,0), (1,1), (0,1)]\n",
    "p1, p2, p3, p4 = [geo.AppendPoint(x,y) for x,y in vertices]\n",
    "#lines = [['line', start, end, 0] for start, end in [(p1, p2), (p2, p3), (p3, p4), (p4, p5), (p5, p6), (p6,p1)]]\n",
    "# Dirichlet bc\n",
    "# Right\n",
    "geo.Append(['line', p2, p3], bc=1)\n",
    "# Left\n",
    "geo.Append(['line', p4, p1], bc=1)\n",
    "\n",
    "# Neumann bc\n",
    "# Bot\n",
    "geo.Append(['line', p1, p2], bc=2)\n",
    "# Top\n",
    "geo.Append(['line', p1, p2], bc=2)\"\"\""
   ]
  },
  {
   "cell_type": "code",
   "execution_count": 40,
   "metadata": {},
   "outputs": [
    {
     "name": "stdout",
     "output_type": "stream",
     "text": "Number of vertices:  39\nNumber of elements:  56\n"
    }
   ],
   "source": [
    "#number_of_vertices = 4\n",
    "mesh_size = 2e-1\n",
    "mesh = Mesh(geom2dim.unit_square.GenerateMesh(maxh=mesh_size))\n",
    "print(\"Number of vertices: \", mesh.nv)\n",
    "print(\"Number of elements: \", mesh.ne)\n",
    "Draw(mesh)"
   ]
  },
  {
   "cell_type": "code",
   "execution_count": 50,
   "metadata": {},
   "outputs": [
    {
     "name": "stdout",
     "output_type": "stream",
     "text": "dudx:  gridfunction 'gfu' on space 'H1HighOrderFESpace(h1ho)'\nnested = 0\n\ndudy:  gridfunction 'gfu' on space 'H1HighOrderFESpace(h1ho)'\nnested = 0\n\n"
    }
   ],
   "source": [
    "fes = H1(mesh, order=3, dirichlet='right|left')\n",
    "\n",
    "# Set trial and test function\n",
    "u = fes.TrialFunction()\n",
    "v = fes.TestFunction()\n",
    "\n",
    "# Set right hand side\n",
    "rhs = LinearForm(fes)\n",
    "rhs += x*v*dx\n",
    "\n",
    "# The bilinear form\n",
    "A = BilinearForm(fes, symmetric=True)\n",
    "A += grad(u)*grad(v)*dx\n",
    "\n",
    "# Now assemble the system of equations\n",
    "with TaskManager():\n",
    "    rhs.Assemble()\n",
    "    A.Assemble()\n",
    "\n",
    "# Calculate the solution field (function)\n",
    "gf = GridFunction(fes)\n",
    "gf.vec.data = A.mat.Inverse(fes.FreeDofs(), inverse='sparsecholesky') * rhs.vec\n",
    "\n",
    "# Calculate temperature flux through left and right boundaries\n",
    "dudx = GridFunction(fes)\n",
    "dudx.Set(grad(gf)[0])\n",
    "dudy = GridFunction(fes)\n",
    "dudy.Set(grad(gf)[1])\n",
    "print(\"dudx: \", dudx)\n",
    "#print(len(dudx.data))\n",
    "print(\"dudy: \", dudy)\n",
    "\n",
    "Draw(gf, mesh, 'grid_function')\n",
    "Draw(grad(gf), mesh, 'gradient_gf')"
   ]
  },
  {
   "cell_type": "code",
   "execution_count": 59,
   "metadata": {},
   "outputs": [
    {
     "name": "stdout",
     "output_type": "stream",
     "text": "Wl= 0.16666666666666496\nWr= -0.3333333333333297\n------------------------------\nTotal flux through dirichlet boundaries:\nWd=  -0.16666666666666474\nAnalytical (exact) value:\nWl_exact= 0.16666666666666666\nWr_exact= -0.3333333333333333\nWd_exact= -0.16666666666666666\n"
    }
   ],
   "source": [
    "# Analytical (exact) values\n",
    "Wr_exact = -1/3\n",
    "Wl_exact = 1/6\n",
    "Wd_exact = Wr_exact + Wl_exact\n",
    "\n",
    "#Wl = Integrate(dudx, mesh, BND, region_wise=True)\n",
    "#print(\"Wl\", Wl)\n",
    "Wl = Integrate(dudx, mesh, definedon=mesh.Boundaries('left'))\n",
    "print(\"Wl=\", Wl)\n",
    "Wr = Integrate(dudx, mesh, definedon=mesh.Boundaries('right'))\n",
    "print(\"Wr=\", Wr)\n",
    "Wd = Wl + Wr\n",
    "\n",
    "print('-'*30)\n",
    "print(\"Total flux through dirichlet boundaries:\\nWd= \", Wd)\n",
    "print(\"Analytical (exact) value:\")\n",
    "print(\"Wl_exact=\", Wl_exact)\n",
    "print(\"Wr_exact=\", Wr_exact)\n",
    "print(\"Wd_exact=\", Wd_exact)"
   ]
  },
  {
   "cell_type": "code",
   "execution_count": 25,
   "metadata": {},
   "outputs": [
    {
     "name": "stdout",
     "output_type": "stream",
     "text": "Help on built-in function Integrate in module ngsolve.comp:\n\nIntegrate(...) method of builtins.PyCapsule instance\n    Integrate(*args, **kwargs)\n    Overloaded function.\n    \n    1. Integrate(cf: ngsolve.fem.CoefficientFunction, mesh: ngsolve.comp.Mesh, VOL_or_BND: ngsolve.comp.VorB = VorB.VOL, order: int = 5, definedon: ngsolve.comp.Region = None, region_wise: bool = False, element_wise: bool = False) -> object\n    \n    \n    Parameters\n    ----------\n    \n    cf: ngsolve.CoefficientFunction\n      Function to be integrated. Can be vector valued, then the result is an array. If you want to integrate\n      a lot of functions on the same domain, it will be faster to put them into a vector valued function,\n      NGSolve will then be able to use parallelization and SIMD vectorization more efficiently.\n    \n    mesh: ngsolve.Mesh\n      The mesh to be integrated on.\n    \n    VOL_or_BND: ngsolve.VorB = VOL\n      Co-dimension to be integrated on. Historically this could be volume (VOL) or boundary (BND). If your mesh\n      contains co-dim 2 elements this can now be BBND (edges in 3d) as well.\n    \n    order: int = 5\n      Integration order, polynomials up to this order will be integrated exactly.\n    \n    definedon: ngsolve.Region\n      Region to be integrated on. Such region can be created with mesh.Boundaries('bcname') or mesh.Materials('matname')\n      it will overwrite the VOL_or_BND argument if given.\n    \n    region_wise: bool = False\n      Integrates region wise on the co-dimension given by VOL_or_BND. Returns results as an array, matching the array\n      returned by mesh.GetMaterials() or mesh.GetBoundaries(). Does not support vector valued CoefficientFunctions.\n    \n    element_wise: bool = False\n      Integrates element wise and returns result in a list. This is typically used for local error estimators.\n      Does not support vector valued CoefficientFunctions\n    \n    \n    2. Integrate(igls: ngsolve.comp.SumOfIntegrals, mesh: ngsolve.comp.Mesh, element_wise: bool = False) -> object\n\n"
    }
   ],
   "source": [
    "#help(fes)\n",
    "help(Integrate)"
   ]
  },
  {
   "cell_type": "code",
   "execution_count": null,
   "metadata": {},
   "outputs": [],
   "source": [
    "Wl_exact = 1/6\n",
    "Wr_exact = -1/3"
   ]
  },
  {
   "cell_type": "code",
   "execution_count": null,
   "metadata": {},
   "outputs": [],
   "source": [
    "\"\"\"grid_functions = []\n",
    "L2Error = []\n",
    "H1Error = []\n",
    "Means = []\n",
    "kmax = 8\n",
    "ks = [i for i in range(1, kmax)]\n",
    "Draw(mesh)\"\"\""
   ]
  }
 ]
}