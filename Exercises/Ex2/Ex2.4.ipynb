{
 "nbformat": 4,
 "nbformat_minor": 2,
 "metadata": {
  "language_info": {
   "name": "python",
   "codemirror_mode": {
    "name": "ipython",
    "version": 3
   },
   "version": "3.7.6-final"
  },
  "orig_nbformat": 2,
  "file_extension": ".py",
  "mimetype": "text/x-python",
  "name": "python",
  "npconvert_exporter": "python",
  "pygments_lexer": "ipython3",
  "version": 3,
  "kernelspec": {
   "name": "python37564bit9f8402b642f94028ae1d527e4534f9bf",
   "display_name": "Python 3.7.5 64-bit"
  }
 },
 "cells": [
  {
   "cell_type": "code",
   "execution_count": null,
   "metadata": {},
   "outputs": [],
   "source": [
    "import netgen.gui\n",
    "from ngsolve import *\n",
    "import netgen.geom2d as geom2dim\n",
    "import matplotlib.pyplot as plt\n",
    "import numpy as np"
   ]
  },
  {
   "cell_type": "code",
   "execution_count": null,
   "metadata": {},
   "outputs": [],
   "source": [
    "# CUSTOM geometry\n",
    "#geo = geom2dim.SplineGeometry()\n",
    "\n",
    "#vertices = [(0,0), (1,0), (1,1), (0,1)]\n",
    "#p1, p2, p3, p4 = [geo.AppendPoint(x,y) for x,y in vertices]\n",
    "\n",
    "# Dirichlet bc\n",
    "# Right\n",
    "#geo.Append(['line', p2, p3], bc='right')\n",
    "# Left\n",
    "#geo.Append(['line', p4, p1], bc='left')\n",
    "\n",
    "# Neumann bc\n",
    "# Bot\n",
    "#geo.Append(['line', p1, p2], bc='bottom')\n",
    "# Top\n",
    "#geo.Append(['line', p1, p2], bc='top')\n",
    "#mesh2 = Mesh(geo.GenerateMesh(maxh=2e-1))\n",
    "#Draw(mesh2)"
   ]
  },
  {
   "cell_type": "code",
   "execution_count": null,
   "metadata": {},
   "outputs": [],
   "source": [
    "#number_of_vertices = 4\n",
    "mesh_size = 2e-1\n",
    "mesh = Mesh(geom2dim.unit_square.GenerateMesh(maxh=mesh_size))\n",
    "print(\"Number of vertices: \", mesh.nv)\n",
    "print(\"Number of elements: \", mesh.ne)\n",
    "Draw(mesh)"
   ]
  },
  {
   "cell_type": "code",
   "execution_count": null,
   "metadata": {},
   "outputs": [],
   "source": [
    "Wl_errors = []\n",
    "Wr_errors = []\n",
    "Wd_errors = []\n",
    "k = 2\n",
    "hs = [0.5, 0.25, 0.2, 0.1, 0.05]\n",
    "#hs = [0.05, 0.1, 0.2, 0.25, 0.5]\n",
    "for i, mesh_size in enumerate(hs):\n",
    "    mesh = Mesh(geom2dim.unit_square.GenerateMesh(maxh=mesh_size))\n",
    "    fes = H1(mesh, order=k, dirichlet='right|left')\n",
    "\n",
    "    # Set trial and test function\n",
    "    u = fes.TrialFunction()\n",
    "    v = fes.TestFunction()\n",
    "\n",
    "    # Set right hand side\n",
    "    rhs = LinearForm(fes)\n",
    "    rhs += x*v*dx\n",
    "\n",
    "    # The bilinear form\n",
    "    A = BilinearForm(fes, symmetric=True)\n",
    "    A += grad(u)*grad(v)*dx\n",
    "\n",
    "    # Now assemble the system of equations\n",
    "    with TaskManager():\n",
    "        rhs.Assemble()\n",
    "        A.Assemble()\n",
    "\n",
    "    # Calculate the solution field (function)\n",
    "    gf = GridFunction(fes)\n",
    "    gf.vec.data = A.mat.Inverse(fes.FreeDofs(), inverse='sparsecholesky') * rhs.vec\n",
    "\n",
    "    # Calculate temperature flux through left and right boundaries\n",
    "    dudx = GridFunction(fes)\n",
    "    dudx.Set(grad(gf)[0])\n",
    "    #dudy = GridFunction(fes)\n",
    "    #dudy.Set(grad(gf)[1])\n",
    "\n",
    "    #Wl = Integrate(dudx, mesh, BND, region_wise=True)\n",
    "    # BND... evaluate integral on boundary\n",
    "    #print(\"Wl\", Wl)\n",
    "    Wl = Integrate(dudx, mesh, definedon=mesh.Boundaries('left'))\n",
    "    Wr = Integrate(dudx, mesh, definedon=mesh.Boundaries('right'))\n",
    "    Wd = Wl + Wr\n",
    "    Wl_errors.append(Wl)\n",
    "    Wr_errors.append(Wr)\n",
    "    Wd_errors.append(Wd)\n",
    "\n",
    "    pts = [(0,i) for i in np.arange(0, 1+mesh_size, mesh_size)]\n",
    "    vals = [grad(gf)(mesh(x,y))[0] for x, y in pts]\n",
    "    print(\"vals:\", vals)\n",
    "    # Integration using trapezoidal rule\n",
    "    sum = 0\n",
    "    for val1, val2 in zip(vals[:-1], vals[1:]):\n",
    "        sum += (val1 + val2)/2*mesh_size\n",
    "\n",
    "    # Output to console\n",
    "    print(\"Wl=\", Wl)\n",
    "    print(\"Wr=\", Wr)\n",
    "    print(\"Total flux through dirichlet boundaries:\\nWd= \", Wd)\n",
    "    print(\"Trapezoidal:\", sum)\n",
    "    print('-'*30)\n",
    "\n",
    "Draw(gf, mesh, 'grid_function')\n",
    "Draw(grad(gf), mesh, 'gradient_gf')"
   ]
  },
  {
   "cell_type": "code",
   "execution_count": null,
   "metadata": {},
   "outputs": [],
   "source": [
    "# Analytical (exact) values\n",
    "Wr_exact = -1/3\n",
    "Wl_exact = 1/6\n",
    "Wd_exact = Wr_exact + Wl_exact\n",
    "\n",
    "print('-'*30)\n",
    "print(\"Analytical (exact) value:\")\n",
    "print(\"Wl_exact=\", Wl_exact)\n",
    "print(\"Wr_exact=\", Wr_exact)\n",
    "print(\"Wd_exact=\", Wd_exact)"
   ]
  },
  {
   "cell_type": "code",
   "execution_count": null,
   "metadata": {},
   "outputs": [],
   "source": [
    "print(Wl_errors)\n",
    "print(Wr_errors)\n",
    "Wl_errors = np.array(Wl_errors) - Wl_exact\n",
    "Wr_errors = np.array(Wr_errors) - Wr_exact\n",
    "Wd_errors = np.array(Wd_errors) - Wd_exact"
   ]
  },
  {
   "cell_type": "code",
   "execution_count": null,
   "metadata": {},
   "outputs": [],
   "source": [
    "print(Wl_errors)\n",
    "print(Wr_errors)\n",
    "\n",
    "plt.semilogy(hs, Wl_errors, '-xr', label='Wl')\n",
    "plt.semilogy(hs, Wr_errors, '-pb', label='Wr')\n",
    "plt.semilogy(hs, Wd_errors, '-xg', label='Wd')\n",
    "plt.suptitle(\"k={}\".format(k))\n",
    "plt.xlabel(\"h... mesh size\")\n",
    "plt.grid()\n",
    "plt.legend()\n",
    "plt.show()"
   ]
  }
 ]
}