{
 "cells": [
  {
   "cell_type": "code",
   "execution_count": 1,
   "metadata": {},
   "outputs": [],
   "source": [
    "from ngsolve import *\n",
    "from netgen.geom2d import SplineGeometry\n",
    "import netgen.gui\n",
    "\n",
    "import matplotlib.pyplot as plt"
   ]
  },
  {
   "cell_type": "code",
   "execution_count": 2,
   "metadata": {},
   "outputs": [],
   "source": [
    "# viscosity\n",
    "nu = 0.001\n",
    "\n",
    "# timestepping parameters\n",
    "tau = 0.001\n",
    "tend = 10\n",
    "\n",
    "from netgen.geom2d import SplineGeometry\n",
    "geo = SplineGeometry()\n",
    "geo.AddRectangle( (0, 0), (2, 0.41), bcs = (\"wall\", \"outlet\", \"wall\", \"inlet\"))\n",
    "geo.AddCircle ( (0.2, 0.2), r=0.05, leftdomain=0, rightdomain=1, bc=\"cyl\", maxh=0.02)\n",
    "mesh = Mesh( geo.GenerateMesh(maxh=0.07))\n",
    "\n",
    "mesh.Curve(3)\n",
    "Draw(mesh)"
   ]
  },
  {
   "cell_type": "code",
   "execution_count": 3,
   "metadata": {},
   "outputs": [],
   "source": [
    "V = VectorH1(mesh,order=3, dirichlet=\"wall|cyl|inlet\")\n",
    "Q = H1(mesh,order=2)\n",
    "\n",
    "X = FESpace([V,Q])\n",
    "\n",
    "u,p = X.TrialFunction()\n",
    "v,q = X.TestFunction()\n",
    "\n",
    "stokes = nu*InnerProduct(grad(u), grad(v))+div(u)*q+div(v)*p - 1e-10*p*q\n",
    "a = BilinearForm(X)\n",
    "a += stokes*dx\n",
    "a.Assemble()\n",
    "\n",
    "# nothing here ...\n",
    "f = LinearForm(X)   \n",
    "f.Assemble()\n",
    "\n",
    "# gridfunction for the solution\n",
    "gfu = GridFunction(X)\n",
    "\n",
    "# parabolic inflow at inlet:\n",
    "uin = CoefficientFunction( (1.5*4*y*(0.41-y)/(0.41*0.41), 0) )\n",
    "gfu.components[0].Set(uin, definedon=mesh.Boundaries(\"inlet\"))\n",
    "\n",
    "# solve Stokes problem for initial conditions:\n",
    "inv_stokes = a.mat.Inverse(X.FreeDofs())\n",
    "\n",
    "res = f.vec.CreateVector()\n",
    "res.data = f.vec - a.mat*gfu.vec\n",
    "gfu.vec.data += inv_stokes * res\n",
    "\n",
    "\n",
    "# matrix for implicit Euler \n",
    "mstar = BilinearForm(X)\n",
    "mstar += SymbolicBFI(u*v + tau*stokes)\n",
    "mstar.Assemble()\n",
    "inv = mstar.mat.Inverse(X.FreeDofs(), inverse=\"sparsecholesky\")\n",
    "\n",
    "# the non-linear term \n",
    "conv = BilinearForm(X, nonassemble = True)\n",
    "conv += (grad(u) * u) * v * dx\n",
    "\n",
    "# for visualization\n",
    "Draw (Norm(gfu.components[0]), mesh, \"velocity\", sd=3)"
   ]
  },
  {
   "cell_type": "code",
   "execution_count": 4,
   "metadata": {},
   "outputs": [
    {
     "name": "stdout",
     "output_type": "stream",
     "text": [
      "t= 9.9999999999998976760.01900000000000001 0.07500000000000005 0.09900000000000007 0.11700000000000009 0.20800000000000016 0.6600000000000005 0.8180000000000006 0.9240000000000007 1.0139999999999991 1.06199999999999381.1189999999999876 1.1479999999999844 1.3299999999999643 1.4359999999999526 1.4919999999999465 1.522999999999943 1.6089999999999336 1.6979999999999238 1.7809999999999147 1.922999999999899 1.9529999999998957 2.00599999999989 2.0369999999998867 2.1189999999998776 2.222999999999866 2.313999999999856 2.3729999999998497 2.4309999999998433 2.524999999999833 2.5549999999998296 2.579999999999827 2.6099999999998236 2.67299999999981662.7289999999998105 2.779999999999805 2.806999999999802 2.8929999999997924 2.952999999999786 2.985999999999782 3.0209999999997783 3.052999999999775 3.113999999999768 3.222999999999756 3.330999999999744 3.413999999999735 3.4909999999997265 3.523999999999723 3.5799999999997167 3.6379999999997104 3.6989999999997036 3.7249999999997008 3.775999999999695 3.860999999999686 3.976999999999673 3.9989999999996706 4.0269999999996795 4.076999999999696 4.0959999999997025 4.145999999999719 4.233999999999749 4.256999999999756 4.287999999999767 4.316999999999776 4.390999999999801 4.534999999999849 4.632999999999882 4.661999999999892 4.815999999999943 4.89799999999997 4.923999999999979 5.0360000000000165 5.0690000000000275 5.100000000000038 5.130000000000048 5.211000000000075 5.248000000000087 5.272000000000095 5.294000000000103 5.339000000000118 5.359000000000124 5.374000000000129 5.399000000000138 5.425000000000146 5.468000000000161 5.494000000000169 5.539000000000184 5.561000000000192 5.740000000000252 5.803000000000273 5.860000000000292 5.892000000000302 5.921000000000312 5.980000000000332 5.9960000000003376.045000000000353 6.0990000000003715 6.136000000000384 6.14100000000038556.206000000000407 6.247000000000421 6.268000000000428 6.295000000000437 6.321000000000446 6.344000000000453 6.3600000000004596.390000000000469 6.561000000000526 6.609000000000542 6.6380000000005515 6.6680000000005615 6.756000000000591 6.816000000000611 6.87300000000063 6.923000000000647 7.008000000000675 7.077000000000698 7.241000000000753 7.332000000000783 7.384000000000801 7.395000000000804 7.429000000000816 7.457000000000825 7.5250000000008487.599000000000872 7.643000000000887 7.668000000000895 7.7670000000009285 7.795000000000938 7.822000000000947 7.900000000000973 8.218000000000885 8.240000000000872 8.3710000000008 8.613000000000666 8.683000000000627 8.709000000000612 8.757000000000586 8.87600000000052 9.044000000000427 9.098000000000397 9.167000000000359 9.194000000000344 9.244000000000316 9.267000000000303 9.377000000000242 9.40000000000023 9.451000000000201 9.478000000000186 9.533000000000156 9.6350000000001 9.664000000000083 9.874999999999966 9.900999999999952\r"
     ]
    }
   ],
   "source": [
    "# implicit Euler/explicit Euler splitting method:\n",
    "t = 0\n",
    "with TaskManager():\n",
    "    while t < tend:\n",
    "        print (\"t=\", t, end=\"\\r\")\n",
    "\n",
    "        conv.Apply (gfu.vec, res)\n",
    "        res.data += a.mat*gfu.vec\n",
    "        gfu.vec.data -= tau * inv * res    \n",
    "\n",
    "        t = t + tau\n",
    "        Redraw()"
   ]
  },
  {
   "cell_type": "code",
   "execution_count": null,
   "metadata": {},
   "outputs": [],
   "source": []
  }
 ],
 "metadata": {
  "kernelspec": {
   "display_name": "Python 3",
   "language": "python",
   "name": "python3"
  },
  "language_info": {
   "codemirror_mode": {
    "name": "ipython",
    "version": 3
   },
   "file_extension": ".py",
   "mimetype": "text/x-python",
   "name": "python",
   "nbconvert_exporter": "python",
   "pygments_lexer": "ipython3",
   "version": "3.7.7"
  }
 },
 "nbformat": 4,
 "nbformat_minor": 4
}
