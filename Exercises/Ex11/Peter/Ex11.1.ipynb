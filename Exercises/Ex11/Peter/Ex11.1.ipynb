{
 "cells": [
  {
   "cell_type": "code",
   "execution_count": 70,
   "metadata": {},
   "outputs": [],
   "source": [
    "from ngsolve import *\n",
    "from netgen.geom2d import SplineGeometry\n",
    "import netgen.gui\n",
    "\n",
    "import matplotlib.pyplot as plt\n",
    "from time import time"
   ]
  },
  {
   "cell_type": "markdown",
   "metadata": {},
   "source": [
    "# Example 11.1\n",
    "\n",
    "Simulate the Navier-Stokes equations on a channel with a step-like cross-section extension:\n",
    "$\\Omega = (0; 2]\\times(0; 1) \\cup (2; 10)\\times(−1; 1)$. \n",
    "\n",
    "- On the left side we have a parabolic inflow profile,\n",
    "\n",
    "- on the right side natural boundary conditions (outlet), thus $(-\\nu\\ \\nabla u + pI)\\cdot n = 0$.\n",
    "\n",
    "- Everywhereelse we have wall boundary conditions (homogeneous Dirichlet bc). \n",
    "\n",
    "Choose a viscosity $\\nu = 10^{-3}$ and a zero right hand side and use the Taylor-Hood element and the IMEX scheme as in the tutorial example navierstokes.py. \n",
    "\n",
    "Increase the inflow velocity and present an interpretation of your results. For this you might google \"backward facing step, navier stokes\". Further note, that you might need to adapt the time step size τ."
   ]
  },
  {
   "cell_type": "code",
   "execution_count": 71,
   "metadata": {},
   "outputs": [],
   "source": [
    "#Ω = (0, 2]×(0, 1) u (2, 10)×(−1, 1)\n",
    "                  \n",
    "geo = SplineGeometry()\n",
    "# Left rectangle\n",
    "a1 = geo.AppendPoint(0,0)\n",
    "b1 = geo.AppendPoint(2,0)\n",
    "c1 = geo.AppendPoint(2,1)\n",
    "d1 = geo.AppendPoint(0,1)\n",
    "# Right rectangle\n",
    "a2 = geo.AppendPoint(2,-1)\n",
    "b2 = geo.AppendPoint(10,-1)\n",
    "c2 = geo.AppendPoint(10,1)\n",
    "d2 = geo.AppendPoint(2,1)\n",
    "\n",
    "p1_seq = [a1, b1, a2, b2, c2, c1, d1]\n",
    "p2_seq = [b1, a2, b2, c2, c1, d1, a1]\n",
    "bc_seq = [\"wall\"]*3 + [\"outlet\"] + [\"wall\"]*2 + [\"inlet\"]\n",
    "\n",
    "for p1, p2, bc in zip(p1_seq, p2_seq, bc_seq):\n",
    "    geo.Append([\"line\", p1, p2], leftdomain=1, rightdomain=0, bc=bc)\n",
    "\n",
    "#geo.Append([\"line\", a1, b1], leftdomain=1, rightdomain=0, bc=\"wall\")#\n",
    "#geo.Append([\"line\", b1, a2], leftdomain=1, rightdomain=0, bc=\"wall\")\n",
    "\n",
    "\n",
    "\n",
    "#                                       bottom, right side, top, left side\n",
    "#geo.AddRectangle((0, 0), (2, 1), bcs = (\"wall\", \"outlet\", \"wall\", \"inlet\"))\n",
    "#geo.AddRectangle((2, -1), (10, 1), bcs = (\"wall\", \"outlet\", \"wall\", \"inlet\"))\n",
    "#geo.AddCircle ( (0.2, 0.2), r=0.05, leftdomain=0, rightdomain=1, bc=\"cyl\", maxh=0.02)\n",
    "mesh = Mesh(geo.GenerateMesh(maxh=0.2))\n",
    "\n",
    "\n",
    "Draw(mesh)"
   ]
  },
  {
   "cell_type": "code",
   "execution_count": 72,
   "metadata": {},
   "outputs": [],
   "source": [
    "mesh.Curve(3)\n",
    "Draw(mesh)"
   ]
  },
  {
   "cell_type": "code",
   "execution_count": 73,
   "metadata": {},
   "outputs": [],
   "source": [
    "# Parameters\n",
    "nu = Parameter(1e-3)\n",
    "rhs = Parameter(0.0)\n",
    "\n",
    "\n",
    "V = VectorH1(mesh,order=3, dirichlet=\"wall|inlet\")\n",
    "Q = H1(mesh,order=2)\n",
    "\n",
    "X = FESpace([V,Q])\n",
    "\n",
    "u,p = X.TrialFunction()\n",
    "v,q = X.TestFunction()\n",
    "\n",
    "stokes = nu * InnerProduct(grad(u), grad(v)) + (div(u)*q + div(v)*p) - 1e-10*p*q\n",
    "a = BilinearForm(X)\n",
    "a += stokes *dx\n",
    "a.Assemble()\n",
    "\n",
    "# nothing here ...\n",
    "f = LinearForm(X)\n",
    "#f += rhs*v*dx\n",
    "f.Assemble()"
   ]
  },
  {
   "cell_type": "code",
   "execution_count": 86,
   "metadata": {},
   "outputs": [
    {
     "name": "stdout",
     "output_type": "stream",
     "text": [
      "ERROR! Session/line number was not unique in database. History logging moved to new session 432\n",
      "Showing initial solution\n"
     ]
    }
   ],
   "source": [
    "# gridfunction for the solution\n",
    "gfu = GridFunction(X)\n",
    "\n",
    "# parabolic inflow at inlet:\n",
    "width = 1\n",
    "v_in = 10\n",
    "uin = CoefficientFunction( (v_in*y*(1-y), 0) ) # uin...initial u\n",
    "gfu.components[0].Set(uin, definedon=mesh.Boundaries(\"inlet\"))\n",
    "\n",
    "\n",
    "# solve Stokes problem for initial conditions:\n",
    "inv_stokes = a.mat.Inverse(X.FreeDofs())\n",
    "\n",
    "res = f.vec.CreateVector()\n",
    "res.data = f.vec - a.mat*gfu.vec\n",
    "gfu.vec.data += inv_stokes * res\n",
    "\n",
    "# for visualization\n",
    "print(\"Showing initial solution\")\n",
    "Draw (Norm(gfu.components[0]), mesh, \"velocity\", sd=3)"
   ]
  },
  {
   "cell_type": "code",
   "execution_count": 87,
   "metadata": {},
   "outputs": [
    {
     "name": "stdout",
     "output_type": "stream",
     "text": [
      "t= 9.999999999999897676 0.8840000000000007 1.033999999999997 1.1729999999999816 1.6559999999999284 1.6919999999999245 1.7579999999999172 1.8849999999999032 2.1669999999998724 2.2019999999998685 2.205999999999868 2.270999999999861 2.5909999999998257 2.650999999999819 2.7379999999998095 3.0669999999997732 3.0999999999997696 3.1939999999997593 3.7019999999997033 4.048999999999687 4.216999999999743 4.243999999999752 4.304999999999772 4.344999999999786 4.863999999999959 4.883999999999966 4.887999999999967 4.908999999999974 5.314000000000109 5.328000000000114 5.339000000000118 5.392000000000135 5.682000000000232 5.782000000000266 5.790000000000268 5.817000000000277 5.82600000000028 5.875000000000297 6.046000000000354 6.053000000000356 6.1950000000004035 6.2010000000004055 6.381000000000466 6.387000000000468 7.32200000000078 7.328000000000782 8.054000000000975 8.062000000000971 9.270000000000302 9.277000000000298\n"
     ]
    },
    {
     "data": {
      "text/plain": [
       "215.47478699684143"
      ]
     },
     "execution_count": 87,
     "metadata": {},
     "output_type": "execute_result"
    },
    {
     "name": "stdout",
     "output_type": "stream",
     "text": [
      "\n"
     ]
    },
    {
     "data": {
      "text/plain": [
       "1591618581.2876022"
      ]
     },
     "execution_count": 88,
     "metadata": {},
     "output_type": "execute_result"
    }
   ],
   "source": [
    "# timestepping parameters\n",
    "tau = 0.001 #Parameter(0.0005)\n",
    "tend = 10\n",
    "#tau.Set()\n",
    "# matrix for implicit Euler \n",
    "mstar = BilinearForm(X)\n",
    "mstar += SymbolicBFI(u*v + tau*stokes)\n",
    "mstar.Assemble()\n",
    "inv = mstar.mat.Inverse(X.FreeDofs(), inverse=\"sparsecholesky\")\n",
    "\n",
    "# the non-linear term \n",
    "conv = BilinearForm(X, nonassemble = True)\n",
    "conv += (grad(u) * u) * v * dx\n",
    "\n",
    "# implicit Euler/explicit Euler splitting method:\n",
    "t = 0\n",
    "rt = time()\n",
    "with TaskManager():\n",
    "    while t < tend:\n",
    "        print (\"t=\", t, end=\"\\r\")\n",
    "\n",
    "        conv.Apply(gfu.vec, res)\n",
    "        res.data += a.mat*gfu.vec\n",
    "        gfu.vec.data -= tau * inv * res    \n",
    "\n",
    "        t = t + tau\n",
    "        Redraw()\n",
    "rt = time() - rt\n",
    "print()\n",
    "rt"
   ]
  },
  {
   "cell_type": "markdown",
   "metadata": {},
   "source": [
    "Do mochts an Wüabö!"
   ]
  },
  {
   "cell_type": "code",
   "execution_count": null,
   "metadata": {},
   "outputs": [],
   "source": []
  }
 ],
 "metadata": {
  "kernelspec": {
   "display_name": "Python 3",
   "language": "python",
   "name": "python3"
  },
  "language_info": {
   "codemirror_mode": {
    "name": "ipython",
    "version": 3
   },
   "file_extension": ".py",
   "mimetype": "text/x-python",
   "name": "python",
   "nbconvert_exporter": "python",
   "pygments_lexer": "ipython3",
   "version": "3.7.7"
  }
 },
 "nbformat": 4,
 "nbformat_minor": 4
}
