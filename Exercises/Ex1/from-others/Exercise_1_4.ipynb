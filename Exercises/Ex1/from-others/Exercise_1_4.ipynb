{
 "cells": [
  {
   "cell_type": "code",
   "execution_count": 1,
   "metadata": {
    "scrolled": true
   },
   "outputs": [],
   "source": [
    "import netgen.gui\n",
    "import numpy as np\n",
    "import matplotlib.pyplot as plt\n",
    "from ngsolve import *\n",
    "from netgen.geom2d import *"
   ]
  },
  {
   "cell_type": "code",
   "execution_count": 2,
   "metadata": {},
   "outputs": [],
   "source": [
    "L2Error = np.zeros(9)\n",
    "H1Error = np.zeros(9)\n",
    "k = np.arange(1,10)"
   ]
  },
  {
   "cell_type": "code",
   "execution_count": 3,
   "metadata": {},
   "outputs": [],
   "source": [
    "def MakeGeometry():\n",
    "    geo = SplineGeometry()\n",
    "    \n",
    "    points = [(0,0), (2,0), (2,1), (1,1), (1,2), (0,2)]\n",
    "    p1,p2,p3,p4,p5,p6 = [geo.AppendPoint(*pnt) for pnt in points]\n",
    "    curves = [['line',p1,p2], ['line',p2,p3], ['line',p3,p4], ['line',p4,p5], ['line', p5,p6], ['line',p6,p1]]\n",
    "    [geo.Append(c) for c in curves]\n",
    "    return geo\n",
    "\n",
    "mesh = Mesh(MakeGeometry().GenerateMesh(maxh=0.2))"
   ]
  },
  {
   "cell_type": "code",
   "execution_count": 4,
   "metadata": {},
   "outputs": [
    {
     "name": "stdout",
     "output_type": "stream",
     "text": [
      "L2-error: 0.13726701262951155\n",
      "H1-error: 0.46983428574637415\n",
      "1\n",
      "mean:  0.20190202330657517\n",
      "L2-error: 0.14354809652500444\n",
      "H1-error: 0.4836718063081898\n",
      "2\n",
      "mean:  0.21333236020147617\n",
      "L2-error: 0.14384196097219873\n",
      "H1-error: 0.4842545450231458\n",
      "3\n",
      "mean:  0.21381195463924632\n",
      "L2-error: 0.14393256619715658\n",
      "H1-error: 0.48441606913447866\n",
      "4\n",
      "mean:  0.21394234442360263\n",
      "L2-error: 0.1439716610284481\n",
      "H1-error: 0.4844704528249413\n",
      "5\n",
      "mean:  0.21399787043796245\n",
      "L2-error: 0.14399151372050845\n",
      "H1-error: 0.4844578672127086\n",
      "6\n",
      "mean:  0.21402594520689072\n",
      "L2-error: 0.14400224210063772\n",
      "H1-error: 0.4844379512011119\n",
      "7\n",
      "mean:  0.21404129715827896\n",
      "L2-error: 0.14400987189023695\n",
      "H1-error: 0.4844262636073357\n",
      "8\n",
      "mean:  0.21405253004563224\n",
      "L2-error: 0.14401401619609905\n",
      "H1-error: 0.48421287928342827\n",
      "9\n",
      "mean:  0.21405786713607697\n"
     ]
    }
   ],
   "source": [
    "for i in k:\n",
    "    # H1 conforming finite element space\n",
    "    fes = H1(mesh, order=int(i), dirichlet = [1,2,3,4,5,6])\n",
    "    \n",
    "    # define trial- and test-functions\n",
    "    u = fes.TrialFunction()\n",
    "    v = fes.TestFunction()\n",
    "    \n",
    "    # the right hand side\n",
    "    f = LinearForm(fes)\n",
    "    f += 1*v*dx\n",
    "    \n",
    "    # the bilinear-form\n",
    "    a = BilinearForm(fes, symmetric=True)\n",
    "    a += grad(u)*grad(v)*dx\n",
    "    \n",
    "    a.Assemble()\n",
    "    f.Assemble()\n",
    "    \n",
    "    # the solution field\n",
    "    gfu = GridFunction(fes)\n",
    "    gfu.vec.data = a.mat.Inverse(fes.FreeDofs(), inverse=\"sparsecholesky\") * f.vec\n",
    "    \n",
    "    # Add Error\n",
    "    L2Error[i-1] = sqrt(Integrate ((gfu)*(gfu), mesh) )\n",
    "    H1Error[i-1] = sqrt(Integrate ( (gfu)*(gfu), mesh) + Integrate(grad(gfu)*grad(gfu),mesh))\n",
    "    \n",
    "    print(\"L2-error:\", L2Error[i-1])\n",
    "    print(\"H1-error:\", H1Error[i-1])\n",
    "    print(i)\n",
    "    \n",
    "    # calculate mean value on / in Omega\n",
    "    mean = Integrate(gfu, mesh)\n",
    "    print(\"mean: \", mean)\n",
    "\n",
    "    Draw(gfu)\n",
    "    Draw(grad(gfu), mesh, 'partialderivatives')\n",
    "    "
   ]
  },
  {
   "cell_type": "code",
   "execution_count": 5,
   "metadata": {},
   "outputs": [
    {
     "data": {
      "image/png": "[encoded data removed]",
      "text/plain": [
       "<Figure size 432x288 with 2 Axes>"
      ]
     },
     "metadata": {},
     "output_type": "display_data"
    }
   ],
   "source": [
    "plt.figure(1)\n",
    "plt.subplot(121)\n",
    "plt.plot(k, L2Error/L2Error[-1])\n",
    "plt.xlabel('order')\n",
    "plt.title('$\\|L_2 \\|$')\n",
    "\n",
    "plt.subplot(122)\n",
    "plt.plot(k, H1Error/H1Error[-1])\n",
    "plt.xlabel('order')\n",
    "plt.title('$\\\\|H_1 \\\\|$')\n",
    "\n",
    "plt.show()"
   ]
  },
  {
   "cell_type": "code",
   "execution_count": null,
   "metadata": {},
   "outputs": [],
   "source": []
  }
 ],
 "metadata": {
  "kernelspec": {
   "display_name": "Python 3",
   "language": "python",
   "name": "python3"
  },
  "language_info": {
   "codemirror_mode": {
    "name": "ipython",
    "version": 3
   },
   "file_extension": ".py",
   "mimetype": "text/x-python",
   "name": "python",
   "nbconvert_exporter": "python",
   "pygments_lexer": "ipython3",
   "version": "3.6.9"
  }
 },
 "nbformat": 4,
 "nbformat_minor": 2
}
