{
 "cells": [
  {
   "cell_type": "code",
   "execution_count": null,
   "metadata": {},
   "outputs": [],
   "source": [
    "from netgen.geom2d import unit_square\n",
    "from ngsolve import *\n",
    "import netgen.gui\n",
    "import matplotlib.pyplot as plt"
   ]
  },
  {
   "cell_type": "markdown",
   "metadata": {},
   "source": [
    "# Example 10.1a\n",
    "\n",
    "a) Implement the weak formulation of the Dirichlet boundary conditions on the unit square with non homogenous Dirichlet boundary conditions uD = y(1 - y)(1 - x) and a zero right hand side. In NGSolve use the spaces:\n",
    "\n",
    "```\n",
    "V = H1(mesh, order = k)\n",
    "Q = SurfaceL2(mesh, order = k-1)\n",
    "```\n",
    "\n",
    "\\begin{align}\n",
    "-\\Delta u &= f &on\\ \\Omega=[0,1]^2 \\\\\n",
    "u &= u_D &on\\ \\Gamma_D = \\partial \\Omega\n",
    "\\end{align}\n",
    "with $f = 0$ and $u_D = y(1 - y)(1 - x)$"
   ]
  },
  {
   "cell_type": "code",
   "execution_count": null,
   "metadata": {},
   "outputs": [],
   "source": [
    "# Mesh\n",
    "mesh = Mesh(unit_square.GenerateMesh(maxh=0.1))\n",
    "\n",
    "mesh.GetBoundaries()"
   ]
  },
  {
   "cell_type": "code",
   "execution_count": null,
   "metadata": {},
   "outputs": [],
   "source": [
    "### SETUP parameters for the problem as given in the exercise sheet ###\n",
    "#######################################################################\n",
    "dirichlet = \"left|bottom|right|top\"\n",
    "rhs = Parameter(0.0)\n",
    "# Weak Dirichlet boundary condition\n",
    "ud = y*(1-y)*(1-x) # CoefficientFunction\n",
    "\n",
    "# FES(es)\n",
    "k = 2\n",
    "V = H1(mesh,order = k) #, dirichlet = dirichlet)\n",
    "Q = SurfaceL2(mesh, order = k-1)\n",
    "fes = FESpace([V, Q])\n",
    "fes\n",
    "(u, p), (v, q) = fes.TnT()\n",
    "\n",
    "# Bilinear Form\n",
    "a = BilinearForm(fes) #,symmetric=True)\n",
    "a += grad(u)*grad(v)*dx\n",
    "a += u*q*ds(definedon=dirichlet)\n",
    "a += p*v*ds(definedon=dirichlet)\n",
    "\n",
    "# Setup solution GridFunction\n",
    "# ud = 0 if bnd != left\n",
    "gf = GridFunction(fes) # solution\n",
    "gfu = gf.components[0]\n",
    "gfu.Set(ud) # set boundary condition\n",
    "Draw(gfu, mesh, 'u_D')\n",
    "\n",
    "# Linear Form\n",
    "f = LinearForm(fes)\n",
    "f += rhs*v*dx + ud*q*ds(definedon=dirichlet)"
   ]
  },
  {
   "cell_type": "code",
   "execution_count": null,
   "metadata": {},
   "outputs": [],
   "source": [
    "with TaskManager():\n",
    "    a.Assemble()\n",
    "    f.Assemble()\n",
    "    # Homogenize\n",
    "    #r = f.vec.CreateVector()\n",
    "    #r.data = f.vec - a.mat * gf.vec\n",
    "    # Solve\n",
    "    #gf.vec.data += a.mat.Inverse(freedofs=fes.FreeDofs()) * r\n",
    "    solvers.BVP(bf=a, lf=f, gf=gf)\n",
    "\n",
    "\n",
    "Draw(gfu, mesh, 'u_a')\n",
    "Draw(-grad(gfu), mesh, 'grad(u_a)')"
   ]
  },
  {
   "cell_type": "markdown",
   "metadata": {},
   "source": [
    "# Example 10.1b\n",
    "\n",
    "b) Follow the same steps as in the derivation of the mixed methods for the weak formulation of the Dirichlet boundary conditions in the lecture to derive a mixed method for the Poisson problem with Robin boundary conditions\n",
    "\n",
    "\\begin{align}\n",
    "-\\Delta u &= f &on\\ \\Omega=[0,1]^2 \\\\\n",
    "u - u_D &= \\epsilon \\frac{\\partial u}{\\partial n} &on\\ \\Gamma_R = \\partial \\Omega\n",
    "\\end{align}\n",
    "\n",
    "with a given $\\epsilon$ and $u_D$. Implement this method with $f = 100 e^{-100 ((x-0.5)^2+(y-0.5)^2)}$."
   ]
  },
  {
   "cell_type": "code",
   "execution_count": null,
   "metadata": {},
   "outputs": [],
   "source": [
    "### SETUP parameters for the problem as given in the exercise sheet ###\n",
    "#######################################################################\n",
    "robin = \"left|bottom|right|top\"\n",
    "\n",
    "# The exponent gives the squared distance to (0.5,0.5) in the 2D plane --> circle/sphere around middle point\n",
    "sphere = (x-0.5)*(x-0.5)+(y-0.5)*(y-0.5)\n",
    "# The resulting function can be interpreted as a Gaußian Distribution around the \"spheres\" middle point (0.5,0.5)\n",
    "rhs = 100*exp(-100*sphere)\n",
    "Draw(sphere, mesh, 'sphere')\n",
    "Draw(rhs, mesh, 'rhs')\n",
    "print(rhs)\n",
    "\n",
    "eps = Parameter(1.0)\n",
    "ud = Parameter(1.0)\n",
    "\n",
    "# FES(es)\n",
    "k = 2\n",
    "V = H1(mesh,order = k) #, dirichlet = dirichlet)\n",
    "Q = SurfaceL2(mesh, order = k-1)\n",
    "fes = FESpace([V, Q])\n",
    "fes\n",
    "(u, p), (v, q) = fes.TnT()\n",
    "\n",
    "# Bilinear Form\n",
    "a = BilinearForm(fes) #,symmetric=True)\n",
    "a += grad(u)*grad(v)*dx\n",
    "a += p*v*ds(definedon=robin)\n",
    "a += u*q*ds(definedon=robin)\n",
    "a += eps*p*q*ds(definedon=robin)\n",
    "\n",
    "# Linear Form\n",
    "f = LinearForm(fes)\n",
    "f += rhs*v*dx + ud*q*ds(definedon=robin)\n",
    "\n",
    "# Setup solution GridFunction\n",
    "gf = GridFunction(fes) # solution\n",
    "gfu = gf.components[0] # Compound Space --> We want solution of u later\n"
   ]
  },
  {
   "cell_type": "code",
   "execution_count": null,
   "metadata": {},
   "outputs": [],
   "source": [
    "with TaskManager():\n",
    "    a.Assemble()\n",
    "    f.Assemble()\n",
    "    # Homogenize\n",
    "    #r = f.vec.CreateVector()\n",
    "    #r.data = f.vec - a.mat * gf.vec\n",
    "    # Solve\n",
    "    #gf.vec.data += a.mat.Inverse(freedofs=fes.FreeDofs()) * r\n",
    "    solvers.BVP(bf=a, lf=f, gf=gf)\n",
    "\n",
    "\n",
    "Draw(gfu, mesh, 'u_b')\n",
    "Draw(-grad(gfu), mesh, 'grad(u_b)')"
   ]
  },
  {
   "cell_type": "code",
   "execution_count": null,
   "metadata": {},
   "outputs": [],
   "source": []
  }
 ],
 "metadata": {
  "kernelspec": {
   "display_name": "Python 3.7.6 64-bit",
   "language": "python",
   "name": "python37664bit4489523be0f842fd844ba43517f7e19c"
  },
  "language_info": {
   "codemirror_mode": {
    "name": "ipython",
    "version": 3
   },
   "file_extension": ".py",
   "mimetype": "text/x-python",
   "name": "python",
   "nbconvert_exporter": "python",
   "pygments_lexer": "ipython3",
   "version": "3.7.6"
  }
 },
 "nbformat": 4,
 "nbformat_minor": 4
}
